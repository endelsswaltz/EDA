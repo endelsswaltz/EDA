{
 "cells": [
  {
   "cell_type": "markdown",
   "metadata": {},
   "source": [
    "# Electricity Market "
   ]
  },
  {
   "cell_type": "markdown",
   "metadata": {},
   "source": [
    "### Exploratory Analysis of the Electricity Market"
   ]
  },
  {
   "cell_type": "markdown",
   "metadata": {},
   "source": [
    "##### Import Libraries"
   ]
  },
  {
   "cell_type": "code",
   "execution_count": 1,
   "metadata": {},
   "outputs": [
    {
     "data": {
      "text/html": [
       "        <script type=\"text/javascript\">\n",
       "        window.PlotlyConfig = {MathJaxConfig: 'local'};\n",
       "        if (window.MathJax) {MathJax.Hub.Config({SVG: {font: \"STIX-Web\"}});}\n",
       "        if (typeof require !== 'undefined') {\n",
       "        require.undef(\"plotly\");\n",
       "        requirejs.config({\n",
       "            paths: {\n",
       "                'plotly': ['https://cdn.plot.ly/plotly-2.8.3.min']\n",
       "            }\n",
       "        });\n",
       "        require(['plotly'], function(Plotly) {\n",
       "            window._Plotly = Plotly;\n",
       "        });\n",
       "        }\n",
       "        </script>\n",
       "        "
      ]
     },
     "metadata": {},
     "output_type": "display_data"
    }
   ],
   "source": [
    "import pandas as pd\n",
    "import numpy as np\n",
    "import seaborn as sns\n",
    "import plotly.express as px\n",
    "import plotly.graph_objects as go\n",
    "%matplotlib inline\n",
    "\n",
    "# Make Plotly work in your Jupyter Notebook\n",
    "from plotly.offline import download_plotlyjs, init_notebook_mode, plot, iplot\n",
    "init_notebook_mode(connected=True)\n"
   ]
  },
  {
   "cell_type": "code",
   "execution_count": 2,
   "metadata": {},
   "outputs": [],
   "source": [
    "import chart_studio\n",
    "import chart_studio.plotly as py\n",
    "import chart_studio.tools as tls"
   ]
  },
  {
   "cell_type": "code",
   "execution_count": 3,
   "metadata": {},
   "outputs": [],
   "source": [
    "username = 'onik321'\n",
    "api_key = 'vNQmwJGoIoU5Ys6Fq3cr'"
   ]
  },
  {
   "cell_type": "code",
   "execution_count": 4,
   "metadata": {},
   "outputs": [],
   "source": [
    "chart_studio.tools.set_credentials_file(username=username, api_key=api_key)"
   ]
  },
  {
   "cell_type": "markdown",
   "metadata": {},
   "source": [
    "##### Upload Data"
   ]
  },
  {
   "cell_type": "code",
   "execution_count": 5,
   "metadata": {},
   "outputs": [],
   "source": [
    "MarketShare = pd.read_excel (r'C:\\Users\\FiercePC\\Downloads\\FCA\\2nd Stage Data Analyst Assessment - Data Tables 20210105.xlsx' , sheet_name='Market share data')\n",
    "ElectricitySwitches = pd.read_excel (r'C:\\Users\\FiercePC\\Downloads\\FCA\\2nd Stage Data Analyst Assessment - Data Tables 20210105.xlsx' , sheet_name='Electricity switches')\n",
    "AverageTariffs = pd.read_excel (r'C:\\Users\\FiercePC\\Downloads\\FCA\\2nd Stage Data Analyst Assessment - Data Tables 20210105.xlsx' , sheet_name='Average tariffs')\n",
    "CustomerSatisfaction = pd.read_excel (r'C:\\Users\\FiercePC\\Downloads\\FCA\\2nd Stage Data Analyst Assessment - Data Tables 20210105.xlsx' , sheet_name='Customer satisfaction')"
   ]
  },
  {
   "cell_type": "markdown",
   "metadata": {},
   "source": [
    "#### DATA EXPLORATION"
   ]
  },
  {
   "cell_type": "markdown",
   "metadata": {},
   "source": [
    "###### Information on the data type and entries"
   ]
  },
  {
   "cell_type": "code",
   "execution_count": 6,
   "metadata": {},
   "outputs": [
    {
     "name": "stdout",
     "output_type": "stream",
     "text": [
      "<class 'pandas.core.frame.DataFrame'>\n",
      "RangeIndex: 25 entries, 0 to 24\n",
      "Data columns (total 15 columns):\n",
      " #   Column               Non-Null Count  Dtype  \n",
      "---  ------               --------------  -----  \n",
      " 0   Date                 25 non-null     object \n",
      " 1   British Gas          25 non-null     float64\n",
      " 2   EDF                  25 non-null     float64\n",
      " 3   E.ON                 25 non-null     float64\n",
      " 4   npower               25 non-null     float64\n",
      " 5   Scottish Power       25 non-null     float64\n",
      " 6   SSE                  25 non-null     float64\n",
      " 7   Co-operative Energy  22 non-null     float64\n",
      " 8   First Utility        22 non-null     float64\n",
      " 9   OVO Energy           22 non-null     float64\n",
      " 10  Utilita              22 non-null     float64\n",
      " 11  Utility Warehouse    22 non-null     float64\n",
      " 12  Green Star Energy    21 non-null     float64\n",
      " 13  Bulb                 11 non-null     float64\n",
      " 14  Small Suppliers      25 non-null     float64\n",
      "dtypes: float64(14), object(1)\n",
      "memory usage: 3.1+ KB\n"
     ]
    }
   ],
   "source": [
    "MarketShare.info()"
   ]
  },
  {
   "cell_type": "markdown",
   "metadata": {},
   "source": [
    "###### Count of the sum of the missing values in each column"
   ]
  },
  {
   "cell_type": "code",
   "execution_count": 7,
   "metadata": {},
   "outputs": [
    {
     "data": {
      "text/plain": [
       "Date                    0\n",
       "British Gas             0\n",
       "EDF                     0\n",
       "E.ON                    0\n",
       "npower                  0\n",
       "Scottish Power          0\n",
       "SSE                     0\n",
       "Co-operative Energy     3\n",
       "First Utility           3\n",
       "OVO Energy              3\n",
       "Utilita                 3\n",
       "Utility Warehouse       3\n",
       "Green Star Energy       4\n",
       "Bulb                   14\n",
       "Small Suppliers         0\n",
       "dtype: int64"
      ]
     },
     "execution_count": 7,
     "metadata": {},
     "output_type": "execute_result"
    }
   ],
   "source": [
    "MarketShare.isnull().sum()"
   ]
  },
  {
   "cell_type": "markdown",
   "metadata": {},
   "source": [
    "###### Detailed information on the numerical values of the data"
   ]
  },
  {
   "cell_type": "code",
   "execution_count": 8,
   "metadata": {},
   "outputs": [
    {
     "data": {
      "text/html": [
       "<div>\n",
       "<style scoped>\n",
       "    .dataframe tbody tr th:only-of-type {\n",
       "        vertical-align: middle;\n",
       "    }\n",
       "\n",
       "    .dataframe tbody tr th {\n",
       "        vertical-align: top;\n",
       "    }\n",
       "\n",
       "    .dataframe thead th {\n",
       "        text-align: right;\n",
       "    }\n",
       "</style>\n",
       "<table border=\"1\" class=\"dataframe\">\n",
       "  <thead>\n",
       "    <tr style=\"text-align: right;\">\n",
       "      <th></th>\n",
       "      <th>British Gas</th>\n",
       "      <th>EDF</th>\n",
       "      <th>E.ON</th>\n",
       "      <th>npower</th>\n",
       "      <th>Scottish Power</th>\n",
       "      <th>SSE</th>\n",
       "      <th>Co-operative Energy</th>\n",
       "      <th>First Utility</th>\n",
       "      <th>OVO Energy</th>\n",
       "      <th>Utilita</th>\n",
       "      <th>Utility Warehouse</th>\n",
       "      <th>Green Star Energy</th>\n",
       "      <th>Bulb</th>\n",
       "      <th>Small Suppliers</th>\n",
       "    </tr>\n",
       "  </thead>\n",
       "  <tbody>\n",
       "    <tr>\n",
       "      <th>count</th>\n",
       "      <td>25.000000</td>\n",
       "      <td>25.000000</td>\n",
       "      <td>25.000000</td>\n",
       "      <td>25.000000</td>\n",
       "      <td>25.0000</td>\n",
       "      <td>25.000000</td>\n",
       "      <td>22.000000</td>\n",
       "      <td>22.000000</td>\n",
       "      <td>22.000000</td>\n",
       "      <td>22.000000</td>\n",
       "      <td>22.000000</td>\n",
       "      <td>21.000000</td>\n",
       "      <td>11.000000</td>\n",
       "      <td>25.00000</td>\n",
       "    </tr>\n",
       "    <tr>\n",
       "      <th>mean</th>\n",
       "      <td>0.234800</td>\n",
       "      <td>0.124400</td>\n",
       "      <td>0.154000</td>\n",
       "      <td>0.113600</td>\n",
       "      <td>0.1112</td>\n",
       "      <td>0.164000</td>\n",
       "      <td>0.008636</td>\n",
       "      <td>0.023636</td>\n",
       "      <td>0.015909</td>\n",
       "      <td>0.009091</td>\n",
       "      <td>0.015909</td>\n",
       "      <td>0.002381</td>\n",
       "      <td>0.001818</td>\n",
       "      <td>0.03240</td>\n",
       "    </tr>\n",
       "    <tr>\n",
       "      <th>std</th>\n",
       "      <td>0.015033</td>\n",
       "      <td>0.006506</td>\n",
       "      <td>0.014142</td>\n",
       "      <td>0.016299</td>\n",
       "      <td>0.0060</td>\n",
       "      <td>0.016833</td>\n",
       "      <td>0.004676</td>\n",
       "      <td>0.009021</td>\n",
       "      <td>0.009081</td>\n",
       "      <td>0.008112</td>\n",
       "      <td>0.007964</td>\n",
       "      <td>0.004364</td>\n",
       "      <td>0.004045</td>\n",
       "      <td>0.02758</td>\n",
       "    </tr>\n",
       "    <tr>\n",
       "      <th>min</th>\n",
       "      <td>0.200000</td>\n",
       "      <td>0.110000</td>\n",
       "      <td>0.130000</td>\n",
       "      <td>0.090000</td>\n",
       "      <td>0.1000</td>\n",
       "      <td>0.140000</td>\n",
       "      <td>0.000000</td>\n",
       "      <td>0.010000</td>\n",
       "      <td>0.000000</td>\n",
       "      <td>0.000000</td>\n",
       "      <td>0.000000</td>\n",
       "      <td>0.000000</td>\n",
       "      <td>0.000000</td>\n",
       "      <td>0.00000</td>\n",
       "    </tr>\n",
       "    <tr>\n",
       "      <th>25%</th>\n",
       "      <td>0.230000</td>\n",
       "      <td>0.120000</td>\n",
       "      <td>0.140000</td>\n",
       "      <td>0.100000</td>\n",
       "      <td>0.1100</td>\n",
       "      <td>0.150000</td>\n",
       "      <td>0.010000</td>\n",
       "      <td>0.012500</td>\n",
       "      <td>0.010000</td>\n",
       "      <td>0.000000</td>\n",
       "      <td>0.020000</td>\n",
       "      <td>0.000000</td>\n",
       "      <td>0.000000</td>\n",
       "      <td>0.01000</td>\n",
       "    </tr>\n",
       "    <tr>\n",
       "      <th>50%</th>\n",
       "      <td>0.240000</td>\n",
       "      <td>0.130000</td>\n",
       "      <td>0.160000</td>\n",
       "      <td>0.110000</td>\n",
       "      <td>0.1100</td>\n",
       "      <td>0.160000</td>\n",
       "      <td>0.010000</td>\n",
       "      <td>0.030000</td>\n",
       "      <td>0.020000</td>\n",
       "      <td>0.010000</td>\n",
       "      <td>0.020000</td>\n",
       "      <td>0.000000</td>\n",
       "      <td>0.000000</td>\n",
       "      <td>0.02000</td>\n",
       "    </tr>\n",
       "    <tr>\n",
       "      <th>75%</th>\n",
       "      <td>0.250000</td>\n",
       "      <td>0.130000</td>\n",
       "      <td>0.160000</td>\n",
       "      <td>0.130000</td>\n",
       "      <td>0.1100</td>\n",
       "      <td>0.180000</td>\n",
       "      <td>0.010000</td>\n",
       "      <td>0.030000</td>\n",
       "      <td>0.020000</td>\n",
       "      <td>0.017500</td>\n",
       "      <td>0.020000</td>\n",
       "      <td>0.000000</td>\n",
       "      <td>0.000000</td>\n",
       "      <td>0.05000</td>\n",
       "    </tr>\n",
       "    <tr>\n",
       "      <th>max</th>\n",
       "      <td>0.250000</td>\n",
       "      <td>0.130000</td>\n",
       "      <td>0.170000</td>\n",
       "      <td>0.140000</td>\n",
       "      <td>0.1200</td>\n",
       "      <td>0.190000</td>\n",
       "      <td>0.020000</td>\n",
       "      <td>0.030000</td>\n",
       "      <td>0.030000</td>\n",
       "      <td>0.020000</td>\n",
       "      <td>0.020000</td>\n",
       "      <td>0.010000</td>\n",
       "      <td>0.010000</td>\n",
       "      <td>0.09000</td>\n",
       "    </tr>\n",
       "  </tbody>\n",
       "</table>\n",
       "</div>"
      ],
      "text/plain": [
       "       British Gas        EDF       E.ON     npower  Scottish Power  \\\n",
       "count    25.000000  25.000000  25.000000  25.000000         25.0000   \n",
       "mean      0.234800   0.124400   0.154000   0.113600          0.1112   \n",
       "std       0.015033   0.006506   0.014142   0.016299          0.0060   \n",
       "min       0.200000   0.110000   0.130000   0.090000          0.1000   \n",
       "25%       0.230000   0.120000   0.140000   0.100000          0.1100   \n",
       "50%       0.240000   0.130000   0.160000   0.110000          0.1100   \n",
       "75%       0.250000   0.130000   0.160000   0.130000          0.1100   \n",
       "max       0.250000   0.130000   0.170000   0.140000          0.1200   \n",
       "\n",
       "             SSE  Co-operative Energy  First Utility  OVO Energy    Utilita  \\\n",
       "count  25.000000            22.000000      22.000000   22.000000  22.000000   \n",
       "mean    0.164000             0.008636       0.023636    0.015909   0.009091   \n",
       "std     0.016833             0.004676       0.009021    0.009081   0.008112   \n",
       "min     0.140000             0.000000       0.010000    0.000000   0.000000   \n",
       "25%     0.150000             0.010000       0.012500    0.010000   0.000000   \n",
       "50%     0.160000             0.010000       0.030000    0.020000   0.010000   \n",
       "75%     0.180000             0.010000       0.030000    0.020000   0.017500   \n",
       "max     0.190000             0.020000       0.030000    0.030000   0.020000   \n",
       "\n",
       "       Utility Warehouse  Green Star Energy       Bulb  Small Suppliers  \n",
       "count          22.000000          21.000000  11.000000         25.00000  \n",
       "mean            0.015909           0.002381   0.001818          0.03240  \n",
       "std             0.007964           0.004364   0.004045          0.02758  \n",
       "min             0.000000           0.000000   0.000000          0.00000  \n",
       "25%             0.020000           0.000000   0.000000          0.01000  \n",
       "50%             0.020000           0.000000   0.000000          0.02000  \n",
       "75%             0.020000           0.000000   0.000000          0.05000  \n",
       "max             0.020000           0.010000   0.010000          0.09000  "
      ]
     },
     "execution_count": 8,
     "metadata": {},
     "output_type": "execute_result"
    }
   ],
   "source": [
    "MarketShare.describe()"
   ]
  },
  {
   "cell_type": "code",
   "execution_count": 26,
   "metadata": {},
   "outputs": [
    {
     "data": {
      "application/vnd.plotly.v1+json": {
       "config": {
        "plotlyServerURL": "https://plotly.com"
       },
       "data": [
        {
         "hovertemplate": "variable=British Gas<br>Date=%{x}<br>value=%{y}<extra></extra>",
         "legendgroup": "British Gas",
         "line": {
          "color": "#636efa"
         },
         "marker": {
          "symbol": "circle"
         },
         "mode": "lines",
         "name": "British Gas",
         "orientation": "v",
         "showlegend": true,
         "stackgroup": "1",
         "type": "scatter",
         "x": [
          "Q1 2012",
          "Q2 2012",
          "Q3 2012",
          "Q4 2012",
          "Q1 2013",
          "Q2 2013",
          "Q3 2013",
          "Q4 2013",
          "Q1 2014",
          "Q2 2014",
          "Q3 2014",
          "Q4 2014",
          "Q1 2015",
          "Q2 2015",
          "Q3 2015",
          "Q4 2015",
          "Q1 2016",
          "Q2 2016",
          "Q3 2016",
          "Q4 2016",
          "Q1 2017",
          "Q2 2017",
          "Q3 2017",
          "Q4 2017",
          "Q1 2018"
         ],
         "xaxis": "x",
         "y": [
          0.25,
          0.25,
          0.25,
          0.25,
          0.25,
          0.25,
          0.25,
          0.24,
          0.24,
          0.24,
          0.24,
          0.24,
          0.24,
          0.24,
          0.24,
          0.23,
          0.23,
          0.23,
          0.23,
          0.23,
          0.22,
          0.22,
          0.21,
          0.2,
          0.2
         ],
         "yaxis": "y"
        },
        {
         "hovertemplate": "variable=EDF<br>Date=%{x}<br>value=%{y}<extra></extra>",
         "legendgroup": "EDF",
         "line": {
          "color": "#EF553B"
         },
         "marker": {
          "symbol": "circle"
         },
         "mode": "lines",
         "name": "EDF",
         "orientation": "v",
         "showlegend": true,
         "stackgroup": "1",
         "type": "scatter",
         "x": [
          "Q1 2012",
          "Q2 2012",
          "Q3 2012",
          "Q4 2012",
          "Q1 2013",
          "Q2 2013",
          "Q3 2013",
          "Q4 2013",
          "Q1 2014",
          "Q2 2014",
          "Q3 2014",
          "Q4 2014",
          "Q1 2015",
          "Q2 2015",
          "Q3 2015",
          "Q4 2015",
          "Q1 2016",
          "Q2 2016",
          "Q3 2016",
          "Q4 2016",
          "Q1 2017",
          "Q2 2017",
          "Q3 2017",
          "Q4 2017",
          "Q1 2018"
         ],
         "xaxis": "x",
         "y": [
          0.13,
          0.13,
          0.13,
          0.13,
          0.13,
          0.13,
          0.13,
          0.13,
          0.13,
          0.13,
          0.13,
          0.13,
          0.13,
          0.12,
          0.12,
          0.12,
          0.12,
          0.12,
          0.12,
          0.12,
          0.12,
          0.12,
          0.12,
          0.11,
          0.11
         ],
         "yaxis": "y"
        },
        {
         "hovertemplate": "variable=E.ON<br>Date=%{x}<br>value=%{y}<extra></extra>",
         "legendgroup": "E.ON",
         "line": {
          "color": "#00cc96"
         },
         "marker": {
          "symbol": "circle"
         },
         "mode": "lines",
         "name": "E.ON",
         "orientation": "v",
         "showlegend": true,
         "stackgroup": "1",
         "type": "scatter",
         "x": [
          "Q1 2012",
          "Q2 2012",
          "Q3 2012",
          "Q4 2012",
          "Q1 2013",
          "Q2 2013",
          "Q3 2013",
          "Q4 2013",
          "Q1 2014",
          "Q2 2014",
          "Q3 2014",
          "Q4 2014",
          "Q1 2015",
          "Q2 2015",
          "Q3 2015",
          "Q4 2015",
          "Q1 2016",
          "Q2 2016",
          "Q3 2016",
          "Q4 2016",
          "Q1 2017",
          "Q2 2017",
          "Q3 2017",
          "Q4 2017",
          "Q1 2018"
         ],
         "xaxis": "x",
         "y": [
          0.17,
          0.17,
          0.17,
          0.17,
          0.17,
          0.17,
          0.16,
          0.16,
          0.16,
          0.16,
          0.16,
          0.16,
          0.16,
          0.16,
          0.16,
          0.15,
          0.15,
          0.15,
          0.14,
          0.14,
          0.14,
          0.13,
          0.13,
          0.13,
          0.13
         ],
         "yaxis": "y"
        },
        {
         "hovertemplate": "variable=npower<br>Date=%{x}<br>value=%{y}<extra></extra>",
         "legendgroup": "npower",
         "line": {
          "color": "#ab63fa"
         },
         "marker": {
          "symbol": "circle"
         },
         "mode": "lines",
         "name": "npower",
         "orientation": "v",
         "showlegend": true,
         "stackgroup": "1",
         "type": "scatter",
         "x": [
          "Q1 2012",
          "Q2 2012",
          "Q3 2012",
          "Q4 2012",
          "Q1 2013",
          "Q2 2013",
          "Q3 2013",
          "Q4 2013",
          "Q1 2014",
          "Q2 2014",
          "Q3 2014",
          "Q4 2014",
          "Q1 2015",
          "Q2 2015",
          "Q3 2015",
          "Q4 2015",
          "Q1 2016",
          "Q2 2016",
          "Q3 2016",
          "Q4 2016",
          "Q1 2017",
          "Q2 2017",
          "Q3 2017",
          "Q4 2017",
          "Q1 2018"
         ],
         "xaxis": "x",
         "y": [
          0.14,
          0.14,
          0.14,
          0.14,
          0.13,
          0.13,
          0.13,
          0.12,
          0.12,
          0.12,
          0.11,
          0.11,
          0.11,
          0.11,
          0.11,
          0.1,
          0.1,
          0.1,
          0.1,
          0.1,
          0.09,
          0.1,
          0.1,
          0.1,
          0.09
         ],
         "yaxis": "y"
        },
        {
         "hovertemplate": "variable=Scottish Power<br>Date=%{x}<br>value=%{y}<extra></extra>",
         "legendgroup": "Scottish Power",
         "line": {
          "color": "#FFA15A"
         },
         "marker": {
          "symbol": "circle"
         },
         "mode": "lines",
         "name": "Scottish Power",
         "orientation": "v",
         "showlegend": true,
         "stackgroup": "1",
         "type": "scatter",
         "x": [
          "Q1 2012",
          "Q2 2012",
          "Q3 2012",
          "Q4 2012",
          "Q1 2013",
          "Q2 2013",
          "Q3 2013",
          "Q4 2013",
          "Q1 2014",
          "Q2 2014",
          "Q3 2014",
          "Q4 2014",
          "Q1 2015",
          "Q2 2015",
          "Q3 2015",
          "Q4 2015",
          "Q1 2016",
          "Q2 2016",
          "Q3 2016",
          "Q4 2016",
          "Q1 2017",
          "Q2 2017",
          "Q3 2017",
          "Q4 2017",
          "Q1 2018"
         ],
         "xaxis": "x",
         "y": [
          0.11,
          0.11,
          0.11,
          0.12,
          0.12,
          0.12,
          0.12,
          0.12,
          0.12,
          0.11,
          0.11,
          0.11,
          0.11,
          0.11,
          0.11,
          0.11,
          0.11,
          0.11,
          0.11,
          0.11,
          0.11,
          0.11,
          0.1,
          0.1,
          0.1
         ],
         "yaxis": "y"
        },
        {
         "hovertemplate": "variable=SSE<br>Date=%{x}<br>value=%{y}<extra></extra>",
         "legendgroup": "SSE",
         "line": {
          "color": "#19d3f3"
         },
         "marker": {
          "symbol": "circle"
         },
         "mode": "lines",
         "name": "SSE",
         "orientation": "v",
         "showlegend": true,
         "stackgroup": "1",
         "type": "scatter",
         "x": [
          "Q1 2012",
          "Q2 2012",
          "Q3 2012",
          "Q4 2012",
          "Q1 2013",
          "Q2 2013",
          "Q3 2013",
          "Q4 2013",
          "Q1 2014",
          "Q2 2014",
          "Q3 2014",
          "Q4 2014",
          "Q1 2015",
          "Q2 2015",
          "Q3 2015",
          "Q4 2015",
          "Q1 2016",
          "Q2 2016",
          "Q3 2016",
          "Q4 2016",
          "Q1 2017",
          "Q2 2017",
          "Q3 2017",
          "Q4 2017",
          "Q1 2018"
         ],
         "xaxis": "x",
         "y": [
          0.19,
          0.19,
          0.19,
          0.18,
          0.18,
          0.18,
          0.18,
          0.18,
          0.17,
          0.17,
          0.17,
          0.17,
          0.16,
          0.16,
          0.16,
          0.16,
          0.15,
          0.15,
          0.15,
          0.15,
          0.15,
          0.14,
          0.14,
          0.14,
          0.14
         ],
         "yaxis": "y"
        },
        {
         "hovertemplate": "variable=Co-operative Energy<br>Date=%{x}<br>value=%{y}<extra></extra>",
         "legendgroup": "Co-operative Energy",
         "line": {
          "color": "#FF6692"
         },
         "marker": {
          "symbol": "circle"
         },
         "mode": "lines",
         "name": "Co-operative Energy",
         "orientation": "v",
         "showlegend": true,
         "stackgroup": "1",
         "type": "scatter",
         "x": [
          "Q1 2012",
          "Q2 2012",
          "Q3 2012",
          "Q4 2012",
          "Q1 2013",
          "Q2 2013",
          "Q3 2013",
          "Q4 2013",
          "Q1 2014",
          "Q2 2014",
          "Q3 2014",
          "Q4 2014",
          "Q1 2015",
          "Q2 2015",
          "Q3 2015",
          "Q4 2015",
          "Q1 2016",
          "Q2 2016",
          "Q3 2016",
          "Q4 2016",
          "Q1 2017",
          "Q2 2017",
          "Q3 2017",
          "Q4 2017",
          "Q1 2018"
         ],
         "xaxis": "x",
         "y": [
          null,
          null,
          null,
          0,
          0,
          0,
          0,
          0.01,
          0.01,
          0.01,
          0.01,
          0.01,
          0.01,
          0.01,
          0.01,
          0.01,
          0.01,
          0.01,
          0.01,
          0.01,
          0.02,
          0.01,
          0.01,
          0.01,
          0.01
         ],
         "yaxis": "y"
        },
        {
         "hovertemplate": "variable=First Utility<br>Date=%{x}<br>value=%{y}<extra></extra>",
         "legendgroup": "First Utility",
         "line": {
          "color": "#B6E880"
         },
         "marker": {
          "symbol": "circle"
         },
         "mode": "lines",
         "name": "First Utility",
         "orientation": "v",
         "showlegend": true,
         "stackgroup": "1",
         "type": "scatter",
         "x": [
          "Q1 2012",
          "Q2 2012",
          "Q3 2012",
          "Q4 2012",
          "Q1 2013",
          "Q2 2013",
          "Q3 2013",
          "Q4 2013",
          "Q1 2014",
          "Q2 2014",
          "Q3 2014",
          "Q4 2014",
          "Q1 2015",
          "Q2 2015",
          "Q3 2015",
          "Q4 2015",
          "Q1 2016",
          "Q2 2016",
          "Q3 2016",
          "Q4 2016",
          "Q1 2017",
          "Q2 2017",
          "Q3 2017",
          "Q4 2017",
          "Q1 2018"
         ],
         "xaxis": "x",
         "y": [
          null,
          null,
          null,
          0.01,
          0.01,
          0.01,
          0.01,
          0.01,
          0.01,
          0.02,
          0.02,
          0.03,
          0.03,
          0.03,
          0.03,
          0.03,
          0.03,
          0.03,
          0.03,
          0.03,
          0.03,
          0.03,
          0.03,
          0.03,
          0.03
         ],
         "yaxis": "y"
        },
        {
         "hovertemplate": "variable=OVO Energy<br>Date=%{x}<br>value=%{y}<extra></extra>",
         "legendgroup": "OVO Energy",
         "line": {
          "color": "#FF97FF"
         },
         "marker": {
          "symbol": "circle"
         },
         "mode": "lines",
         "name": "OVO Energy",
         "orientation": "v",
         "showlegend": true,
         "stackgroup": "1",
         "type": "scatter",
         "x": [
          "Q1 2012",
          "Q2 2012",
          "Q3 2012",
          "Q4 2012",
          "Q1 2013",
          "Q2 2013",
          "Q3 2013",
          "Q4 2013",
          "Q1 2014",
          "Q2 2014",
          "Q3 2014",
          "Q4 2014",
          "Q1 2015",
          "Q2 2015",
          "Q3 2015",
          "Q4 2015",
          "Q1 2016",
          "Q2 2016",
          "Q3 2016",
          "Q4 2016",
          "Q1 2017",
          "Q2 2017",
          "Q3 2017",
          "Q4 2017",
          "Q1 2018"
         ],
         "xaxis": "x",
         "y": [
          null,
          null,
          null,
          0,
          0.01,
          0.01,
          0,
          0,
          0.01,
          0.01,
          0.01,
          0.01,
          0.02,
          0.02,
          0.02,
          0.02,
          0.02,
          0.02,
          0.02,
          0.02,
          0.02,
          0.02,
          0.03,
          0.03,
          0.03
         ],
         "yaxis": "y"
        },
        {
         "hovertemplate": "variable=Utilita<br>Date=%{x}<br>value=%{y}<extra></extra>",
         "legendgroup": "Utilita",
         "line": {
          "color": "#FECB52"
         },
         "marker": {
          "symbol": "circle"
         },
         "mode": "lines",
         "name": "Utilita",
         "orientation": "v",
         "showlegend": true,
         "stackgroup": "1",
         "type": "scatter",
         "x": [
          "Q1 2012",
          "Q2 2012",
          "Q3 2012",
          "Q4 2012",
          "Q1 2013",
          "Q2 2013",
          "Q3 2013",
          "Q4 2013",
          "Q1 2014",
          "Q2 2014",
          "Q3 2014",
          "Q4 2014",
          "Q1 2015",
          "Q2 2015",
          "Q3 2015",
          "Q4 2015",
          "Q1 2016",
          "Q2 2016",
          "Q3 2016",
          "Q4 2016",
          "Q1 2017",
          "Q2 2017",
          "Q3 2017",
          "Q4 2017",
          "Q1 2018"
         ],
         "xaxis": "x",
         "y": [
          null,
          null,
          null,
          0,
          0,
          0,
          0,
          0,
          0,
          0,
          0,
          0.01,
          0.01,
          0.01,
          0.01,
          0.01,
          0.01,
          0.01,
          0.01,
          0.02,
          0.02,
          0.02,
          0.02,
          0.02,
          0.02
         ],
         "yaxis": "y"
        },
        {
         "hovertemplate": "variable=Utility Warehouse<br>Date=%{x}<br>value=%{y}<extra></extra>",
         "legendgroup": "Utility Warehouse",
         "line": {
          "color": "#636efa"
         },
         "marker": {
          "symbol": "circle"
         },
         "mode": "lines",
         "name": "Utility Warehouse",
         "orientation": "v",
         "showlegend": true,
         "stackgroup": "1",
         "type": "scatter",
         "x": [
          "Q1 2012",
          "Q2 2012",
          "Q3 2012",
          "Q4 2012",
          "Q1 2013",
          "Q2 2013",
          "Q3 2013",
          "Q4 2013",
          "Q1 2014",
          "Q2 2014",
          "Q3 2014",
          "Q4 2014",
          "Q1 2015",
          "Q2 2015",
          "Q3 2015",
          "Q4 2015",
          "Q1 2016",
          "Q2 2016",
          "Q3 2016",
          "Q4 2016",
          "Q1 2017",
          "Q2 2017",
          "Q3 2017",
          "Q4 2017",
          "Q1 2018"
         ],
         "xaxis": "x",
         "y": [
          null,
          null,
          null,
          0,
          0,
          0,
          0,
          0.01,
          0.02,
          0.02,
          0.02,
          0.02,
          0.02,
          0.02,
          0.02,
          0.02,
          0.02,
          0.02,
          0.02,
          0.02,
          0.02,
          0.02,
          0.02,
          0.02,
          0.02
         ],
         "yaxis": "y"
        },
        {
         "hovertemplate": "variable=Green Star Energy<br>Date=%{x}<br>value=%{y}<extra></extra>",
         "legendgroup": "Green Star Energy",
         "line": {
          "color": "#EF553B"
         },
         "marker": {
          "symbol": "circle"
         },
         "mode": "lines",
         "name": "Green Star Energy",
         "orientation": "v",
         "showlegend": true,
         "stackgroup": "1",
         "type": "scatter",
         "x": [
          "Q1 2012",
          "Q2 2012",
          "Q3 2012",
          "Q4 2012",
          "Q1 2013",
          "Q2 2013",
          "Q3 2013",
          "Q4 2013",
          "Q1 2014",
          "Q2 2014",
          "Q3 2014",
          "Q4 2014",
          "Q1 2015",
          "Q2 2015",
          "Q3 2015",
          "Q4 2015",
          "Q1 2016",
          "Q2 2016",
          "Q3 2016",
          "Q4 2016",
          "Q1 2017",
          "Q2 2017",
          "Q3 2017",
          "Q4 2017",
          "Q1 2018"
         ],
         "xaxis": "x",
         "y": [
          null,
          null,
          null,
          null,
          0,
          0,
          0,
          0,
          0,
          0,
          0,
          0,
          0,
          0,
          0,
          0,
          0,
          0,
          0,
          0,
          0.01,
          0.01,
          0.01,
          0.01,
          0.01
         ],
         "yaxis": "y"
        },
        {
         "hovertemplate": "variable=Bulb<br>Date=%{x}<br>value=%{y}<extra></extra>",
         "legendgroup": "Bulb",
         "line": {
          "color": "#00cc96"
         },
         "marker": {
          "symbol": "circle"
         },
         "mode": "lines",
         "name": "Bulb",
         "orientation": "v",
         "showlegend": true,
         "stackgroup": "1",
         "type": "scatter",
         "x": [
          "Q1 2012",
          "Q2 2012",
          "Q3 2012",
          "Q4 2012",
          "Q1 2013",
          "Q2 2013",
          "Q3 2013",
          "Q4 2013",
          "Q1 2014",
          "Q2 2014",
          "Q3 2014",
          "Q4 2014",
          "Q1 2015",
          "Q2 2015",
          "Q3 2015",
          "Q4 2015",
          "Q1 2016",
          "Q2 2016",
          "Q3 2016",
          "Q4 2016",
          "Q1 2017",
          "Q2 2017",
          "Q3 2017",
          "Q4 2017",
          "Q1 2018"
         ],
         "xaxis": "x",
         "y": [
          null,
          null,
          null,
          null,
          null,
          null,
          null,
          null,
          null,
          null,
          null,
          null,
          null,
          null,
          0,
          0,
          0,
          0,
          0,
          0,
          0,
          0,
          0,
          0.01,
          0.01
         ],
         "yaxis": "y"
        },
        {
         "hovertemplate": "variable=Small Suppliers<br>Date=%{x}<br>value=%{y}<extra></extra>",
         "legendgroup": "Small Suppliers",
         "line": {
          "color": "#ab63fa"
         },
         "marker": {
          "symbol": "circle"
         },
         "mode": "lines",
         "name": "Small Suppliers",
         "orientation": "v",
         "showlegend": true,
         "stackgroup": "1",
         "type": "scatter",
         "x": [
          "Q1 2012",
          "Q2 2012",
          "Q3 2012",
          "Q4 2012",
          "Q1 2013",
          "Q2 2013",
          "Q3 2013",
          "Q4 2013",
          "Q1 2014",
          "Q2 2014",
          "Q3 2014",
          "Q4 2014",
          "Q1 2015",
          "Q2 2015",
          "Q3 2015",
          "Q4 2015",
          "Q1 2016",
          "Q2 2016",
          "Q3 2016",
          "Q4 2016",
          "Q1 2017",
          "Q2 2017",
          "Q3 2017",
          "Q4 2017",
          "Q1 2018"
         ],
         "xaxis": "x",
         "y": [
          0.01,
          0.01,
          0.01,
          0,
          0.01,
          0.01,
          0.01,
          0.01,
          0.01,
          0.01,
          0.02,
          0.02,
          0.02,
          0.02,
          0.03,
          0.03,
          0.04,
          0.05,
          0.05,
          0.05,
          0.06,
          0.07,
          0.08,
          0.09,
          0.09
         ],
         "yaxis": "y"
        }
       ],
       "layout": {
        "legend": {
         "title": {
          "text": "variable"
         },
         "tracegroupgap": 0
        },
        "margin": {
         "t": 60
        },
        "template": {
         "data": {
          "bar": [
           {
            "error_x": {
             "color": "#2a3f5f"
            },
            "error_y": {
             "color": "#2a3f5f"
            },
            "marker": {
             "line": {
              "color": "#E5ECF6",
              "width": 0.5
             },
             "pattern": {
              "fillmode": "overlay",
              "size": 10,
              "solidity": 0.2
             }
            },
            "type": "bar"
           }
          ],
          "barpolar": [
           {
            "marker": {
             "line": {
              "color": "#E5ECF6",
              "width": 0.5
             },
             "pattern": {
              "fillmode": "overlay",
              "size": 10,
              "solidity": 0.2
             }
            },
            "type": "barpolar"
           }
          ],
          "carpet": [
           {
            "aaxis": {
             "endlinecolor": "#2a3f5f",
             "gridcolor": "white",
             "linecolor": "white",
             "minorgridcolor": "white",
             "startlinecolor": "#2a3f5f"
            },
            "baxis": {
             "endlinecolor": "#2a3f5f",
             "gridcolor": "white",
             "linecolor": "white",
             "minorgridcolor": "white",
             "startlinecolor": "#2a3f5f"
            },
            "type": "carpet"
           }
          ],
          "choropleth": [
           {
            "colorbar": {
             "outlinewidth": 0,
             "ticks": ""
            },
            "type": "choropleth"
           }
          ],
          "contour": [
           {
            "colorbar": {
             "outlinewidth": 0,
             "ticks": ""
            },
            "colorscale": [
             [
              0,
              "#0d0887"
             ],
             [
              0.1111111111111111,
              "#46039f"
             ],
             [
              0.2222222222222222,
              "#7201a8"
             ],
             [
              0.3333333333333333,
              "#9c179e"
             ],
             [
              0.4444444444444444,
              "#bd3786"
             ],
             [
              0.5555555555555556,
              "#d8576b"
             ],
             [
              0.6666666666666666,
              "#ed7953"
             ],
             [
              0.7777777777777778,
              "#fb9f3a"
             ],
             [
              0.8888888888888888,
              "#fdca26"
             ],
             [
              1,
              "#f0f921"
             ]
            ],
            "type": "contour"
           }
          ],
          "contourcarpet": [
           {
            "colorbar": {
             "outlinewidth": 0,
             "ticks": ""
            },
            "type": "contourcarpet"
           }
          ],
          "heatmap": [
           {
            "colorbar": {
             "outlinewidth": 0,
             "ticks": ""
            },
            "colorscale": [
             [
              0,
              "#0d0887"
             ],
             [
              0.1111111111111111,
              "#46039f"
             ],
             [
              0.2222222222222222,
              "#7201a8"
             ],
             [
              0.3333333333333333,
              "#9c179e"
             ],
             [
              0.4444444444444444,
              "#bd3786"
             ],
             [
              0.5555555555555556,
              "#d8576b"
             ],
             [
              0.6666666666666666,
              "#ed7953"
             ],
             [
              0.7777777777777778,
              "#fb9f3a"
             ],
             [
              0.8888888888888888,
              "#fdca26"
             ],
             [
              1,
              "#f0f921"
             ]
            ],
            "type": "heatmap"
           }
          ],
          "heatmapgl": [
           {
            "colorbar": {
             "outlinewidth": 0,
             "ticks": ""
            },
            "colorscale": [
             [
              0,
              "#0d0887"
             ],
             [
              0.1111111111111111,
              "#46039f"
             ],
             [
              0.2222222222222222,
              "#7201a8"
             ],
             [
              0.3333333333333333,
              "#9c179e"
             ],
             [
              0.4444444444444444,
              "#bd3786"
             ],
             [
              0.5555555555555556,
              "#d8576b"
             ],
             [
              0.6666666666666666,
              "#ed7953"
             ],
             [
              0.7777777777777778,
              "#fb9f3a"
             ],
             [
              0.8888888888888888,
              "#fdca26"
             ],
             [
              1,
              "#f0f921"
             ]
            ],
            "type": "heatmapgl"
           }
          ],
          "histogram": [
           {
            "marker": {
             "pattern": {
              "fillmode": "overlay",
              "size": 10,
              "solidity": 0.2
             }
            },
            "type": "histogram"
           }
          ],
          "histogram2d": [
           {
            "colorbar": {
             "outlinewidth": 0,
             "ticks": ""
            },
            "colorscale": [
             [
              0,
              "#0d0887"
             ],
             [
              0.1111111111111111,
              "#46039f"
             ],
             [
              0.2222222222222222,
              "#7201a8"
             ],
             [
              0.3333333333333333,
              "#9c179e"
             ],
             [
              0.4444444444444444,
              "#bd3786"
             ],
             [
              0.5555555555555556,
              "#d8576b"
             ],
             [
              0.6666666666666666,
              "#ed7953"
             ],
             [
              0.7777777777777778,
              "#fb9f3a"
             ],
             [
              0.8888888888888888,
              "#fdca26"
             ],
             [
              1,
              "#f0f921"
             ]
            ],
            "type": "histogram2d"
           }
          ],
          "histogram2dcontour": [
           {
            "colorbar": {
             "outlinewidth": 0,
             "ticks": ""
            },
            "colorscale": [
             [
              0,
              "#0d0887"
             ],
             [
              0.1111111111111111,
              "#46039f"
             ],
             [
              0.2222222222222222,
              "#7201a8"
             ],
             [
              0.3333333333333333,
              "#9c179e"
             ],
             [
              0.4444444444444444,
              "#bd3786"
             ],
             [
              0.5555555555555556,
              "#d8576b"
             ],
             [
              0.6666666666666666,
              "#ed7953"
             ],
             [
              0.7777777777777778,
              "#fb9f3a"
             ],
             [
              0.8888888888888888,
              "#fdca26"
             ],
             [
              1,
              "#f0f921"
             ]
            ],
            "type": "histogram2dcontour"
           }
          ],
          "mesh3d": [
           {
            "colorbar": {
             "outlinewidth": 0,
             "ticks": ""
            },
            "type": "mesh3d"
           }
          ],
          "parcoords": [
           {
            "line": {
             "colorbar": {
              "outlinewidth": 0,
              "ticks": ""
             }
            },
            "type": "parcoords"
           }
          ],
          "pie": [
           {
            "automargin": true,
            "type": "pie"
           }
          ],
          "scatter": [
           {
            "marker": {
             "colorbar": {
              "outlinewidth": 0,
              "ticks": ""
             }
            },
            "type": "scatter"
           }
          ],
          "scatter3d": [
           {
            "line": {
             "colorbar": {
              "outlinewidth": 0,
              "ticks": ""
             }
            },
            "marker": {
             "colorbar": {
              "outlinewidth": 0,
              "ticks": ""
             }
            },
            "type": "scatter3d"
           }
          ],
          "scattercarpet": [
           {
            "marker": {
             "colorbar": {
              "outlinewidth": 0,
              "ticks": ""
             }
            },
            "type": "scattercarpet"
           }
          ],
          "scattergeo": [
           {
            "marker": {
             "colorbar": {
              "outlinewidth": 0,
              "ticks": ""
             }
            },
            "type": "scattergeo"
           }
          ],
          "scattergl": [
           {
            "marker": {
             "colorbar": {
              "outlinewidth": 0,
              "ticks": ""
             }
            },
            "type": "scattergl"
           }
          ],
          "scattermapbox": [
           {
            "marker": {
             "colorbar": {
              "outlinewidth": 0,
              "ticks": ""
             }
            },
            "type": "scattermapbox"
           }
          ],
          "scatterpolar": [
           {
            "marker": {
             "colorbar": {
              "outlinewidth": 0,
              "ticks": ""
             }
            },
            "type": "scatterpolar"
           }
          ],
          "scatterpolargl": [
           {
            "marker": {
             "colorbar": {
              "outlinewidth": 0,
              "ticks": ""
             }
            },
            "type": "scatterpolargl"
           }
          ],
          "scatterternary": [
           {
            "marker": {
             "colorbar": {
              "outlinewidth": 0,
              "ticks": ""
             }
            },
            "type": "scatterternary"
           }
          ],
          "surface": [
           {
            "colorbar": {
             "outlinewidth": 0,
             "ticks": ""
            },
            "colorscale": [
             [
              0,
              "#0d0887"
             ],
             [
              0.1111111111111111,
              "#46039f"
             ],
             [
              0.2222222222222222,
              "#7201a8"
             ],
             [
              0.3333333333333333,
              "#9c179e"
             ],
             [
              0.4444444444444444,
              "#bd3786"
             ],
             [
              0.5555555555555556,
              "#d8576b"
             ],
             [
              0.6666666666666666,
              "#ed7953"
             ],
             [
              0.7777777777777778,
              "#fb9f3a"
             ],
             [
              0.8888888888888888,
              "#fdca26"
             ],
             [
              1,
              "#f0f921"
             ]
            ],
            "type": "surface"
           }
          ],
          "table": [
           {
            "cells": {
             "fill": {
              "color": "#EBF0F8"
             },
             "line": {
              "color": "white"
             }
            },
            "header": {
             "fill": {
              "color": "#C8D4E3"
             },
             "line": {
              "color": "white"
             }
            },
            "type": "table"
           }
          ]
         },
         "layout": {
          "annotationdefaults": {
           "arrowcolor": "#2a3f5f",
           "arrowhead": 0,
           "arrowwidth": 1
          },
          "autotypenumbers": "strict",
          "coloraxis": {
           "colorbar": {
            "outlinewidth": 0,
            "ticks": ""
           }
          },
          "colorscale": {
           "diverging": [
            [
             0,
             "#8e0152"
            ],
            [
             0.1,
             "#c51b7d"
            ],
            [
             0.2,
             "#de77ae"
            ],
            [
             0.3,
             "#f1b6da"
            ],
            [
             0.4,
             "#fde0ef"
            ],
            [
             0.5,
             "#f7f7f7"
            ],
            [
             0.6,
             "#e6f5d0"
            ],
            [
             0.7,
             "#b8e186"
            ],
            [
             0.8,
             "#7fbc41"
            ],
            [
             0.9,
             "#4d9221"
            ],
            [
             1,
             "#276419"
            ]
           ],
           "sequential": [
            [
             0,
             "#0d0887"
            ],
            [
             0.1111111111111111,
             "#46039f"
            ],
            [
             0.2222222222222222,
             "#7201a8"
            ],
            [
             0.3333333333333333,
             "#9c179e"
            ],
            [
             0.4444444444444444,
             "#bd3786"
            ],
            [
             0.5555555555555556,
             "#d8576b"
            ],
            [
             0.6666666666666666,
             "#ed7953"
            ],
            [
             0.7777777777777778,
             "#fb9f3a"
            ],
            [
             0.8888888888888888,
             "#fdca26"
            ],
            [
             1,
             "#f0f921"
            ]
           ],
           "sequentialminus": [
            [
             0,
             "#0d0887"
            ],
            [
             0.1111111111111111,
             "#46039f"
            ],
            [
             0.2222222222222222,
             "#7201a8"
            ],
            [
             0.3333333333333333,
             "#9c179e"
            ],
            [
             0.4444444444444444,
             "#bd3786"
            ],
            [
             0.5555555555555556,
             "#d8576b"
            ],
            [
             0.6666666666666666,
             "#ed7953"
            ],
            [
             0.7777777777777778,
             "#fb9f3a"
            ],
            [
             0.8888888888888888,
             "#fdca26"
            ],
            [
             1,
             "#f0f921"
            ]
           ]
          },
          "colorway": [
           "#636efa",
           "#EF553B",
           "#00cc96",
           "#ab63fa",
           "#FFA15A",
           "#19d3f3",
           "#FF6692",
           "#B6E880",
           "#FF97FF",
           "#FECB52"
          ],
          "font": {
           "color": "#2a3f5f"
          },
          "geo": {
           "bgcolor": "white",
           "lakecolor": "white",
           "landcolor": "#E5ECF6",
           "showlakes": true,
           "showland": true,
           "subunitcolor": "white"
          },
          "hoverlabel": {
           "align": "left"
          },
          "hovermode": "closest",
          "mapbox": {
           "style": "light"
          },
          "paper_bgcolor": "white",
          "plot_bgcolor": "#E5ECF6",
          "polar": {
           "angularaxis": {
            "gridcolor": "white",
            "linecolor": "white",
            "ticks": ""
           },
           "bgcolor": "#E5ECF6",
           "radialaxis": {
            "gridcolor": "white",
            "linecolor": "white",
            "ticks": ""
           }
          },
          "scene": {
           "xaxis": {
            "backgroundcolor": "#E5ECF6",
            "gridcolor": "white",
            "gridwidth": 2,
            "linecolor": "white",
            "showbackground": true,
            "ticks": "",
            "zerolinecolor": "white"
           },
           "yaxis": {
            "backgroundcolor": "#E5ECF6",
            "gridcolor": "white",
            "gridwidth": 2,
            "linecolor": "white",
            "showbackground": true,
            "ticks": "",
            "zerolinecolor": "white"
           },
           "zaxis": {
            "backgroundcolor": "#E5ECF6",
            "gridcolor": "white",
            "gridwidth": 2,
            "linecolor": "white",
            "showbackground": true,
            "ticks": "",
            "zerolinecolor": "white"
           }
          },
          "shapedefaults": {
           "line": {
            "color": "#2a3f5f"
           }
          },
          "ternary": {
           "aaxis": {
            "gridcolor": "white",
            "linecolor": "white",
            "ticks": ""
           },
           "baxis": {
            "gridcolor": "white",
            "linecolor": "white",
            "ticks": ""
           },
           "bgcolor": "#E5ECF6",
           "caxis": {
            "gridcolor": "white",
            "linecolor": "white",
            "ticks": ""
           }
          },
          "title": {
           "x": 0.05
          },
          "xaxis": {
           "automargin": true,
           "gridcolor": "white",
           "linecolor": "white",
           "ticks": "",
           "title": {
            "standoff": 15
           },
           "zerolinecolor": "white",
           "zerolinewidth": 2
          },
          "yaxis": {
           "automargin": true,
           "gridcolor": "white",
           "linecolor": "white",
           "ticks": "",
           "title": {
            "standoff": 15
           },
           "zerolinecolor": "white",
           "zerolinewidth": 2
          }
         }
        },
        "xaxis": {
         "anchor": "y",
         "domain": [
          0,
          1
         ],
         "title": {
          "text": "Date"
         }
        },
        "yaxis": {
         "anchor": "x",
         "domain": [
          0,
          1
         ],
         "title": {
          "text": "value"
         }
        }
       }
      },
      "text/html": [
       "<div>                            <div id=\"4b6ee835-d039-4fbf-a83e-de4d9cf17077\" class=\"plotly-graph-div\" style=\"height:525px; width:100%;\"></div>            <script type=\"text/javascript\">                require([\"plotly\"], function(Plotly) {                    window.PLOTLYENV=window.PLOTLYENV || {};                                    if (document.getElementById(\"4b6ee835-d039-4fbf-a83e-de4d9cf17077\")) {                    Plotly.newPlot(                        \"4b6ee835-d039-4fbf-a83e-de4d9cf17077\",                        [{\"hovertemplate\":\"variable=British Gas<br>Date=%{x}<br>value=%{y}<extra></extra>\",\"legendgroup\":\"British Gas\",\"line\":{\"color\":\"#636efa\"},\"marker\":{\"symbol\":\"circle\"},\"mode\":\"lines\",\"name\":\"British Gas\",\"orientation\":\"v\",\"showlegend\":true,\"stackgroup\":\"1\",\"x\":[\"Q1 2012\",\"Q2 2012\",\"Q3 2012\",\"Q4 2012\",\"Q1 2013\",\"Q2 2013\",\"Q3 2013\",\"Q4 2013\",\"Q1 2014\",\"Q2 2014\",\"Q3 2014\",\"Q4 2014\",\"Q1 2015\",\"Q2 2015\",\"Q3 2015\",\"Q4 2015\",\"Q1 2016\",\"Q2 2016\",\"Q3 2016\",\"Q4 2016\",\"Q1 2017\",\"Q2 2017\",\"Q3 2017\",\"Q4 2017\",\"Q1 2018\"],\"xaxis\":\"x\",\"y\":[0.25,0.25,0.25,0.25,0.25,0.25,0.25,0.24,0.24,0.24,0.24,0.24,0.24,0.24,0.24,0.23,0.23,0.23,0.23,0.23,0.22,0.22,0.21,0.2,0.2],\"yaxis\":\"y\",\"type\":\"scatter\"},{\"hovertemplate\":\"variable=EDF<br>Date=%{x}<br>value=%{y}<extra></extra>\",\"legendgroup\":\"EDF\",\"line\":{\"color\":\"#EF553B\"},\"marker\":{\"symbol\":\"circle\"},\"mode\":\"lines\",\"name\":\"EDF\",\"orientation\":\"v\",\"showlegend\":true,\"stackgroup\":\"1\",\"x\":[\"Q1 2012\",\"Q2 2012\",\"Q3 2012\",\"Q4 2012\",\"Q1 2013\",\"Q2 2013\",\"Q3 2013\",\"Q4 2013\",\"Q1 2014\",\"Q2 2014\",\"Q3 2014\",\"Q4 2014\",\"Q1 2015\",\"Q2 2015\",\"Q3 2015\",\"Q4 2015\",\"Q1 2016\",\"Q2 2016\",\"Q3 2016\",\"Q4 2016\",\"Q1 2017\",\"Q2 2017\",\"Q3 2017\",\"Q4 2017\",\"Q1 2018\"],\"xaxis\":\"x\",\"y\":[0.13,0.13,0.13,0.13,0.13,0.13,0.13,0.13,0.13,0.13,0.13,0.13,0.13,0.12,0.12,0.12,0.12,0.12,0.12,0.12,0.12,0.12,0.12,0.11,0.11],\"yaxis\":\"y\",\"type\":\"scatter\"},{\"hovertemplate\":\"variable=E.ON<br>Date=%{x}<br>value=%{y}<extra></extra>\",\"legendgroup\":\"E.ON\",\"line\":{\"color\":\"#00cc96\"},\"marker\":{\"symbol\":\"circle\"},\"mode\":\"lines\",\"name\":\"E.ON\",\"orientation\":\"v\",\"showlegend\":true,\"stackgroup\":\"1\",\"x\":[\"Q1 2012\",\"Q2 2012\",\"Q3 2012\",\"Q4 2012\",\"Q1 2013\",\"Q2 2013\",\"Q3 2013\",\"Q4 2013\",\"Q1 2014\",\"Q2 2014\",\"Q3 2014\",\"Q4 2014\",\"Q1 2015\",\"Q2 2015\",\"Q3 2015\",\"Q4 2015\",\"Q1 2016\",\"Q2 2016\",\"Q3 2016\",\"Q4 2016\",\"Q1 2017\",\"Q2 2017\",\"Q3 2017\",\"Q4 2017\",\"Q1 2018\"],\"xaxis\":\"x\",\"y\":[0.17,0.17,0.17,0.17,0.17,0.17,0.16,0.16,0.16,0.16,0.16,0.16,0.16,0.16,0.16,0.15,0.15,0.15,0.14,0.14,0.14,0.13,0.13,0.13,0.13],\"yaxis\":\"y\",\"type\":\"scatter\"},{\"hovertemplate\":\"variable=npower<br>Date=%{x}<br>value=%{y}<extra></extra>\",\"legendgroup\":\"npower\",\"line\":{\"color\":\"#ab63fa\"},\"marker\":{\"symbol\":\"circle\"},\"mode\":\"lines\",\"name\":\"npower\",\"orientation\":\"v\",\"showlegend\":true,\"stackgroup\":\"1\",\"x\":[\"Q1 2012\",\"Q2 2012\",\"Q3 2012\",\"Q4 2012\",\"Q1 2013\",\"Q2 2013\",\"Q3 2013\",\"Q4 2013\",\"Q1 2014\",\"Q2 2014\",\"Q3 2014\",\"Q4 2014\",\"Q1 2015\",\"Q2 2015\",\"Q3 2015\",\"Q4 2015\",\"Q1 2016\",\"Q2 2016\",\"Q3 2016\",\"Q4 2016\",\"Q1 2017\",\"Q2 2017\",\"Q3 2017\",\"Q4 2017\",\"Q1 2018\"],\"xaxis\":\"x\",\"y\":[0.14,0.14,0.14,0.14,0.13,0.13,0.13,0.12,0.12,0.12,0.11,0.11,0.11,0.11,0.11,0.1,0.1,0.1,0.1,0.1,0.09,0.1,0.1,0.1,0.09],\"yaxis\":\"y\",\"type\":\"scatter\"},{\"hovertemplate\":\"variable=Scottish Power<br>Date=%{x}<br>value=%{y}<extra></extra>\",\"legendgroup\":\"Scottish Power\",\"line\":{\"color\":\"#FFA15A\"},\"marker\":{\"symbol\":\"circle\"},\"mode\":\"lines\",\"name\":\"Scottish Power\",\"orientation\":\"v\",\"showlegend\":true,\"stackgroup\":\"1\",\"x\":[\"Q1 2012\",\"Q2 2012\",\"Q3 2012\",\"Q4 2012\",\"Q1 2013\",\"Q2 2013\",\"Q3 2013\",\"Q4 2013\",\"Q1 2014\",\"Q2 2014\",\"Q3 2014\",\"Q4 2014\",\"Q1 2015\",\"Q2 2015\",\"Q3 2015\",\"Q4 2015\",\"Q1 2016\",\"Q2 2016\",\"Q3 2016\",\"Q4 2016\",\"Q1 2017\",\"Q2 2017\",\"Q3 2017\",\"Q4 2017\",\"Q1 2018\"],\"xaxis\":\"x\",\"y\":[0.11,0.11,0.11,0.12,0.12,0.12,0.12,0.12,0.12,0.11,0.11,0.11,0.11,0.11,0.11,0.11,0.11,0.11,0.11,0.11,0.11,0.11,0.1,0.1,0.1],\"yaxis\":\"y\",\"type\":\"scatter\"},{\"hovertemplate\":\"variable=SSE<br>Date=%{x}<br>value=%{y}<extra></extra>\",\"legendgroup\":\"SSE\",\"line\":{\"color\":\"#19d3f3\"},\"marker\":{\"symbol\":\"circle\"},\"mode\":\"lines\",\"name\":\"SSE\",\"orientation\":\"v\",\"showlegend\":true,\"stackgroup\":\"1\",\"x\":[\"Q1 2012\",\"Q2 2012\",\"Q3 2012\",\"Q4 2012\",\"Q1 2013\",\"Q2 2013\",\"Q3 2013\",\"Q4 2013\",\"Q1 2014\",\"Q2 2014\",\"Q3 2014\",\"Q4 2014\",\"Q1 2015\",\"Q2 2015\",\"Q3 2015\",\"Q4 2015\",\"Q1 2016\",\"Q2 2016\",\"Q3 2016\",\"Q4 2016\",\"Q1 2017\",\"Q2 2017\",\"Q3 2017\",\"Q4 2017\",\"Q1 2018\"],\"xaxis\":\"x\",\"y\":[0.19,0.19,0.19,0.18,0.18,0.18,0.18,0.18,0.17,0.17,0.17,0.17,0.16,0.16,0.16,0.16,0.15,0.15,0.15,0.15,0.15,0.14,0.14,0.14,0.14],\"yaxis\":\"y\",\"type\":\"scatter\"},{\"hovertemplate\":\"variable=Co-operative Energy<br>Date=%{x}<br>value=%{y}<extra></extra>\",\"legendgroup\":\"Co-operative Energy\",\"line\":{\"color\":\"#FF6692\"},\"marker\":{\"symbol\":\"circle\"},\"mode\":\"lines\",\"name\":\"Co-operative Energy\",\"orientation\":\"v\",\"showlegend\":true,\"stackgroup\":\"1\",\"x\":[\"Q1 2012\",\"Q2 2012\",\"Q3 2012\",\"Q4 2012\",\"Q1 2013\",\"Q2 2013\",\"Q3 2013\",\"Q4 2013\",\"Q1 2014\",\"Q2 2014\",\"Q3 2014\",\"Q4 2014\",\"Q1 2015\",\"Q2 2015\",\"Q3 2015\",\"Q4 2015\",\"Q1 2016\",\"Q2 2016\",\"Q3 2016\",\"Q4 2016\",\"Q1 2017\",\"Q2 2017\",\"Q3 2017\",\"Q4 2017\",\"Q1 2018\"],\"xaxis\":\"x\",\"y\":[null,null,null,0.0,0.0,0.0,0.0,0.01,0.01,0.01,0.01,0.01,0.01,0.01,0.01,0.01,0.01,0.01,0.01,0.01,0.02,0.01,0.01,0.01,0.01],\"yaxis\":\"y\",\"type\":\"scatter\"},{\"hovertemplate\":\"variable=First Utility<br>Date=%{x}<br>value=%{y}<extra></extra>\",\"legendgroup\":\"First Utility\",\"line\":{\"color\":\"#B6E880\"},\"marker\":{\"symbol\":\"circle\"},\"mode\":\"lines\",\"name\":\"First Utility\",\"orientation\":\"v\",\"showlegend\":true,\"stackgroup\":\"1\",\"x\":[\"Q1 2012\",\"Q2 2012\",\"Q3 2012\",\"Q4 2012\",\"Q1 2013\",\"Q2 2013\",\"Q3 2013\",\"Q4 2013\",\"Q1 2014\",\"Q2 2014\",\"Q3 2014\",\"Q4 2014\",\"Q1 2015\",\"Q2 2015\",\"Q3 2015\",\"Q4 2015\",\"Q1 2016\",\"Q2 2016\",\"Q3 2016\",\"Q4 2016\",\"Q1 2017\",\"Q2 2017\",\"Q3 2017\",\"Q4 2017\",\"Q1 2018\"],\"xaxis\":\"x\",\"y\":[null,null,null,0.01,0.01,0.01,0.01,0.01,0.01,0.02,0.02,0.03,0.03,0.03,0.03,0.03,0.03,0.03,0.03,0.03,0.03,0.03,0.03,0.03,0.03],\"yaxis\":\"y\",\"type\":\"scatter\"},{\"hovertemplate\":\"variable=OVO Energy<br>Date=%{x}<br>value=%{y}<extra></extra>\",\"legendgroup\":\"OVO Energy\",\"line\":{\"color\":\"#FF97FF\"},\"marker\":{\"symbol\":\"circle\"},\"mode\":\"lines\",\"name\":\"OVO Energy\",\"orientation\":\"v\",\"showlegend\":true,\"stackgroup\":\"1\",\"x\":[\"Q1 2012\",\"Q2 2012\",\"Q3 2012\",\"Q4 2012\",\"Q1 2013\",\"Q2 2013\",\"Q3 2013\",\"Q4 2013\",\"Q1 2014\",\"Q2 2014\",\"Q3 2014\",\"Q4 2014\",\"Q1 2015\",\"Q2 2015\",\"Q3 2015\",\"Q4 2015\",\"Q1 2016\",\"Q2 2016\",\"Q3 2016\",\"Q4 2016\",\"Q1 2017\",\"Q2 2017\",\"Q3 2017\",\"Q4 2017\",\"Q1 2018\"],\"xaxis\":\"x\",\"y\":[null,null,null,0.0,0.01,0.01,0.0,0.0,0.01,0.01,0.01,0.01,0.02,0.02,0.02,0.02,0.02,0.02,0.02,0.02,0.02,0.02,0.03,0.03,0.03],\"yaxis\":\"y\",\"type\":\"scatter\"},{\"hovertemplate\":\"variable=Utilita<br>Date=%{x}<br>value=%{y}<extra></extra>\",\"legendgroup\":\"Utilita\",\"line\":{\"color\":\"#FECB52\"},\"marker\":{\"symbol\":\"circle\"},\"mode\":\"lines\",\"name\":\"Utilita\",\"orientation\":\"v\",\"showlegend\":true,\"stackgroup\":\"1\",\"x\":[\"Q1 2012\",\"Q2 2012\",\"Q3 2012\",\"Q4 2012\",\"Q1 2013\",\"Q2 2013\",\"Q3 2013\",\"Q4 2013\",\"Q1 2014\",\"Q2 2014\",\"Q3 2014\",\"Q4 2014\",\"Q1 2015\",\"Q2 2015\",\"Q3 2015\",\"Q4 2015\",\"Q1 2016\",\"Q2 2016\",\"Q3 2016\",\"Q4 2016\",\"Q1 2017\",\"Q2 2017\",\"Q3 2017\",\"Q4 2017\",\"Q1 2018\"],\"xaxis\":\"x\",\"y\":[null,null,null,0.0,0.0,0.0,0.0,0.0,0.0,0.0,0.0,0.01,0.01,0.01,0.01,0.01,0.01,0.01,0.01,0.02,0.02,0.02,0.02,0.02,0.02],\"yaxis\":\"y\",\"type\":\"scatter\"},{\"hovertemplate\":\"variable=Utility Warehouse<br>Date=%{x}<br>value=%{y}<extra></extra>\",\"legendgroup\":\"Utility Warehouse\",\"line\":{\"color\":\"#636efa\"},\"marker\":{\"symbol\":\"circle\"},\"mode\":\"lines\",\"name\":\"Utility Warehouse\",\"orientation\":\"v\",\"showlegend\":true,\"stackgroup\":\"1\",\"x\":[\"Q1 2012\",\"Q2 2012\",\"Q3 2012\",\"Q4 2012\",\"Q1 2013\",\"Q2 2013\",\"Q3 2013\",\"Q4 2013\",\"Q1 2014\",\"Q2 2014\",\"Q3 2014\",\"Q4 2014\",\"Q1 2015\",\"Q2 2015\",\"Q3 2015\",\"Q4 2015\",\"Q1 2016\",\"Q2 2016\",\"Q3 2016\",\"Q4 2016\",\"Q1 2017\",\"Q2 2017\",\"Q3 2017\",\"Q4 2017\",\"Q1 2018\"],\"xaxis\":\"x\",\"y\":[null,null,null,0.0,0.0,0.0,0.0,0.01,0.02,0.02,0.02,0.02,0.02,0.02,0.02,0.02,0.02,0.02,0.02,0.02,0.02,0.02,0.02,0.02,0.02],\"yaxis\":\"y\",\"type\":\"scatter\"},{\"hovertemplate\":\"variable=Green Star Energy<br>Date=%{x}<br>value=%{y}<extra></extra>\",\"legendgroup\":\"Green Star Energy\",\"line\":{\"color\":\"#EF553B\"},\"marker\":{\"symbol\":\"circle\"},\"mode\":\"lines\",\"name\":\"Green Star Energy\",\"orientation\":\"v\",\"showlegend\":true,\"stackgroup\":\"1\",\"x\":[\"Q1 2012\",\"Q2 2012\",\"Q3 2012\",\"Q4 2012\",\"Q1 2013\",\"Q2 2013\",\"Q3 2013\",\"Q4 2013\",\"Q1 2014\",\"Q2 2014\",\"Q3 2014\",\"Q4 2014\",\"Q1 2015\",\"Q2 2015\",\"Q3 2015\",\"Q4 2015\",\"Q1 2016\",\"Q2 2016\",\"Q3 2016\",\"Q4 2016\",\"Q1 2017\",\"Q2 2017\",\"Q3 2017\",\"Q4 2017\",\"Q1 2018\"],\"xaxis\":\"x\",\"y\":[null,null,null,null,0.0,0.0,0.0,0.0,0.0,0.0,0.0,0.0,0.0,0.0,0.0,0.0,0.0,0.0,0.0,0.0,0.01,0.01,0.01,0.01,0.01],\"yaxis\":\"y\",\"type\":\"scatter\"},{\"hovertemplate\":\"variable=Bulb<br>Date=%{x}<br>value=%{y}<extra></extra>\",\"legendgroup\":\"Bulb\",\"line\":{\"color\":\"#00cc96\"},\"marker\":{\"symbol\":\"circle\"},\"mode\":\"lines\",\"name\":\"Bulb\",\"orientation\":\"v\",\"showlegend\":true,\"stackgroup\":\"1\",\"x\":[\"Q1 2012\",\"Q2 2012\",\"Q3 2012\",\"Q4 2012\",\"Q1 2013\",\"Q2 2013\",\"Q3 2013\",\"Q4 2013\",\"Q1 2014\",\"Q2 2014\",\"Q3 2014\",\"Q4 2014\",\"Q1 2015\",\"Q2 2015\",\"Q3 2015\",\"Q4 2015\",\"Q1 2016\",\"Q2 2016\",\"Q3 2016\",\"Q4 2016\",\"Q1 2017\",\"Q2 2017\",\"Q3 2017\",\"Q4 2017\",\"Q1 2018\"],\"xaxis\":\"x\",\"y\":[null,null,null,null,null,null,null,null,null,null,null,null,null,null,0.0,0.0,0.0,0.0,0.0,0.0,0.0,0.0,0.0,0.01,0.01],\"yaxis\":\"y\",\"type\":\"scatter\"},{\"hovertemplate\":\"variable=Small Suppliers<br>Date=%{x}<br>value=%{y}<extra></extra>\",\"legendgroup\":\"Small Suppliers\",\"line\":{\"color\":\"#ab63fa\"},\"marker\":{\"symbol\":\"circle\"},\"mode\":\"lines\",\"name\":\"Small Suppliers\",\"orientation\":\"v\",\"showlegend\":true,\"stackgroup\":\"1\",\"x\":[\"Q1 2012\",\"Q2 2012\",\"Q3 2012\",\"Q4 2012\",\"Q1 2013\",\"Q2 2013\",\"Q3 2013\",\"Q4 2013\",\"Q1 2014\",\"Q2 2014\",\"Q3 2014\",\"Q4 2014\",\"Q1 2015\",\"Q2 2015\",\"Q3 2015\",\"Q4 2015\",\"Q1 2016\",\"Q2 2016\",\"Q3 2016\",\"Q4 2016\",\"Q1 2017\",\"Q2 2017\",\"Q3 2017\",\"Q4 2017\",\"Q1 2018\"],\"xaxis\":\"x\",\"y\":[0.01,0.01,0.01,0.0,0.01,0.01,0.01,0.01,0.01,0.01,0.02,0.02,0.02,0.02,0.03,0.03,0.04,0.05,0.05,0.05,0.06,0.07,0.08,0.09,0.09],\"yaxis\":\"y\",\"type\":\"scatter\"}],                        {\"template\":{\"data\":{\"bar\":[{\"error_x\":{\"color\":\"#2a3f5f\"},\"error_y\":{\"color\":\"#2a3f5f\"},\"marker\":{\"line\":{\"color\":\"#E5ECF6\",\"width\":0.5},\"pattern\":{\"fillmode\":\"overlay\",\"size\":10,\"solidity\":0.2}},\"type\":\"bar\"}],\"barpolar\":[{\"marker\":{\"line\":{\"color\":\"#E5ECF6\",\"width\":0.5},\"pattern\":{\"fillmode\":\"overlay\",\"size\":10,\"solidity\":0.2}},\"type\":\"barpolar\"}],\"carpet\":[{\"aaxis\":{\"endlinecolor\":\"#2a3f5f\",\"gridcolor\":\"white\",\"linecolor\":\"white\",\"minorgridcolor\":\"white\",\"startlinecolor\":\"#2a3f5f\"},\"baxis\":{\"endlinecolor\":\"#2a3f5f\",\"gridcolor\":\"white\",\"linecolor\":\"white\",\"minorgridcolor\":\"white\",\"startlinecolor\":\"#2a3f5f\"},\"type\":\"carpet\"}],\"choropleth\":[{\"colorbar\":{\"outlinewidth\":0,\"ticks\":\"\"},\"type\":\"choropleth\"}],\"contour\":[{\"colorbar\":{\"outlinewidth\":0,\"ticks\":\"\"},\"colorscale\":[[0.0,\"#0d0887\"],[0.1111111111111111,\"#46039f\"],[0.2222222222222222,\"#7201a8\"],[0.3333333333333333,\"#9c179e\"],[0.4444444444444444,\"#bd3786\"],[0.5555555555555556,\"#d8576b\"],[0.6666666666666666,\"#ed7953\"],[0.7777777777777778,\"#fb9f3a\"],[0.8888888888888888,\"#fdca26\"],[1.0,\"#f0f921\"]],\"type\":\"contour\"}],\"contourcarpet\":[{\"colorbar\":{\"outlinewidth\":0,\"ticks\":\"\"},\"type\":\"contourcarpet\"}],\"heatmap\":[{\"colorbar\":{\"outlinewidth\":0,\"ticks\":\"\"},\"colorscale\":[[0.0,\"#0d0887\"],[0.1111111111111111,\"#46039f\"],[0.2222222222222222,\"#7201a8\"],[0.3333333333333333,\"#9c179e\"],[0.4444444444444444,\"#bd3786\"],[0.5555555555555556,\"#d8576b\"],[0.6666666666666666,\"#ed7953\"],[0.7777777777777778,\"#fb9f3a\"],[0.8888888888888888,\"#fdca26\"],[1.0,\"#f0f921\"]],\"type\":\"heatmap\"}],\"heatmapgl\":[{\"colorbar\":{\"outlinewidth\":0,\"ticks\":\"\"},\"colorscale\":[[0.0,\"#0d0887\"],[0.1111111111111111,\"#46039f\"],[0.2222222222222222,\"#7201a8\"],[0.3333333333333333,\"#9c179e\"],[0.4444444444444444,\"#bd3786\"],[0.5555555555555556,\"#d8576b\"],[0.6666666666666666,\"#ed7953\"],[0.7777777777777778,\"#fb9f3a\"],[0.8888888888888888,\"#fdca26\"],[1.0,\"#f0f921\"]],\"type\":\"heatmapgl\"}],\"histogram\":[{\"marker\":{\"pattern\":{\"fillmode\":\"overlay\",\"size\":10,\"solidity\":0.2}},\"type\":\"histogram\"}],\"histogram2d\":[{\"colorbar\":{\"outlinewidth\":0,\"ticks\":\"\"},\"colorscale\":[[0.0,\"#0d0887\"],[0.1111111111111111,\"#46039f\"],[0.2222222222222222,\"#7201a8\"],[0.3333333333333333,\"#9c179e\"],[0.4444444444444444,\"#bd3786\"],[0.5555555555555556,\"#d8576b\"],[0.6666666666666666,\"#ed7953\"],[0.7777777777777778,\"#fb9f3a\"],[0.8888888888888888,\"#fdca26\"],[1.0,\"#f0f921\"]],\"type\":\"histogram2d\"}],\"histogram2dcontour\":[{\"colorbar\":{\"outlinewidth\":0,\"ticks\":\"\"},\"colorscale\":[[0.0,\"#0d0887\"],[0.1111111111111111,\"#46039f\"],[0.2222222222222222,\"#7201a8\"],[0.3333333333333333,\"#9c179e\"],[0.4444444444444444,\"#bd3786\"],[0.5555555555555556,\"#d8576b\"],[0.6666666666666666,\"#ed7953\"],[0.7777777777777778,\"#fb9f3a\"],[0.8888888888888888,\"#fdca26\"],[1.0,\"#f0f921\"]],\"type\":\"histogram2dcontour\"}],\"mesh3d\":[{\"colorbar\":{\"outlinewidth\":0,\"ticks\":\"\"},\"type\":\"mesh3d\"}],\"parcoords\":[{\"line\":{\"colorbar\":{\"outlinewidth\":0,\"ticks\":\"\"}},\"type\":\"parcoords\"}],\"pie\":[{\"automargin\":true,\"type\":\"pie\"}],\"scatter\":[{\"marker\":{\"colorbar\":{\"outlinewidth\":0,\"ticks\":\"\"}},\"type\":\"scatter\"}],\"scatter3d\":[{\"line\":{\"colorbar\":{\"outlinewidth\":0,\"ticks\":\"\"}},\"marker\":{\"colorbar\":{\"outlinewidth\":0,\"ticks\":\"\"}},\"type\":\"scatter3d\"}],\"scattercarpet\":[{\"marker\":{\"colorbar\":{\"outlinewidth\":0,\"ticks\":\"\"}},\"type\":\"scattercarpet\"}],\"scattergeo\":[{\"marker\":{\"colorbar\":{\"outlinewidth\":0,\"ticks\":\"\"}},\"type\":\"scattergeo\"}],\"scattergl\":[{\"marker\":{\"colorbar\":{\"outlinewidth\":0,\"ticks\":\"\"}},\"type\":\"scattergl\"}],\"scattermapbox\":[{\"marker\":{\"colorbar\":{\"outlinewidth\":0,\"ticks\":\"\"}},\"type\":\"scattermapbox\"}],\"scatterpolar\":[{\"marker\":{\"colorbar\":{\"outlinewidth\":0,\"ticks\":\"\"}},\"type\":\"scatterpolar\"}],\"scatterpolargl\":[{\"marker\":{\"colorbar\":{\"outlinewidth\":0,\"ticks\":\"\"}},\"type\":\"scatterpolargl\"}],\"scatterternary\":[{\"marker\":{\"colorbar\":{\"outlinewidth\":0,\"ticks\":\"\"}},\"type\":\"scatterternary\"}],\"surface\":[{\"colorbar\":{\"outlinewidth\":0,\"ticks\":\"\"},\"colorscale\":[[0.0,\"#0d0887\"],[0.1111111111111111,\"#46039f\"],[0.2222222222222222,\"#7201a8\"],[0.3333333333333333,\"#9c179e\"],[0.4444444444444444,\"#bd3786\"],[0.5555555555555556,\"#d8576b\"],[0.6666666666666666,\"#ed7953\"],[0.7777777777777778,\"#fb9f3a\"],[0.8888888888888888,\"#fdca26\"],[1.0,\"#f0f921\"]],\"type\":\"surface\"}],\"table\":[{\"cells\":{\"fill\":{\"color\":\"#EBF0F8\"},\"line\":{\"color\":\"white\"}},\"header\":{\"fill\":{\"color\":\"#C8D4E3\"},\"line\":{\"color\":\"white\"}},\"type\":\"table\"}]},\"layout\":{\"annotationdefaults\":{\"arrowcolor\":\"#2a3f5f\",\"arrowhead\":0,\"arrowwidth\":1},\"autotypenumbers\":\"strict\",\"coloraxis\":{\"colorbar\":{\"outlinewidth\":0,\"ticks\":\"\"}},\"colorscale\":{\"diverging\":[[0,\"#8e0152\"],[0.1,\"#c51b7d\"],[0.2,\"#de77ae\"],[0.3,\"#f1b6da\"],[0.4,\"#fde0ef\"],[0.5,\"#f7f7f7\"],[0.6,\"#e6f5d0\"],[0.7,\"#b8e186\"],[0.8,\"#7fbc41\"],[0.9,\"#4d9221\"],[1,\"#276419\"]],\"sequential\":[[0.0,\"#0d0887\"],[0.1111111111111111,\"#46039f\"],[0.2222222222222222,\"#7201a8\"],[0.3333333333333333,\"#9c179e\"],[0.4444444444444444,\"#bd3786\"],[0.5555555555555556,\"#d8576b\"],[0.6666666666666666,\"#ed7953\"],[0.7777777777777778,\"#fb9f3a\"],[0.8888888888888888,\"#fdca26\"],[1.0,\"#f0f921\"]],\"sequentialminus\":[[0.0,\"#0d0887\"],[0.1111111111111111,\"#46039f\"],[0.2222222222222222,\"#7201a8\"],[0.3333333333333333,\"#9c179e\"],[0.4444444444444444,\"#bd3786\"],[0.5555555555555556,\"#d8576b\"],[0.6666666666666666,\"#ed7953\"],[0.7777777777777778,\"#fb9f3a\"],[0.8888888888888888,\"#fdca26\"],[1.0,\"#f0f921\"]]},\"colorway\":[\"#636efa\",\"#EF553B\",\"#00cc96\",\"#ab63fa\",\"#FFA15A\",\"#19d3f3\",\"#FF6692\",\"#B6E880\",\"#FF97FF\",\"#FECB52\"],\"font\":{\"color\":\"#2a3f5f\"},\"geo\":{\"bgcolor\":\"white\",\"lakecolor\":\"white\",\"landcolor\":\"#E5ECF6\",\"showlakes\":true,\"showland\":true,\"subunitcolor\":\"white\"},\"hoverlabel\":{\"align\":\"left\"},\"hovermode\":\"closest\",\"mapbox\":{\"style\":\"light\"},\"paper_bgcolor\":\"white\",\"plot_bgcolor\":\"#E5ECF6\",\"polar\":{\"angularaxis\":{\"gridcolor\":\"white\",\"linecolor\":\"white\",\"ticks\":\"\"},\"bgcolor\":\"#E5ECF6\",\"radialaxis\":{\"gridcolor\":\"white\",\"linecolor\":\"white\",\"ticks\":\"\"}},\"scene\":{\"xaxis\":{\"backgroundcolor\":\"#E5ECF6\",\"gridcolor\":\"white\",\"gridwidth\":2,\"linecolor\":\"white\",\"showbackground\":true,\"ticks\":\"\",\"zerolinecolor\":\"white\"},\"yaxis\":{\"backgroundcolor\":\"#E5ECF6\",\"gridcolor\":\"white\",\"gridwidth\":2,\"linecolor\":\"white\",\"showbackground\":true,\"ticks\":\"\",\"zerolinecolor\":\"white\"},\"zaxis\":{\"backgroundcolor\":\"#E5ECF6\",\"gridcolor\":\"white\",\"gridwidth\":2,\"linecolor\":\"white\",\"showbackground\":true,\"ticks\":\"\",\"zerolinecolor\":\"white\"}},\"shapedefaults\":{\"line\":{\"color\":\"#2a3f5f\"}},\"ternary\":{\"aaxis\":{\"gridcolor\":\"white\",\"linecolor\":\"white\",\"ticks\":\"\"},\"baxis\":{\"gridcolor\":\"white\",\"linecolor\":\"white\",\"ticks\":\"\"},\"bgcolor\":\"#E5ECF6\",\"caxis\":{\"gridcolor\":\"white\",\"linecolor\":\"white\",\"ticks\":\"\"}},\"title\":{\"x\":0.05},\"xaxis\":{\"automargin\":true,\"gridcolor\":\"white\",\"linecolor\":\"white\",\"ticks\":\"\",\"title\":{\"standoff\":15},\"zerolinecolor\":\"white\",\"zerolinewidth\":2},\"yaxis\":{\"automargin\":true,\"gridcolor\":\"white\",\"linecolor\":\"white\",\"ticks\":\"\",\"title\":{\"standoff\":15},\"zerolinecolor\":\"white\",\"zerolinewidth\":2}}},\"xaxis\":{\"anchor\":\"y\",\"domain\":[0.0,1.0],\"title\":{\"text\":\"Date\"}},\"yaxis\":{\"anchor\":\"x\",\"domain\":[0.0,1.0],\"title\":{\"text\":\"value\"}},\"legend\":{\"title\":{\"text\":\"variable\"},\"tracegroupgap\":0},\"margin\":{\"t\":60}},                        {\"responsive\": true}                    ).then(function(){\n",
       "                            \n",
       "var gd = document.getElementById('4b6ee835-d039-4fbf-a83e-de4d9cf17077');\n",
       "var x = new MutationObserver(function (mutations, observer) {{\n",
       "        var display = window.getComputedStyle(gd).display;\n",
       "        if (!display || display === 'none') {{\n",
       "            console.log([gd, 'removed!']);\n",
       "            Plotly.purge(gd);\n",
       "            observer.disconnect();\n",
       "        }}\n",
       "}});\n",
       "\n",
       "// Listen for the removal of the full notebook cells\n",
       "var notebookContainer = gd.closest('#notebook-container');\n",
       "if (notebookContainer) {{\n",
       "    x.observe(notebookContainer, {childList: true});\n",
       "}}\n",
       "\n",
       "// Listen for the clearing of the current output cell\n",
       "var outputEl = gd.closest('.output');\n",
       "if (outputEl) {{\n",
       "    x.observe(outputEl, {childList: true});\n",
       "}}\n",
       "\n",
       "                        })                };                });            </script>        </div>"
      ]
     },
     "metadata": {},
     "output_type": "display_data"
    }
   ],
   "source": [
    "Share = px.area(MarketShare, x='Date', y=['British Gas', 'EDF', 'E.ON', 'npower', 'Scottish Power', 'SSE','Co-operative Energy', 'First Utility', 'OVO Energy', 'Utilita', 'Utility Warehouse', 'Green Star Energy', 'Bulb', 'Small Suppliers'], labels={'x':'Date', 'y':'Electric Companies'})\n",
    "Share"
   ]
  },
  {
   "cell_type": "code",
   "execution_count": 27,
   "metadata": {},
   "outputs": [
    {
     "data": {
      "text/plain": [
       "'https://plotly.com/~onik321/1/'"
      ]
     },
     "execution_count": 27,
     "metadata": {},
     "output_type": "execute_result"
    }
   ],
   "source": [
    "py.plot(Share, filename = 'Market Share', auto_open=True)"
   ]
  },
  {
   "cell_type": "markdown",
   "metadata": {},
   "source": [
    "## Electrcity Switches"
   ]
  },
  {
   "cell_type": "code",
   "execution_count": 12,
   "metadata": {},
   "outputs": [
    {
     "data": {
      "text/html": [
       "<div>\n",
       "<style scoped>\n",
       "    .dataframe tbody tr th:only-of-type {\n",
       "        vertical-align: middle;\n",
       "    }\n",
       "\n",
       "    .dataframe tbody tr th {\n",
       "        vertical-align: top;\n",
       "    }\n",
       "\n",
       "    .dataframe thead th {\n",
       "        text-align: right;\n",
       "    }\n",
       "</style>\n",
       "<table border=\"1\" class=\"dataframe\">\n",
       "  <thead>\n",
       "    <tr style=\"text-align: right;\">\n",
       "      <th></th>\n",
       "      <th>Month</th>\n",
       "      <th>Total electricity switches (both switching tariff and/or switching supplier)</th>\n",
       "      <th>Total electricity switches to different suppliers</th>\n",
       "    </tr>\n",
       "  </thead>\n",
       "  <tbody>\n",
       "    <tr>\n",
       "      <th>0</th>\n",
       "      <td>2012-01-01</td>\n",
       "      <td>210000</td>\n",
       "      <td>22337</td>\n",
       "    </tr>\n",
       "    <tr>\n",
       "      <th>1</th>\n",
       "      <td>2012-02-01</td>\n",
       "      <td>257000</td>\n",
       "      <td>29128</td>\n",
       "    </tr>\n",
       "    <tr>\n",
       "      <th>2</th>\n",
       "      <td>2012-03-01</td>\n",
       "      <td>279000</td>\n",
       "      <td>20817</td>\n",
       "    </tr>\n",
       "    <tr>\n",
       "      <th>3</th>\n",
       "      <td>2012-04-01</td>\n",
       "      <td>232000</td>\n",
       "      <td>12872</td>\n",
       "    </tr>\n",
       "    <tr>\n",
       "      <th>4</th>\n",
       "      <td>2012-05-01</td>\n",
       "      <td>286000</td>\n",
       "      <td>19167</td>\n",
       "    </tr>\n",
       "  </tbody>\n",
       "</table>\n",
       "</div>"
      ],
      "text/plain": [
       "       Month  \\\n",
       "0 2012-01-01   \n",
       "1 2012-02-01   \n",
       "2 2012-03-01   \n",
       "3 2012-04-01   \n",
       "4 2012-05-01   \n",
       "\n",
       "   Total electricity switches (both switching tariff and/or switching supplier)  \\\n",
       "0                                             210000                              \n",
       "1                                             257000                              \n",
       "2                                             279000                              \n",
       "3                                             232000                              \n",
       "4                                             286000                              \n",
       "\n",
       "   Total electricity switches to different suppliers  \n",
       "0                                              22337  \n",
       "1                                              29128  \n",
       "2                                              20817  \n",
       "3                                              12872  \n",
       "4                                              19167  "
      ]
     },
     "execution_count": 12,
     "metadata": {},
     "output_type": "execute_result"
    }
   ],
   "source": [
    "ElectricitySwitches.head()"
   ]
  },
  {
   "cell_type": "code",
   "execution_count": 13,
   "metadata": {},
   "outputs": [
    {
     "name": "stdout",
     "output_type": "stream",
     "text": [
      "<class 'pandas.core.frame.DataFrame'>\n",
      "RangeIndex: 79 entries, 0 to 78\n",
      "Data columns (total 3 columns):\n",
      " #   Column                                                                        Non-Null Count  Dtype         \n",
      "---  ------                                                                        --------------  -----         \n",
      " 0   Month                                                                         79 non-null     datetime64[ns]\n",
      " 1   Total electricity switches (both switching tariff and/or switching supplier)  79 non-null     int64         \n",
      " 2   Total electricity switches to different suppliers                             79 non-null     int64         \n",
      "dtypes: datetime64[ns](1), int64(2)\n",
      "memory usage: 2.0 KB\n"
     ]
    }
   ],
   "source": [
    "ElectricitySwitches.info()"
   ]
  },
  {
   "cell_type": "code",
   "execution_count": 14,
   "metadata": {},
   "outputs": [
    {
     "data": {
      "text/plain": [
       "Index(['Month',\n",
       "       'Total electricity switches (both switching tariff and/or switching supplier)',\n",
       "       'Total electricity switches to different suppliers'],\n",
       "      dtype='object')"
      ]
     },
     "execution_count": 14,
     "metadata": {},
     "output_type": "execute_result"
    }
   ],
   "source": [
    "ElectricitySwitches.columns"
   ]
  },
  {
   "cell_type": "code",
   "execution_count": 15,
   "metadata": {},
   "outputs": [],
   "source": [
    "#Total of both switching supplier and tariff \n",
    "#Switches to a different supplier"
   ]
  },
  {
   "cell_type": "code",
   "execution_count": 16,
   "metadata": {},
   "outputs": [],
   "source": [
    "SwitchTariffs = ElectricitySwitches['Total electricity switches (both switching tariff and/or switching supplier)'] - ElectricitySwitches['Total electricity switches to different suppliers']"
   ]
  },
  {
   "cell_type": "code",
   "execution_count": 17,
   "metadata": {},
   "outputs": [
    {
     "name": "stdout",
     "output_type": "stream",
     "text": [
      "0     187663\n",
      "1     227872\n",
      "2     258183\n",
      "3     219128\n",
      "4     266833\n",
      "       ...  \n",
      "74    221790\n",
      "75    180121\n",
      "76    144590\n",
      "77    106603\n",
      "78    142949\n",
      "Length: 79, dtype: int64\n"
     ]
    }
   ],
   "source": [
    "print(SwitchTariffs)"
   ]
  },
  {
   "cell_type": "code",
   "execution_count": 18,
   "metadata": {},
   "outputs": [],
   "source": [
    "ElectricitySwitches[\"Total Electricity Switches to different Tariffs\"] = SwitchTariffs"
   ]
  },
  {
   "cell_type": "code",
   "execution_count": 19,
   "metadata": {},
   "outputs": [
    {
     "data": {
      "text/html": [
       "<div>\n",
       "<style scoped>\n",
       "    .dataframe tbody tr th:only-of-type {\n",
       "        vertical-align: middle;\n",
       "    }\n",
       "\n",
       "    .dataframe tbody tr th {\n",
       "        vertical-align: top;\n",
       "    }\n",
       "\n",
       "    .dataframe thead th {\n",
       "        text-align: right;\n",
       "    }\n",
       "</style>\n",
       "<table border=\"1\" class=\"dataframe\">\n",
       "  <thead>\n",
       "    <tr style=\"text-align: right;\">\n",
       "      <th></th>\n",
       "      <th>Total electricity switches (both switching tariff and/or switching supplier)</th>\n",
       "      <th>Total electricity switches to different suppliers</th>\n",
       "      <th>Total Electricity Switches to different Tariffs</th>\n",
       "    </tr>\n",
       "  </thead>\n",
       "  <tbody>\n",
       "    <tr>\n",
       "      <th>count</th>\n",
       "      <td>79.000000</td>\n",
       "      <td>79.000000</td>\n",
       "      <td>79.000000</td>\n",
       "    </tr>\n",
       "    <tr>\n",
       "      <th>mean</th>\n",
       "      <td>325502.443038</td>\n",
       "      <td>136065.620253</td>\n",
       "      <td>189436.822785</td>\n",
       "    </tr>\n",
       "    <tr>\n",
       "      <th>std</th>\n",
       "      <td>92913.109501</td>\n",
       "      <td>87429.446858</td>\n",
       "      <td>61085.132985</td>\n",
       "    </tr>\n",
       "    <tr>\n",
       "      <th>min</th>\n",
       "      <td>190554.000000</td>\n",
       "      <td>12872.000000</td>\n",
       "      <td>86810.000000</td>\n",
       "    </tr>\n",
       "    <tr>\n",
       "      <th>25%</th>\n",
       "      <td>251523.500000</td>\n",
       "      <td>69049.500000</td>\n",
       "      <td>146139.000000</td>\n",
       "    </tr>\n",
       "    <tr>\n",
       "      <th>50%</th>\n",
       "      <td>309978.000000</td>\n",
       "      <td>128043.000000</td>\n",
       "      <td>184769.000000</td>\n",
       "    </tr>\n",
       "    <tr>\n",
       "      <th>75%</th>\n",
       "      <td>386520.500000</td>\n",
       "      <td>195543.000000</td>\n",
       "      <td>220408.500000</td>\n",
       "    </tr>\n",
       "    <tr>\n",
       "      <th>max</th>\n",
       "      <td>606061.000000</td>\n",
       "      <td>348591.000000</td>\n",
       "      <td>467667.000000</td>\n",
       "    </tr>\n",
       "  </tbody>\n",
       "</table>\n",
       "</div>"
      ],
      "text/plain": [
       "       Total electricity switches (both switching tariff and/or switching supplier)  \\\n",
       "count                                          79.000000                              \n",
       "mean                                       325502.443038                              \n",
       "std                                         92913.109501                              \n",
       "min                                        190554.000000                              \n",
       "25%                                        251523.500000                              \n",
       "50%                                        309978.000000                              \n",
       "75%                                        386520.500000                              \n",
       "max                                        606061.000000                              \n",
       "\n",
       "       Total electricity switches to different suppliers  \\\n",
       "count                                          79.000000   \n",
       "mean                                       136065.620253   \n",
       "std                                         87429.446858   \n",
       "min                                         12872.000000   \n",
       "25%                                         69049.500000   \n",
       "50%                                        128043.000000   \n",
       "75%                                        195543.000000   \n",
       "max                                        348591.000000   \n",
       "\n",
       "       Total Electricity Switches to different Tariffs  \n",
       "count                                        79.000000  \n",
       "mean                                     189436.822785  \n",
       "std                                       61085.132985  \n",
       "min                                       86810.000000  \n",
       "25%                                      146139.000000  \n",
       "50%                                      184769.000000  \n",
       "75%                                      220408.500000  \n",
       "max                                      467667.000000  "
      ]
     },
     "execution_count": 19,
     "metadata": {},
     "output_type": "execute_result"
    }
   ],
   "source": [
    "ElectricitySwitches.describe()"
   ]
  },
  {
   "cell_type": "code",
   "execution_count": 23,
   "metadata": {},
   "outputs": [
    {
     "data": {
      "application/vnd.plotly.v1+json": {
       "config": {
        "plotlyServerURL": "https://plotly.com"
       },
       "data": [
        {
         "alignmentgroup": "True",
         "hovertemplate": "variable=Total electricity switches (both switching tariff and/or switching supplier)<br>Month=%{x}<br>value=%{y}<extra></extra>",
         "legendgroup": "Total electricity switches (both switching tariff and/or switching supplier)",
         "marker": {
          "color": "#636efa",
          "pattern": {
           "shape": ""
          }
         },
         "name": "Total electricity switches (both switching tariff and/or switching supplier)",
         "offsetgroup": "Total electricity switches (both switching tariff and/or switching supplier)",
         "orientation": "v",
         "showlegend": true,
         "textposition": "auto",
         "type": "bar",
         "x": [
          "2012-01-01T00:00:00",
          "2012-02-01T00:00:00",
          "2012-03-01T00:00:00",
          "2012-04-01T00:00:00",
          "2012-05-01T00:00:00",
          "2012-06-01T00:00:00",
          "2012-07-01T00:00:00",
          "2012-08-01T00:00:00",
          "2012-09-01T00:00:00",
          "2012-10-01T00:00:00",
          "2012-11-01T00:00:00",
          "2012-12-01T00:00:00",
          "2013-01-01T00:00:00",
          "2013-02-01T00:00:00",
          "2013-03-01T00:00:00",
          "2013-04-01T00:00:00",
          "2013-05-01T00:00:00",
          "2013-06-01T00:00:00",
          "2013-07-01T00:00:00",
          "2013-08-01T00:00:00",
          "2013-09-01T00:00:00",
          "2013-10-01T00:00:00",
          "2013-11-01T00:00:00",
          "2013-12-01T00:00:00",
          "2014-01-01T00:00:00",
          "2014-02-01T00:00:00",
          "2014-03-01T00:00:00",
          "2014-04-01T00:00:00",
          "2014-05-01T00:00:00",
          "2014-06-01T00:00:00",
          "2014-07-01T00:00:00",
          "2014-08-01T00:00:00",
          "2014-09-01T00:00:00",
          "2014-10-01T00:00:00",
          "2014-11-01T00:00:00",
          "2014-12-01T00:00:00",
          "2015-01-01T00:00:00",
          "2015-02-01T00:00:00",
          "2015-03-01T00:00:00",
          "2015-04-01T00:00:00",
          "2015-05-01T00:00:00",
          "2015-06-01T00:00:00",
          "2015-07-01T00:00:00",
          "2015-08-01T00:00:00",
          "2015-09-01T00:00:00",
          "2015-10-01T00:00:00",
          "2015-11-01T00:00:00",
          "2015-12-01T00:00:00",
          "2016-01-01T00:00:00",
          "2016-02-01T00:00:00",
          "2016-03-01T00:00:00",
          "2016-04-01T00:00:00",
          "2016-05-01T00:00:00",
          "2016-06-01T00:00:00",
          "2016-07-01T00:00:00",
          "2016-08-01T00:00:00",
          "2016-09-01T00:00:00",
          "2016-10-01T00:00:00",
          "2016-11-01T00:00:00",
          "2016-12-01T00:00:00",
          "2017-01-01T00:00:00",
          "2017-02-01T00:00:00",
          "2017-03-01T00:00:00",
          "2017-04-01T00:00:00",
          "2017-05-01T00:00:00",
          "2017-06-01T00:00:00",
          "2017-07-01T00:00:00",
          "2017-08-01T00:00:00",
          "2017-09-01T00:00:00",
          "2017-10-01T00:00:00",
          "2017-11-01T00:00:00",
          "2017-12-01T00:00:00",
          "2018-01-01T00:00:00",
          "2018-02-01T00:00:00",
          "2018-03-01T00:00:00",
          "2018-04-01T00:00:00",
          "2018-05-01T00:00:00",
          "2018-06-01T00:00:00",
          "2018-07-01T00:00:00"
         ],
         "xaxis": "x",
         "y": [
          210000,
          257000,
          279000,
          232000,
          286000,
          272000,
          257000,
          265000,
          312000,
          366000,
          338000,
          266000,
          228000,
          247000,
          247000,
          251000,
          234000,
          218000,
          232000,
          210000,
          254000,
          381186,
          606061,
          309978,
          214944,
          253295,
          269497,
          252047,
          228628,
          201381,
          219026,
          223581,
          283877,
          309890,
          270603,
          311298,
          190554,
          291341,
          382809,
          272996,
          239574,
          229825,
          239343,
          253099,
          279411,
          349278,
          343870,
          310293,
          245922,
          390645,
          453964,
          386456,
          345146,
          335879,
          303404,
          310132,
          349203,
          486878,
          386585,
          423068,
          319503,
          398150,
          512855,
          449463,
          414285,
          379345,
          350660,
          414308,
          520678,
          534746,
          440757,
          385060,
          321560,
          425147,
          443326,
          446530,
          464753,
          455194,
          442406
         ],
         "yaxis": "y"
        },
        {
         "alignmentgroup": "True",
         "hovertemplate": "variable=Total electricity switches to different suppliers<br>Month=%{x}<br>value=%{y}<extra></extra>",
         "legendgroup": "Total electricity switches to different suppliers",
         "marker": {
          "color": "#EF553B",
          "pattern": {
           "shape": ""
          }
         },
         "name": "Total electricity switches to different suppliers",
         "offsetgroup": "Total electricity switches to different suppliers",
         "orientation": "v",
         "showlegend": true,
         "textposition": "auto",
         "type": "bar",
         "x": [
          "2012-01-01T00:00:00",
          "2012-02-01T00:00:00",
          "2012-03-01T00:00:00",
          "2012-04-01T00:00:00",
          "2012-05-01T00:00:00",
          "2012-06-01T00:00:00",
          "2012-07-01T00:00:00",
          "2012-08-01T00:00:00",
          "2012-09-01T00:00:00",
          "2012-10-01T00:00:00",
          "2012-11-01T00:00:00",
          "2012-12-01T00:00:00",
          "2013-01-01T00:00:00",
          "2013-02-01T00:00:00",
          "2013-03-01T00:00:00",
          "2013-04-01T00:00:00",
          "2013-05-01T00:00:00",
          "2013-06-01T00:00:00",
          "2013-07-01T00:00:00",
          "2013-08-01T00:00:00",
          "2013-09-01T00:00:00",
          "2013-10-01T00:00:00",
          "2013-11-01T00:00:00",
          "2013-12-01T00:00:00",
          "2014-01-01T00:00:00",
          "2014-02-01T00:00:00",
          "2014-03-01T00:00:00",
          "2014-04-01T00:00:00",
          "2014-05-01T00:00:00",
          "2014-06-01T00:00:00",
          "2014-07-01T00:00:00",
          "2014-08-01T00:00:00",
          "2014-09-01T00:00:00",
          "2014-10-01T00:00:00",
          "2014-11-01T00:00:00",
          "2014-12-01T00:00:00",
          "2015-01-01T00:00:00",
          "2015-02-01T00:00:00",
          "2015-03-01T00:00:00",
          "2015-04-01T00:00:00",
          "2015-05-01T00:00:00",
          "2015-06-01T00:00:00",
          "2015-07-01T00:00:00",
          "2015-08-01T00:00:00",
          "2015-09-01T00:00:00",
          "2015-10-01T00:00:00",
          "2015-11-01T00:00:00",
          "2015-12-01T00:00:00",
          "2016-01-01T00:00:00",
          "2016-02-01T00:00:00",
          "2016-03-01T00:00:00",
          "2016-04-01T00:00:00",
          "2016-05-01T00:00:00",
          "2016-06-01T00:00:00",
          "2016-07-01T00:00:00",
          "2016-08-01T00:00:00",
          "2016-09-01T00:00:00",
          "2016-10-01T00:00:00",
          "2016-11-01T00:00:00",
          "2016-12-01T00:00:00",
          "2017-01-01T00:00:00",
          "2017-02-01T00:00:00",
          "2017-03-01T00:00:00",
          "2017-04-01T00:00:00",
          "2017-05-01T00:00:00",
          "2017-06-01T00:00:00",
          "2017-07-01T00:00:00",
          "2017-08-01T00:00:00",
          "2017-09-01T00:00:00",
          "2017-10-01T00:00:00",
          "2017-11-01T00:00:00",
          "2017-12-01T00:00:00",
          "2018-01-01T00:00:00",
          "2018-02-01T00:00:00",
          "2018-03-01T00:00:00",
          "2018-04-01T00:00:00",
          "2018-05-01T00:00:00",
          "2018-06-01T00:00:00",
          "2018-07-01T00:00:00"
         ],
         "xaxis": "x",
         "y": [
          22337,
          29128,
          20817,
          12872,
          19167,
          41228,
          18762,
          13366,
          22561,
          72968,
          66652,
          50393,
          43231,
          49082,
          29156,
          29311,
          24985,
          35281,
          31292,
          32638,
          27969,
          71447,
          138394,
          93626,
          93579,
          106708,
          134802,
          133319,
          124802,
          98586,
          104625,
          113960,
          138186,
          118527,
          108793,
          103867,
          73977,
          102445,
          135965,
          108976,
          108499,
          105814,
          108287,
          116633,
          128043,
          161602,
          161034,
          148668,
          139539,
          176036,
          244232,
          204748,
          169711,
          143231,
          140898,
          149026,
          154142,
          150747,
          147607,
          230753,
          203630,
          220784,
          280224,
          274019,
          251465,
          198431,
          177209,
          221136,
          276304,
          310969,
          222992,
          298250,
          192655,
          277930,
          221536,
          266409,
          320163,
          348591,
          299457
         ],
         "yaxis": "y"
        },
        {
         "alignmentgroup": "True",
         "hovertemplate": "variable=Total Electricity Switches to different Tariffs<br>Month=%{x}<br>value=%{y}<extra></extra>",
         "legendgroup": "Total Electricity Switches to different Tariffs",
         "marker": {
          "color": "#00cc96",
          "pattern": {
           "shape": ""
          }
         },
         "name": "Total Electricity Switches to different Tariffs",
         "offsetgroup": "Total Electricity Switches to different Tariffs",
         "orientation": "v",
         "showlegend": true,
         "textposition": "auto",
         "type": "bar",
         "x": [
          "2012-01-01T00:00:00",
          "2012-02-01T00:00:00",
          "2012-03-01T00:00:00",
          "2012-04-01T00:00:00",
          "2012-05-01T00:00:00",
          "2012-06-01T00:00:00",
          "2012-07-01T00:00:00",
          "2012-08-01T00:00:00",
          "2012-09-01T00:00:00",
          "2012-10-01T00:00:00",
          "2012-11-01T00:00:00",
          "2012-12-01T00:00:00",
          "2013-01-01T00:00:00",
          "2013-02-01T00:00:00",
          "2013-03-01T00:00:00",
          "2013-04-01T00:00:00",
          "2013-05-01T00:00:00",
          "2013-06-01T00:00:00",
          "2013-07-01T00:00:00",
          "2013-08-01T00:00:00",
          "2013-09-01T00:00:00",
          "2013-10-01T00:00:00",
          "2013-11-01T00:00:00",
          "2013-12-01T00:00:00",
          "2014-01-01T00:00:00",
          "2014-02-01T00:00:00",
          "2014-03-01T00:00:00",
          "2014-04-01T00:00:00",
          "2014-05-01T00:00:00",
          "2014-06-01T00:00:00",
          "2014-07-01T00:00:00",
          "2014-08-01T00:00:00",
          "2014-09-01T00:00:00",
          "2014-10-01T00:00:00",
          "2014-11-01T00:00:00",
          "2014-12-01T00:00:00",
          "2015-01-01T00:00:00",
          "2015-02-01T00:00:00",
          "2015-03-01T00:00:00",
          "2015-04-01T00:00:00",
          "2015-05-01T00:00:00",
          "2015-06-01T00:00:00",
          "2015-07-01T00:00:00",
          "2015-08-01T00:00:00",
          "2015-09-01T00:00:00",
          "2015-10-01T00:00:00",
          "2015-11-01T00:00:00",
          "2015-12-01T00:00:00",
          "2016-01-01T00:00:00",
          "2016-02-01T00:00:00",
          "2016-03-01T00:00:00",
          "2016-04-01T00:00:00",
          "2016-05-01T00:00:00",
          "2016-06-01T00:00:00",
          "2016-07-01T00:00:00",
          "2016-08-01T00:00:00",
          "2016-09-01T00:00:00",
          "2016-10-01T00:00:00",
          "2016-11-01T00:00:00",
          "2016-12-01T00:00:00",
          "2017-01-01T00:00:00",
          "2017-02-01T00:00:00",
          "2017-03-01T00:00:00",
          "2017-04-01T00:00:00",
          "2017-05-01T00:00:00",
          "2017-06-01T00:00:00",
          "2017-07-01T00:00:00",
          "2017-08-01T00:00:00",
          "2017-09-01T00:00:00",
          "2017-10-01T00:00:00",
          "2017-11-01T00:00:00",
          "2017-12-01T00:00:00",
          "2018-01-01T00:00:00",
          "2018-02-01T00:00:00",
          "2018-03-01T00:00:00",
          "2018-04-01T00:00:00",
          "2018-05-01T00:00:00",
          "2018-06-01T00:00:00",
          "2018-07-01T00:00:00"
         ],
         "xaxis": "x",
         "y": [
          187663,
          227872,
          258183,
          219128,
          266833,
          230772,
          238238,
          251634,
          289439,
          293032,
          271348,
          215607,
          184769,
          197918,
          217844,
          221689,
          209015,
          182719,
          200708,
          177362,
          226031,
          309739,
          467667,
          216352,
          121365,
          146587,
          134695,
          118728,
          103826,
          102795,
          114401,
          109621,
          145691,
          191363,
          161810,
          207431,
          116577,
          188896,
          246844,
          164020,
          131075,
          124011,
          131056,
          136466,
          151368,
          187676,
          182836,
          161625,
          106383,
          214609,
          209732,
          181708,
          175435,
          192648,
          162506,
          161106,
          195061,
          336131,
          238978,
          192315,
          115873,
          177366,
          232631,
          175444,
          162820,
          180914,
          173451,
          193172,
          244374,
          223777,
          217765,
          86810,
          128905,
          147217,
          221790,
          180121,
          144590,
          106603,
          142949
         ],
         "yaxis": "y"
        }
       ],
       "layout": {
        "barmode": "relative",
        "legend": {
         "title": {
          "text": "variable"
         },
         "tracegroupgap": 0
        },
        "margin": {
         "t": 60
        },
        "template": {
         "data": {
          "bar": [
           {
            "error_x": {
             "color": "#2a3f5f"
            },
            "error_y": {
             "color": "#2a3f5f"
            },
            "marker": {
             "line": {
              "color": "#E5ECF6",
              "width": 0.5
             },
             "pattern": {
              "fillmode": "overlay",
              "size": 10,
              "solidity": 0.2
             }
            },
            "type": "bar"
           }
          ],
          "barpolar": [
           {
            "marker": {
             "line": {
              "color": "#E5ECF6",
              "width": 0.5
             },
             "pattern": {
              "fillmode": "overlay",
              "size": 10,
              "solidity": 0.2
             }
            },
            "type": "barpolar"
           }
          ],
          "carpet": [
           {
            "aaxis": {
             "endlinecolor": "#2a3f5f",
             "gridcolor": "white",
             "linecolor": "white",
             "minorgridcolor": "white",
             "startlinecolor": "#2a3f5f"
            },
            "baxis": {
             "endlinecolor": "#2a3f5f",
             "gridcolor": "white",
             "linecolor": "white",
             "minorgridcolor": "white",
             "startlinecolor": "#2a3f5f"
            },
            "type": "carpet"
           }
          ],
          "choropleth": [
           {
            "colorbar": {
             "outlinewidth": 0,
             "ticks": ""
            },
            "type": "choropleth"
           }
          ],
          "contour": [
           {
            "colorbar": {
             "outlinewidth": 0,
             "ticks": ""
            },
            "colorscale": [
             [
              0,
              "#0d0887"
             ],
             [
              0.1111111111111111,
              "#46039f"
             ],
             [
              0.2222222222222222,
              "#7201a8"
             ],
             [
              0.3333333333333333,
              "#9c179e"
             ],
             [
              0.4444444444444444,
              "#bd3786"
             ],
             [
              0.5555555555555556,
              "#d8576b"
             ],
             [
              0.6666666666666666,
              "#ed7953"
             ],
             [
              0.7777777777777778,
              "#fb9f3a"
             ],
             [
              0.8888888888888888,
              "#fdca26"
             ],
             [
              1,
              "#f0f921"
             ]
            ],
            "type": "contour"
           }
          ],
          "contourcarpet": [
           {
            "colorbar": {
             "outlinewidth": 0,
             "ticks": ""
            },
            "type": "contourcarpet"
           }
          ],
          "heatmap": [
           {
            "colorbar": {
             "outlinewidth": 0,
             "ticks": ""
            },
            "colorscale": [
             [
              0,
              "#0d0887"
             ],
             [
              0.1111111111111111,
              "#46039f"
             ],
             [
              0.2222222222222222,
              "#7201a8"
             ],
             [
              0.3333333333333333,
              "#9c179e"
             ],
             [
              0.4444444444444444,
              "#bd3786"
             ],
             [
              0.5555555555555556,
              "#d8576b"
             ],
             [
              0.6666666666666666,
              "#ed7953"
             ],
             [
              0.7777777777777778,
              "#fb9f3a"
             ],
             [
              0.8888888888888888,
              "#fdca26"
             ],
             [
              1,
              "#f0f921"
             ]
            ],
            "type": "heatmap"
           }
          ],
          "heatmapgl": [
           {
            "colorbar": {
             "outlinewidth": 0,
             "ticks": ""
            },
            "colorscale": [
             [
              0,
              "#0d0887"
             ],
             [
              0.1111111111111111,
              "#46039f"
             ],
             [
              0.2222222222222222,
              "#7201a8"
             ],
             [
              0.3333333333333333,
              "#9c179e"
             ],
             [
              0.4444444444444444,
              "#bd3786"
             ],
             [
              0.5555555555555556,
              "#d8576b"
             ],
             [
              0.6666666666666666,
              "#ed7953"
             ],
             [
              0.7777777777777778,
              "#fb9f3a"
             ],
             [
              0.8888888888888888,
              "#fdca26"
             ],
             [
              1,
              "#f0f921"
             ]
            ],
            "type": "heatmapgl"
           }
          ],
          "histogram": [
           {
            "marker": {
             "pattern": {
              "fillmode": "overlay",
              "size": 10,
              "solidity": 0.2
             }
            },
            "type": "histogram"
           }
          ],
          "histogram2d": [
           {
            "colorbar": {
             "outlinewidth": 0,
             "ticks": ""
            },
            "colorscale": [
             [
              0,
              "#0d0887"
             ],
             [
              0.1111111111111111,
              "#46039f"
             ],
             [
              0.2222222222222222,
              "#7201a8"
             ],
             [
              0.3333333333333333,
              "#9c179e"
             ],
             [
              0.4444444444444444,
              "#bd3786"
             ],
             [
              0.5555555555555556,
              "#d8576b"
             ],
             [
              0.6666666666666666,
              "#ed7953"
             ],
             [
              0.7777777777777778,
              "#fb9f3a"
             ],
             [
              0.8888888888888888,
              "#fdca26"
             ],
             [
              1,
              "#f0f921"
             ]
            ],
            "type": "histogram2d"
           }
          ],
          "histogram2dcontour": [
           {
            "colorbar": {
             "outlinewidth": 0,
             "ticks": ""
            },
            "colorscale": [
             [
              0,
              "#0d0887"
             ],
             [
              0.1111111111111111,
              "#46039f"
             ],
             [
              0.2222222222222222,
              "#7201a8"
             ],
             [
              0.3333333333333333,
              "#9c179e"
             ],
             [
              0.4444444444444444,
              "#bd3786"
             ],
             [
              0.5555555555555556,
              "#d8576b"
             ],
             [
              0.6666666666666666,
              "#ed7953"
             ],
             [
              0.7777777777777778,
              "#fb9f3a"
             ],
             [
              0.8888888888888888,
              "#fdca26"
             ],
             [
              1,
              "#f0f921"
             ]
            ],
            "type": "histogram2dcontour"
           }
          ],
          "mesh3d": [
           {
            "colorbar": {
             "outlinewidth": 0,
             "ticks": ""
            },
            "type": "mesh3d"
           }
          ],
          "parcoords": [
           {
            "line": {
             "colorbar": {
              "outlinewidth": 0,
              "ticks": ""
             }
            },
            "type": "parcoords"
           }
          ],
          "pie": [
           {
            "automargin": true,
            "type": "pie"
           }
          ],
          "scatter": [
           {
            "marker": {
             "colorbar": {
              "outlinewidth": 0,
              "ticks": ""
             }
            },
            "type": "scatter"
           }
          ],
          "scatter3d": [
           {
            "line": {
             "colorbar": {
              "outlinewidth": 0,
              "ticks": ""
             }
            },
            "marker": {
             "colorbar": {
              "outlinewidth": 0,
              "ticks": ""
             }
            },
            "type": "scatter3d"
           }
          ],
          "scattercarpet": [
           {
            "marker": {
             "colorbar": {
              "outlinewidth": 0,
              "ticks": ""
             }
            },
            "type": "scattercarpet"
           }
          ],
          "scattergeo": [
           {
            "marker": {
             "colorbar": {
              "outlinewidth": 0,
              "ticks": ""
             }
            },
            "type": "scattergeo"
           }
          ],
          "scattergl": [
           {
            "marker": {
             "colorbar": {
              "outlinewidth": 0,
              "ticks": ""
             }
            },
            "type": "scattergl"
           }
          ],
          "scattermapbox": [
           {
            "marker": {
             "colorbar": {
              "outlinewidth": 0,
              "ticks": ""
             }
            },
            "type": "scattermapbox"
           }
          ],
          "scatterpolar": [
           {
            "marker": {
             "colorbar": {
              "outlinewidth": 0,
              "ticks": ""
             }
            },
            "type": "scatterpolar"
           }
          ],
          "scatterpolargl": [
           {
            "marker": {
             "colorbar": {
              "outlinewidth": 0,
              "ticks": ""
             }
            },
            "type": "scatterpolargl"
           }
          ],
          "scatterternary": [
           {
            "marker": {
             "colorbar": {
              "outlinewidth": 0,
              "ticks": ""
             }
            },
            "type": "scatterternary"
           }
          ],
          "surface": [
           {
            "colorbar": {
             "outlinewidth": 0,
             "ticks": ""
            },
            "colorscale": [
             [
              0,
              "#0d0887"
             ],
             [
              0.1111111111111111,
              "#46039f"
             ],
             [
              0.2222222222222222,
              "#7201a8"
             ],
             [
              0.3333333333333333,
              "#9c179e"
             ],
             [
              0.4444444444444444,
              "#bd3786"
             ],
             [
              0.5555555555555556,
              "#d8576b"
             ],
             [
              0.6666666666666666,
              "#ed7953"
             ],
             [
              0.7777777777777778,
              "#fb9f3a"
             ],
             [
              0.8888888888888888,
              "#fdca26"
             ],
             [
              1,
              "#f0f921"
             ]
            ],
            "type": "surface"
           }
          ],
          "table": [
           {
            "cells": {
             "fill": {
              "color": "#EBF0F8"
             },
             "line": {
              "color": "white"
             }
            },
            "header": {
             "fill": {
              "color": "#C8D4E3"
             },
             "line": {
              "color": "white"
             }
            },
            "type": "table"
           }
          ]
         },
         "layout": {
          "annotationdefaults": {
           "arrowcolor": "#2a3f5f",
           "arrowhead": 0,
           "arrowwidth": 1
          },
          "autotypenumbers": "strict",
          "coloraxis": {
           "colorbar": {
            "outlinewidth": 0,
            "ticks": ""
           }
          },
          "colorscale": {
           "diverging": [
            [
             0,
             "#8e0152"
            ],
            [
             0.1,
             "#c51b7d"
            ],
            [
             0.2,
             "#de77ae"
            ],
            [
             0.3,
             "#f1b6da"
            ],
            [
             0.4,
             "#fde0ef"
            ],
            [
             0.5,
             "#f7f7f7"
            ],
            [
             0.6,
             "#e6f5d0"
            ],
            [
             0.7,
             "#b8e186"
            ],
            [
             0.8,
             "#7fbc41"
            ],
            [
             0.9,
             "#4d9221"
            ],
            [
             1,
             "#276419"
            ]
           ],
           "sequential": [
            [
             0,
             "#0d0887"
            ],
            [
             0.1111111111111111,
             "#46039f"
            ],
            [
             0.2222222222222222,
             "#7201a8"
            ],
            [
             0.3333333333333333,
             "#9c179e"
            ],
            [
             0.4444444444444444,
             "#bd3786"
            ],
            [
             0.5555555555555556,
             "#d8576b"
            ],
            [
             0.6666666666666666,
             "#ed7953"
            ],
            [
             0.7777777777777778,
             "#fb9f3a"
            ],
            [
             0.8888888888888888,
             "#fdca26"
            ],
            [
             1,
             "#f0f921"
            ]
           ],
           "sequentialminus": [
            [
             0,
             "#0d0887"
            ],
            [
             0.1111111111111111,
             "#46039f"
            ],
            [
             0.2222222222222222,
             "#7201a8"
            ],
            [
             0.3333333333333333,
             "#9c179e"
            ],
            [
             0.4444444444444444,
             "#bd3786"
            ],
            [
             0.5555555555555556,
             "#d8576b"
            ],
            [
             0.6666666666666666,
             "#ed7953"
            ],
            [
             0.7777777777777778,
             "#fb9f3a"
            ],
            [
             0.8888888888888888,
             "#fdca26"
            ],
            [
             1,
             "#f0f921"
            ]
           ]
          },
          "colorway": [
           "#636efa",
           "#EF553B",
           "#00cc96",
           "#ab63fa",
           "#FFA15A",
           "#19d3f3",
           "#FF6692",
           "#B6E880",
           "#FF97FF",
           "#FECB52"
          ],
          "font": {
           "color": "#2a3f5f"
          },
          "geo": {
           "bgcolor": "white",
           "lakecolor": "white",
           "landcolor": "#E5ECF6",
           "showlakes": true,
           "showland": true,
           "subunitcolor": "white"
          },
          "hoverlabel": {
           "align": "left"
          },
          "hovermode": "closest",
          "mapbox": {
           "style": "light"
          },
          "paper_bgcolor": "white",
          "plot_bgcolor": "#E5ECF6",
          "polar": {
           "angularaxis": {
            "gridcolor": "white",
            "linecolor": "white",
            "ticks": ""
           },
           "bgcolor": "#E5ECF6",
           "radialaxis": {
            "gridcolor": "white",
            "linecolor": "white",
            "ticks": ""
           }
          },
          "scene": {
           "xaxis": {
            "backgroundcolor": "#E5ECF6",
            "gridcolor": "white",
            "gridwidth": 2,
            "linecolor": "white",
            "showbackground": true,
            "ticks": "",
            "zerolinecolor": "white"
           },
           "yaxis": {
            "backgroundcolor": "#E5ECF6",
            "gridcolor": "white",
            "gridwidth": 2,
            "linecolor": "white",
            "showbackground": true,
            "ticks": "",
            "zerolinecolor": "white"
           },
           "zaxis": {
            "backgroundcolor": "#E5ECF6",
            "gridcolor": "white",
            "gridwidth": 2,
            "linecolor": "white",
            "showbackground": true,
            "ticks": "",
            "zerolinecolor": "white"
           }
          },
          "shapedefaults": {
           "line": {
            "color": "#2a3f5f"
           }
          },
          "ternary": {
           "aaxis": {
            "gridcolor": "white",
            "linecolor": "white",
            "ticks": ""
           },
           "baxis": {
            "gridcolor": "white",
            "linecolor": "white",
            "ticks": ""
           },
           "bgcolor": "#E5ECF6",
           "caxis": {
            "gridcolor": "white",
            "linecolor": "white",
            "ticks": ""
           }
          },
          "title": {
           "x": 0.05
          },
          "xaxis": {
           "automargin": true,
           "gridcolor": "white",
           "linecolor": "white",
           "ticks": "",
           "title": {
            "standoff": 15
           },
           "zerolinecolor": "white",
           "zerolinewidth": 2
          },
          "yaxis": {
           "automargin": true,
           "gridcolor": "white",
           "linecolor": "white",
           "ticks": "",
           "title": {
            "standoff": 15
           },
           "zerolinecolor": "white",
           "zerolinewidth": 2
          }
         }
        },
        "xaxis": {
         "anchor": "y",
         "domain": [
          0,
          1
         ],
         "title": {
          "text": "Month"
         }
        },
        "yaxis": {
         "anchor": "x",
         "domain": [
          0,
          1
         ],
         "title": {
          "text": "value"
         }
        }
       }
      },
      "text/html": [
       "<div>                            <div id=\"f56eff70-2d80-4231-bd5f-2e8170ae6ac6\" class=\"plotly-graph-div\" style=\"height:525px; width:100%;\"></div>            <script type=\"text/javascript\">                require([\"plotly\"], function(Plotly) {                    window.PLOTLYENV=window.PLOTLYENV || {};                                    if (document.getElementById(\"f56eff70-2d80-4231-bd5f-2e8170ae6ac6\")) {                    Plotly.newPlot(                        \"f56eff70-2d80-4231-bd5f-2e8170ae6ac6\",                        [{\"alignmentgroup\":\"True\",\"hovertemplate\":\"variable=Total electricity switches (both switching tariff and/or switching supplier)<br>Month=%{x}<br>value=%{y}<extra></extra>\",\"legendgroup\":\"Total electricity switches (both switching tariff and/or switching supplier)\",\"marker\":{\"color\":\"#636efa\",\"pattern\":{\"shape\":\"\"}},\"name\":\"Total electricity switches (both switching tariff and/or switching supplier)\",\"offsetgroup\":\"Total electricity switches (both switching tariff and/or switching supplier)\",\"orientation\":\"v\",\"showlegend\":true,\"textposition\":\"auto\",\"x\":[\"2012-01-01T00:00:00\",\"2012-02-01T00:00:00\",\"2012-03-01T00:00:00\",\"2012-04-01T00:00:00\",\"2012-05-01T00:00:00\",\"2012-06-01T00:00:00\",\"2012-07-01T00:00:00\",\"2012-08-01T00:00:00\",\"2012-09-01T00:00:00\",\"2012-10-01T00:00:00\",\"2012-11-01T00:00:00\",\"2012-12-01T00:00:00\",\"2013-01-01T00:00:00\",\"2013-02-01T00:00:00\",\"2013-03-01T00:00:00\",\"2013-04-01T00:00:00\",\"2013-05-01T00:00:00\",\"2013-06-01T00:00:00\",\"2013-07-01T00:00:00\",\"2013-08-01T00:00:00\",\"2013-09-01T00:00:00\",\"2013-10-01T00:00:00\",\"2013-11-01T00:00:00\",\"2013-12-01T00:00:00\",\"2014-01-01T00:00:00\",\"2014-02-01T00:00:00\",\"2014-03-01T00:00:00\",\"2014-04-01T00:00:00\",\"2014-05-01T00:00:00\",\"2014-06-01T00:00:00\",\"2014-07-01T00:00:00\",\"2014-08-01T00:00:00\",\"2014-09-01T00:00:00\",\"2014-10-01T00:00:00\",\"2014-11-01T00:00:00\",\"2014-12-01T00:00:00\",\"2015-01-01T00:00:00\",\"2015-02-01T00:00:00\",\"2015-03-01T00:00:00\",\"2015-04-01T00:00:00\",\"2015-05-01T00:00:00\",\"2015-06-01T00:00:00\",\"2015-07-01T00:00:00\",\"2015-08-01T00:00:00\",\"2015-09-01T00:00:00\",\"2015-10-01T00:00:00\",\"2015-11-01T00:00:00\",\"2015-12-01T00:00:00\",\"2016-01-01T00:00:00\",\"2016-02-01T00:00:00\",\"2016-03-01T00:00:00\",\"2016-04-01T00:00:00\",\"2016-05-01T00:00:00\",\"2016-06-01T00:00:00\",\"2016-07-01T00:00:00\",\"2016-08-01T00:00:00\",\"2016-09-01T00:00:00\",\"2016-10-01T00:00:00\",\"2016-11-01T00:00:00\",\"2016-12-01T00:00:00\",\"2017-01-01T00:00:00\",\"2017-02-01T00:00:00\",\"2017-03-01T00:00:00\",\"2017-04-01T00:00:00\",\"2017-05-01T00:00:00\",\"2017-06-01T00:00:00\",\"2017-07-01T00:00:00\",\"2017-08-01T00:00:00\",\"2017-09-01T00:00:00\",\"2017-10-01T00:00:00\",\"2017-11-01T00:00:00\",\"2017-12-01T00:00:00\",\"2018-01-01T00:00:00\",\"2018-02-01T00:00:00\",\"2018-03-01T00:00:00\",\"2018-04-01T00:00:00\",\"2018-05-01T00:00:00\",\"2018-06-01T00:00:00\",\"2018-07-01T00:00:00\"],\"xaxis\":\"x\",\"y\":[210000,257000,279000,232000,286000,272000,257000,265000,312000,366000,338000,266000,228000,247000,247000,251000,234000,218000,232000,210000,254000,381186,606061,309978,214944,253295,269497,252047,228628,201381,219026,223581,283877,309890,270603,311298,190554,291341,382809,272996,239574,229825,239343,253099,279411,349278,343870,310293,245922,390645,453964,386456,345146,335879,303404,310132,349203,486878,386585,423068,319503,398150,512855,449463,414285,379345,350660,414308,520678,534746,440757,385060,321560,425147,443326,446530,464753,455194,442406],\"yaxis\":\"y\",\"type\":\"bar\"},{\"alignmentgroup\":\"True\",\"hovertemplate\":\"variable=Total electricity switches to different suppliers<br>Month=%{x}<br>value=%{y}<extra></extra>\",\"legendgroup\":\"Total electricity switches to different suppliers\",\"marker\":{\"color\":\"#EF553B\",\"pattern\":{\"shape\":\"\"}},\"name\":\"Total electricity switches to different suppliers\",\"offsetgroup\":\"Total electricity switches to different suppliers\",\"orientation\":\"v\",\"showlegend\":true,\"textposition\":\"auto\",\"x\":[\"2012-01-01T00:00:00\",\"2012-02-01T00:00:00\",\"2012-03-01T00:00:00\",\"2012-04-01T00:00:00\",\"2012-05-01T00:00:00\",\"2012-06-01T00:00:00\",\"2012-07-01T00:00:00\",\"2012-08-01T00:00:00\",\"2012-09-01T00:00:00\",\"2012-10-01T00:00:00\",\"2012-11-01T00:00:00\",\"2012-12-01T00:00:00\",\"2013-01-01T00:00:00\",\"2013-02-01T00:00:00\",\"2013-03-01T00:00:00\",\"2013-04-01T00:00:00\",\"2013-05-01T00:00:00\",\"2013-06-01T00:00:00\",\"2013-07-01T00:00:00\",\"2013-08-01T00:00:00\",\"2013-09-01T00:00:00\",\"2013-10-01T00:00:00\",\"2013-11-01T00:00:00\",\"2013-12-01T00:00:00\",\"2014-01-01T00:00:00\",\"2014-02-01T00:00:00\",\"2014-03-01T00:00:00\",\"2014-04-01T00:00:00\",\"2014-05-01T00:00:00\",\"2014-06-01T00:00:00\",\"2014-07-01T00:00:00\",\"2014-08-01T00:00:00\",\"2014-09-01T00:00:00\",\"2014-10-01T00:00:00\",\"2014-11-01T00:00:00\",\"2014-12-01T00:00:00\",\"2015-01-01T00:00:00\",\"2015-02-01T00:00:00\",\"2015-03-01T00:00:00\",\"2015-04-01T00:00:00\",\"2015-05-01T00:00:00\",\"2015-06-01T00:00:00\",\"2015-07-01T00:00:00\",\"2015-08-01T00:00:00\",\"2015-09-01T00:00:00\",\"2015-10-01T00:00:00\",\"2015-11-01T00:00:00\",\"2015-12-01T00:00:00\",\"2016-01-01T00:00:00\",\"2016-02-01T00:00:00\",\"2016-03-01T00:00:00\",\"2016-04-01T00:00:00\",\"2016-05-01T00:00:00\",\"2016-06-01T00:00:00\",\"2016-07-01T00:00:00\",\"2016-08-01T00:00:00\",\"2016-09-01T00:00:00\",\"2016-10-01T00:00:00\",\"2016-11-01T00:00:00\",\"2016-12-01T00:00:00\",\"2017-01-01T00:00:00\",\"2017-02-01T00:00:00\",\"2017-03-01T00:00:00\",\"2017-04-01T00:00:00\",\"2017-05-01T00:00:00\",\"2017-06-01T00:00:00\",\"2017-07-01T00:00:00\",\"2017-08-01T00:00:00\",\"2017-09-01T00:00:00\",\"2017-10-01T00:00:00\",\"2017-11-01T00:00:00\",\"2017-12-01T00:00:00\",\"2018-01-01T00:00:00\",\"2018-02-01T00:00:00\",\"2018-03-01T00:00:00\",\"2018-04-01T00:00:00\",\"2018-05-01T00:00:00\",\"2018-06-01T00:00:00\",\"2018-07-01T00:00:00\"],\"xaxis\":\"x\",\"y\":[22337,29128,20817,12872,19167,41228,18762,13366,22561,72968,66652,50393,43231,49082,29156,29311,24985,35281,31292,32638,27969,71447,138394,93626,93579,106708,134802,133319,124802,98586,104625,113960,138186,118527,108793,103867,73977,102445,135965,108976,108499,105814,108287,116633,128043,161602,161034,148668,139539,176036,244232,204748,169711,143231,140898,149026,154142,150747,147607,230753,203630,220784,280224,274019,251465,198431,177209,221136,276304,310969,222992,298250,192655,277930,221536,266409,320163,348591,299457],\"yaxis\":\"y\",\"type\":\"bar\"},{\"alignmentgroup\":\"True\",\"hovertemplate\":\"variable=Total Electricity Switches to different Tariffs<br>Month=%{x}<br>value=%{y}<extra></extra>\",\"legendgroup\":\"Total Electricity Switches to different Tariffs\",\"marker\":{\"color\":\"#00cc96\",\"pattern\":{\"shape\":\"\"}},\"name\":\"Total Electricity Switches to different Tariffs\",\"offsetgroup\":\"Total Electricity Switches to different Tariffs\",\"orientation\":\"v\",\"showlegend\":true,\"textposition\":\"auto\",\"x\":[\"2012-01-01T00:00:00\",\"2012-02-01T00:00:00\",\"2012-03-01T00:00:00\",\"2012-04-01T00:00:00\",\"2012-05-01T00:00:00\",\"2012-06-01T00:00:00\",\"2012-07-01T00:00:00\",\"2012-08-01T00:00:00\",\"2012-09-01T00:00:00\",\"2012-10-01T00:00:00\",\"2012-11-01T00:00:00\",\"2012-12-01T00:00:00\",\"2013-01-01T00:00:00\",\"2013-02-01T00:00:00\",\"2013-03-01T00:00:00\",\"2013-04-01T00:00:00\",\"2013-05-01T00:00:00\",\"2013-06-01T00:00:00\",\"2013-07-01T00:00:00\",\"2013-08-01T00:00:00\",\"2013-09-01T00:00:00\",\"2013-10-01T00:00:00\",\"2013-11-01T00:00:00\",\"2013-12-01T00:00:00\",\"2014-01-01T00:00:00\",\"2014-02-01T00:00:00\",\"2014-03-01T00:00:00\",\"2014-04-01T00:00:00\",\"2014-05-01T00:00:00\",\"2014-06-01T00:00:00\",\"2014-07-01T00:00:00\",\"2014-08-01T00:00:00\",\"2014-09-01T00:00:00\",\"2014-10-01T00:00:00\",\"2014-11-01T00:00:00\",\"2014-12-01T00:00:00\",\"2015-01-01T00:00:00\",\"2015-02-01T00:00:00\",\"2015-03-01T00:00:00\",\"2015-04-01T00:00:00\",\"2015-05-01T00:00:00\",\"2015-06-01T00:00:00\",\"2015-07-01T00:00:00\",\"2015-08-01T00:00:00\",\"2015-09-01T00:00:00\",\"2015-10-01T00:00:00\",\"2015-11-01T00:00:00\",\"2015-12-01T00:00:00\",\"2016-01-01T00:00:00\",\"2016-02-01T00:00:00\",\"2016-03-01T00:00:00\",\"2016-04-01T00:00:00\",\"2016-05-01T00:00:00\",\"2016-06-01T00:00:00\",\"2016-07-01T00:00:00\",\"2016-08-01T00:00:00\",\"2016-09-01T00:00:00\",\"2016-10-01T00:00:00\",\"2016-11-01T00:00:00\",\"2016-12-01T00:00:00\",\"2017-01-01T00:00:00\",\"2017-02-01T00:00:00\",\"2017-03-01T00:00:00\",\"2017-04-01T00:00:00\",\"2017-05-01T00:00:00\",\"2017-06-01T00:00:00\",\"2017-07-01T00:00:00\",\"2017-08-01T00:00:00\",\"2017-09-01T00:00:00\",\"2017-10-01T00:00:00\",\"2017-11-01T00:00:00\",\"2017-12-01T00:00:00\",\"2018-01-01T00:00:00\",\"2018-02-01T00:00:00\",\"2018-03-01T00:00:00\",\"2018-04-01T00:00:00\",\"2018-05-01T00:00:00\",\"2018-06-01T00:00:00\",\"2018-07-01T00:00:00\"],\"xaxis\":\"x\",\"y\":[187663,227872,258183,219128,266833,230772,238238,251634,289439,293032,271348,215607,184769,197918,217844,221689,209015,182719,200708,177362,226031,309739,467667,216352,121365,146587,134695,118728,103826,102795,114401,109621,145691,191363,161810,207431,116577,188896,246844,164020,131075,124011,131056,136466,151368,187676,182836,161625,106383,214609,209732,181708,175435,192648,162506,161106,195061,336131,238978,192315,115873,177366,232631,175444,162820,180914,173451,193172,244374,223777,217765,86810,128905,147217,221790,180121,144590,106603,142949],\"yaxis\":\"y\",\"type\":\"bar\"}],                        {\"template\":{\"data\":{\"bar\":[{\"error_x\":{\"color\":\"#2a3f5f\"},\"error_y\":{\"color\":\"#2a3f5f\"},\"marker\":{\"line\":{\"color\":\"#E5ECF6\",\"width\":0.5},\"pattern\":{\"fillmode\":\"overlay\",\"size\":10,\"solidity\":0.2}},\"type\":\"bar\"}],\"barpolar\":[{\"marker\":{\"line\":{\"color\":\"#E5ECF6\",\"width\":0.5},\"pattern\":{\"fillmode\":\"overlay\",\"size\":10,\"solidity\":0.2}},\"type\":\"barpolar\"}],\"carpet\":[{\"aaxis\":{\"endlinecolor\":\"#2a3f5f\",\"gridcolor\":\"white\",\"linecolor\":\"white\",\"minorgridcolor\":\"white\",\"startlinecolor\":\"#2a3f5f\"},\"baxis\":{\"endlinecolor\":\"#2a3f5f\",\"gridcolor\":\"white\",\"linecolor\":\"white\",\"minorgridcolor\":\"white\",\"startlinecolor\":\"#2a3f5f\"},\"type\":\"carpet\"}],\"choropleth\":[{\"colorbar\":{\"outlinewidth\":0,\"ticks\":\"\"},\"type\":\"choropleth\"}],\"contour\":[{\"colorbar\":{\"outlinewidth\":0,\"ticks\":\"\"},\"colorscale\":[[0.0,\"#0d0887\"],[0.1111111111111111,\"#46039f\"],[0.2222222222222222,\"#7201a8\"],[0.3333333333333333,\"#9c179e\"],[0.4444444444444444,\"#bd3786\"],[0.5555555555555556,\"#d8576b\"],[0.6666666666666666,\"#ed7953\"],[0.7777777777777778,\"#fb9f3a\"],[0.8888888888888888,\"#fdca26\"],[1.0,\"#f0f921\"]],\"type\":\"contour\"}],\"contourcarpet\":[{\"colorbar\":{\"outlinewidth\":0,\"ticks\":\"\"},\"type\":\"contourcarpet\"}],\"heatmap\":[{\"colorbar\":{\"outlinewidth\":0,\"ticks\":\"\"},\"colorscale\":[[0.0,\"#0d0887\"],[0.1111111111111111,\"#46039f\"],[0.2222222222222222,\"#7201a8\"],[0.3333333333333333,\"#9c179e\"],[0.4444444444444444,\"#bd3786\"],[0.5555555555555556,\"#d8576b\"],[0.6666666666666666,\"#ed7953\"],[0.7777777777777778,\"#fb9f3a\"],[0.8888888888888888,\"#fdca26\"],[1.0,\"#f0f921\"]],\"type\":\"heatmap\"}],\"heatmapgl\":[{\"colorbar\":{\"outlinewidth\":0,\"ticks\":\"\"},\"colorscale\":[[0.0,\"#0d0887\"],[0.1111111111111111,\"#46039f\"],[0.2222222222222222,\"#7201a8\"],[0.3333333333333333,\"#9c179e\"],[0.4444444444444444,\"#bd3786\"],[0.5555555555555556,\"#d8576b\"],[0.6666666666666666,\"#ed7953\"],[0.7777777777777778,\"#fb9f3a\"],[0.8888888888888888,\"#fdca26\"],[1.0,\"#f0f921\"]],\"type\":\"heatmapgl\"}],\"histogram\":[{\"marker\":{\"pattern\":{\"fillmode\":\"overlay\",\"size\":10,\"solidity\":0.2}},\"type\":\"histogram\"}],\"histogram2d\":[{\"colorbar\":{\"outlinewidth\":0,\"ticks\":\"\"},\"colorscale\":[[0.0,\"#0d0887\"],[0.1111111111111111,\"#46039f\"],[0.2222222222222222,\"#7201a8\"],[0.3333333333333333,\"#9c179e\"],[0.4444444444444444,\"#bd3786\"],[0.5555555555555556,\"#d8576b\"],[0.6666666666666666,\"#ed7953\"],[0.7777777777777778,\"#fb9f3a\"],[0.8888888888888888,\"#fdca26\"],[1.0,\"#f0f921\"]],\"type\":\"histogram2d\"}],\"histogram2dcontour\":[{\"colorbar\":{\"outlinewidth\":0,\"ticks\":\"\"},\"colorscale\":[[0.0,\"#0d0887\"],[0.1111111111111111,\"#46039f\"],[0.2222222222222222,\"#7201a8\"],[0.3333333333333333,\"#9c179e\"],[0.4444444444444444,\"#bd3786\"],[0.5555555555555556,\"#d8576b\"],[0.6666666666666666,\"#ed7953\"],[0.7777777777777778,\"#fb9f3a\"],[0.8888888888888888,\"#fdca26\"],[1.0,\"#f0f921\"]],\"type\":\"histogram2dcontour\"}],\"mesh3d\":[{\"colorbar\":{\"outlinewidth\":0,\"ticks\":\"\"},\"type\":\"mesh3d\"}],\"parcoords\":[{\"line\":{\"colorbar\":{\"outlinewidth\":0,\"ticks\":\"\"}},\"type\":\"parcoords\"}],\"pie\":[{\"automargin\":true,\"type\":\"pie\"}],\"scatter\":[{\"marker\":{\"colorbar\":{\"outlinewidth\":0,\"ticks\":\"\"}},\"type\":\"scatter\"}],\"scatter3d\":[{\"line\":{\"colorbar\":{\"outlinewidth\":0,\"ticks\":\"\"}},\"marker\":{\"colorbar\":{\"outlinewidth\":0,\"ticks\":\"\"}},\"type\":\"scatter3d\"}],\"scattercarpet\":[{\"marker\":{\"colorbar\":{\"outlinewidth\":0,\"ticks\":\"\"}},\"type\":\"scattercarpet\"}],\"scattergeo\":[{\"marker\":{\"colorbar\":{\"outlinewidth\":0,\"ticks\":\"\"}},\"type\":\"scattergeo\"}],\"scattergl\":[{\"marker\":{\"colorbar\":{\"outlinewidth\":0,\"ticks\":\"\"}},\"type\":\"scattergl\"}],\"scattermapbox\":[{\"marker\":{\"colorbar\":{\"outlinewidth\":0,\"ticks\":\"\"}},\"type\":\"scattermapbox\"}],\"scatterpolar\":[{\"marker\":{\"colorbar\":{\"outlinewidth\":0,\"ticks\":\"\"}},\"type\":\"scatterpolar\"}],\"scatterpolargl\":[{\"marker\":{\"colorbar\":{\"outlinewidth\":0,\"ticks\":\"\"}},\"type\":\"scatterpolargl\"}],\"scatterternary\":[{\"marker\":{\"colorbar\":{\"outlinewidth\":0,\"ticks\":\"\"}},\"type\":\"scatterternary\"}],\"surface\":[{\"colorbar\":{\"outlinewidth\":0,\"ticks\":\"\"},\"colorscale\":[[0.0,\"#0d0887\"],[0.1111111111111111,\"#46039f\"],[0.2222222222222222,\"#7201a8\"],[0.3333333333333333,\"#9c179e\"],[0.4444444444444444,\"#bd3786\"],[0.5555555555555556,\"#d8576b\"],[0.6666666666666666,\"#ed7953\"],[0.7777777777777778,\"#fb9f3a\"],[0.8888888888888888,\"#fdca26\"],[1.0,\"#f0f921\"]],\"type\":\"surface\"}],\"table\":[{\"cells\":{\"fill\":{\"color\":\"#EBF0F8\"},\"line\":{\"color\":\"white\"}},\"header\":{\"fill\":{\"color\":\"#C8D4E3\"},\"line\":{\"color\":\"white\"}},\"type\":\"table\"}]},\"layout\":{\"annotationdefaults\":{\"arrowcolor\":\"#2a3f5f\",\"arrowhead\":0,\"arrowwidth\":1},\"autotypenumbers\":\"strict\",\"coloraxis\":{\"colorbar\":{\"outlinewidth\":0,\"ticks\":\"\"}},\"colorscale\":{\"diverging\":[[0,\"#8e0152\"],[0.1,\"#c51b7d\"],[0.2,\"#de77ae\"],[0.3,\"#f1b6da\"],[0.4,\"#fde0ef\"],[0.5,\"#f7f7f7\"],[0.6,\"#e6f5d0\"],[0.7,\"#b8e186\"],[0.8,\"#7fbc41\"],[0.9,\"#4d9221\"],[1,\"#276419\"]],\"sequential\":[[0.0,\"#0d0887\"],[0.1111111111111111,\"#46039f\"],[0.2222222222222222,\"#7201a8\"],[0.3333333333333333,\"#9c179e\"],[0.4444444444444444,\"#bd3786\"],[0.5555555555555556,\"#d8576b\"],[0.6666666666666666,\"#ed7953\"],[0.7777777777777778,\"#fb9f3a\"],[0.8888888888888888,\"#fdca26\"],[1.0,\"#f0f921\"]],\"sequentialminus\":[[0.0,\"#0d0887\"],[0.1111111111111111,\"#46039f\"],[0.2222222222222222,\"#7201a8\"],[0.3333333333333333,\"#9c179e\"],[0.4444444444444444,\"#bd3786\"],[0.5555555555555556,\"#d8576b\"],[0.6666666666666666,\"#ed7953\"],[0.7777777777777778,\"#fb9f3a\"],[0.8888888888888888,\"#fdca26\"],[1.0,\"#f0f921\"]]},\"colorway\":[\"#636efa\",\"#EF553B\",\"#00cc96\",\"#ab63fa\",\"#FFA15A\",\"#19d3f3\",\"#FF6692\",\"#B6E880\",\"#FF97FF\",\"#FECB52\"],\"font\":{\"color\":\"#2a3f5f\"},\"geo\":{\"bgcolor\":\"white\",\"lakecolor\":\"white\",\"landcolor\":\"#E5ECF6\",\"showlakes\":true,\"showland\":true,\"subunitcolor\":\"white\"},\"hoverlabel\":{\"align\":\"left\"},\"hovermode\":\"closest\",\"mapbox\":{\"style\":\"light\"},\"paper_bgcolor\":\"white\",\"plot_bgcolor\":\"#E5ECF6\",\"polar\":{\"angularaxis\":{\"gridcolor\":\"white\",\"linecolor\":\"white\",\"ticks\":\"\"},\"bgcolor\":\"#E5ECF6\",\"radialaxis\":{\"gridcolor\":\"white\",\"linecolor\":\"white\",\"ticks\":\"\"}},\"scene\":{\"xaxis\":{\"backgroundcolor\":\"#E5ECF6\",\"gridcolor\":\"white\",\"gridwidth\":2,\"linecolor\":\"white\",\"showbackground\":true,\"ticks\":\"\",\"zerolinecolor\":\"white\"},\"yaxis\":{\"backgroundcolor\":\"#E5ECF6\",\"gridcolor\":\"white\",\"gridwidth\":2,\"linecolor\":\"white\",\"showbackground\":true,\"ticks\":\"\",\"zerolinecolor\":\"white\"},\"zaxis\":{\"backgroundcolor\":\"#E5ECF6\",\"gridcolor\":\"white\",\"gridwidth\":2,\"linecolor\":\"white\",\"showbackground\":true,\"ticks\":\"\",\"zerolinecolor\":\"white\"}},\"shapedefaults\":{\"line\":{\"color\":\"#2a3f5f\"}},\"ternary\":{\"aaxis\":{\"gridcolor\":\"white\",\"linecolor\":\"white\",\"ticks\":\"\"},\"baxis\":{\"gridcolor\":\"white\",\"linecolor\":\"white\",\"ticks\":\"\"},\"bgcolor\":\"#E5ECF6\",\"caxis\":{\"gridcolor\":\"white\",\"linecolor\":\"white\",\"ticks\":\"\"}},\"title\":{\"x\":0.05},\"xaxis\":{\"automargin\":true,\"gridcolor\":\"white\",\"linecolor\":\"white\",\"ticks\":\"\",\"title\":{\"standoff\":15},\"zerolinecolor\":\"white\",\"zerolinewidth\":2},\"yaxis\":{\"automargin\":true,\"gridcolor\":\"white\",\"linecolor\":\"white\",\"ticks\":\"\",\"title\":{\"standoff\":15},\"zerolinecolor\":\"white\",\"zerolinewidth\":2}}},\"xaxis\":{\"anchor\":\"y\",\"domain\":[0.0,1.0],\"title\":{\"text\":\"Month\"}},\"yaxis\":{\"anchor\":\"x\",\"domain\":[0.0,1.0],\"title\":{\"text\":\"value\"}},\"legend\":{\"title\":{\"text\":\"variable\"},\"tracegroupgap\":0},\"margin\":{\"t\":60},\"barmode\":\"relative\"},                        {\"responsive\": true}                    ).then(function(){\n",
       "                            \n",
       "var gd = document.getElementById('f56eff70-2d80-4231-bd5f-2e8170ae6ac6');\n",
       "var x = new MutationObserver(function (mutations, observer) {{\n",
       "        var display = window.getComputedStyle(gd).display;\n",
       "        if (!display || display === 'none') {{\n",
       "            console.log([gd, 'removed!']);\n",
       "            Plotly.purge(gd);\n",
       "            observer.disconnect();\n",
       "        }}\n",
       "}});\n",
       "\n",
       "// Listen for the removal of the full notebook cells\n",
       "var notebookContainer = gd.closest('#notebook-container');\n",
       "if (notebookContainer) {{\n",
       "    x.observe(notebookContainer, {childList: true});\n",
       "}}\n",
       "\n",
       "// Listen for the clearing of the current output cell\n",
       "var outputEl = gd.closest('.output');\n",
       "if (outputEl) {{\n",
       "    x.observe(outputEl, {childList: true});\n",
       "}}\n",
       "\n",
       "                        })                };                });            </script>        </div>"
      ]
     },
     "metadata": {},
     "output_type": "display_data"
    }
   ],
   "source": [
    "Switches = px.bar(ElectricitySwitches, x='Month', y=['Total electricity switches (both switching tariff and/or switching supplier)','Total electricity switches to different suppliers','Total Electricity Switches to different Tariffs'], labels={'x':'Date', 'y':'Switches'})\n",
    "Switches"
   ]
  },
  {
   "cell_type": "code",
   "execution_count": 24,
   "metadata": {},
   "outputs": [
    {
     "data": {
      "text/plain": [
       "'https://plotly.com/~onik321/3/'"
      ]
     },
     "execution_count": 24,
     "metadata": {},
     "output_type": "execute_result"
    }
   ],
   "source": [
    "py.plot(Switches, filename = 'Electric Switches', auto_open=True)"
   ]
  },
  {
   "cell_type": "markdown",
   "metadata": {},
   "source": [
    "## Average Tariffs"
   ]
  },
  {
   "cell_type": "code",
   "execution_count": 28,
   "metadata": {},
   "outputs": [
    {
     "data": {
      "text/html": [
       "<div>\n",
       "<style scoped>\n",
       "    .dataframe tbody tr th:only-of-type {\n",
       "        vertical-align: middle;\n",
       "    }\n",
       "\n",
       "    .dataframe tbody tr th {\n",
       "        vertical-align: top;\n",
       "    }\n",
       "\n",
       "    .dataframe thead th {\n",
       "        text-align: right;\n",
       "    }\n",
       "</style>\n",
       "<table border=\"1\" class=\"dataframe\">\n",
       "  <thead>\n",
       "    <tr style=\"text-align: right;\">\n",
       "      <th></th>\n",
       "      <th>Date</th>\n",
       "      <th>Average standard variable tariff (Six large suppliers)</th>\n",
       "      <th>Average standard variable tariff (Other suppliers)</th>\n",
       "      <th>Cheapest tariff (Six large suppliers)</th>\n",
       "      <th>Cheapest tariff (All suppliers)</th>\n",
       "    </tr>\n",
       "  </thead>\n",
       "  <tbody>\n",
       "    <tr>\n",
       "      <th>0</th>\n",
       "      <td>2012-01-28</td>\n",
       "      <td>510.080</td>\n",
       "      <td>512.165</td>\n",
       "      <td>457.635</td>\n",
       "      <td>453.28</td>\n",
       "    </tr>\n",
       "    <tr>\n",
       "      <th>1</th>\n",
       "      <td>2012-02-28</td>\n",
       "      <td>500.380</td>\n",
       "      <td>508.705</td>\n",
       "      <td>443.090</td>\n",
       "      <td>439.05</td>\n",
       "    </tr>\n",
       "    <tr>\n",
       "      <th>2</th>\n",
       "      <td>2012-03-28</td>\n",
       "      <td>498.625</td>\n",
       "      <td>508.705</td>\n",
       "      <td>443.090</td>\n",
       "      <td>439.05</td>\n",
       "    </tr>\n",
       "    <tr>\n",
       "      <th>3</th>\n",
       "      <td>2012-04-28</td>\n",
       "      <td>498.625</td>\n",
       "      <td>508.675</td>\n",
       "      <td>447.845</td>\n",
       "      <td>439.05</td>\n",
       "    </tr>\n",
       "    <tr>\n",
       "      <th>4</th>\n",
       "      <td>2012-05-28</td>\n",
       "      <td>498.625</td>\n",
       "      <td>508.675</td>\n",
       "      <td>447.845</td>\n",
       "      <td>439.05</td>\n",
       "    </tr>\n",
       "  </tbody>\n",
       "</table>\n",
       "</div>"
      ],
      "text/plain": [
       "        Date  Average standard variable tariff (Six large suppliers)  \\\n",
       "0 2012-01-28                                            510.080        \n",
       "1 2012-02-28                                            500.380        \n",
       "2 2012-03-28                                            498.625        \n",
       "3 2012-04-28                                            498.625        \n",
       "4 2012-05-28                                            498.625        \n",
       "\n",
       "   Average standard variable tariff (Other suppliers)  \\\n",
       "0                                            512.165    \n",
       "1                                            508.705    \n",
       "2                                            508.705    \n",
       "3                                            508.675    \n",
       "4                                            508.675    \n",
       "\n",
       "   Cheapest tariff (Six large suppliers)  Cheapest tariff (All suppliers)  \n",
       "0                                457.635                           453.28  \n",
       "1                                443.090                           439.05  \n",
       "2                                443.090                           439.05  \n",
       "3                                447.845                           439.05  \n",
       "4                                447.845                           439.05  "
      ]
     },
     "execution_count": 28,
     "metadata": {},
     "output_type": "execute_result"
    }
   ],
   "source": [
    "AverageTariffs.head()"
   ]
  },
  {
   "cell_type": "code",
   "execution_count": 41,
   "metadata": {},
   "outputs": [
    {
     "name": "stdout",
     "output_type": "stream",
     "text": [
      "<class 'pandas.core.frame.DataFrame'>\n",
      "RangeIndex: 80 entries, 0 to 79\n",
      "Data columns (total 5 columns):\n",
      " #   Column                                                  Non-Null Count  Dtype         \n",
      "---  ------                                                  --------------  -----         \n",
      " 0   Date                                                    80 non-null     datetime64[ns]\n",
      " 1   Average standard variable tariff (Six large suppliers)  80 non-null     float64       \n",
      " 2   Average standard variable tariff (Other suppliers)      80 non-null     float64       \n",
      " 3   Cheapest tariff (Six large suppliers)                   80 non-null     float64       \n",
      " 4   Cheapest tariff (All suppliers)                         80 non-null     float64       \n",
      "dtypes: datetime64[ns](1), float64(4)\n",
      "memory usage: 3.2 KB\n"
     ]
    }
   ],
   "source": [
    "AverageTariffs.info()"
   ]
  },
  {
   "cell_type": "code",
   "execution_count": 29,
   "metadata": {},
   "outputs": [
    {
     "data": {
      "text/html": [
       "<div>\n",
       "<style scoped>\n",
       "    .dataframe tbody tr th:only-of-type {\n",
       "        vertical-align: middle;\n",
       "    }\n",
       "\n",
       "    .dataframe tbody tr th {\n",
       "        vertical-align: top;\n",
       "    }\n",
       "\n",
       "    .dataframe thead th {\n",
       "        text-align: right;\n",
       "    }\n",
       "</style>\n",
       "<table border=\"1\" class=\"dataframe\">\n",
       "  <thead>\n",
       "    <tr style=\"text-align: right;\">\n",
       "      <th></th>\n",
       "      <th>Average standard variable tariff (Six large suppliers)</th>\n",
       "      <th>Average standard variable tariff (Other suppliers)</th>\n",
       "      <th>Cheapest tariff (Six large suppliers)</th>\n",
       "      <th>Cheapest tariff (All suppliers)</th>\n",
       "    </tr>\n",
       "  </thead>\n",
       "  <tbody>\n",
       "    <tr>\n",
       "      <th>count</th>\n",
       "      <td>80.000000</td>\n",
       "      <td>80.000000</td>\n",
       "      <td>80.000000</td>\n",
       "      <td>80.000000</td>\n",
       "    </tr>\n",
       "    <tr>\n",
       "      <th>mean</th>\n",
       "      <td>546.162375</td>\n",
       "      <td>531.996312</td>\n",
       "      <td>454.363375</td>\n",
       "      <td>420.479125</td>\n",
       "    </tr>\n",
       "    <tr>\n",
       "      <th>std</th>\n",
       "      <td>23.085309</td>\n",
       "      <td>24.442121</td>\n",
       "      <td>39.779143</td>\n",
       "      <td>33.751781</td>\n",
       "    </tr>\n",
       "    <tr>\n",
       "      <th>min</th>\n",
       "      <td>498.625000</td>\n",
       "      <td>488.020000</td>\n",
       "      <td>361.615000</td>\n",
       "      <td>361.615000</td>\n",
       "    </tr>\n",
       "    <tr>\n",
       "      <th>25%</th>\n",
       "      <td>532.985000</td>\n",
       "      <td>513.420000</td>\n",
       "      <td>437.936250</td>\n",
       "      <td>394.080000</td>\n",
       "    </tr>\n",
       "    <tr>\n",
       "      <th>50%</th>\n",
       "      <td>549.015000</td>\n",
       "      <td>526.275000</td>\n",
       "      <td>459.522500</td>\n",
       "      <td>415.280000</td>\n",
       "    </tr>\n",
       "    <tr>\n",
       "      <th>75%</th>\n",
       "      <td>564.050000</td>\n",
       "      <td>559.525000</td>\n",
       "      <td>483.270000</td>\n",
       "      <td>449.151250</td>\n",
       "    </tr>\n",
       "    <tr>\n",
       "      <th>max</th>\n",
       "      <td>597.000000</td>\n",
       "      <td>579.195000</td>\n",
       "      <td>516.985000</td>\n",
       "      <td>487.605000</td>\n",
       "    </tr>\n",
       "  </tbody>\n",
       "</table>\n",
       "</div>"
      ],
      "text/plain": [
       "       Average standard variable tariff (Six large suppliers)  \\\n",
       "count                                          80.000000        \n",
       "mean                                          546.162375        \n",
       "std                                            23.085309        \n",
       "min                                           498.625000        \n",
       "25%                                           532.985000        \n",
       "50%                                           549.015000        \n",
       "75%                                           564.050000        \n",
       "max                                           597.000000        \n",
       "\n",
       "       Average standard variable tariff (Other suppliers)  \\\n",
       "count                                          80.000000    \n",
       "mean                                          531.996312    \n",
       "std                                            24.442121    \n",
       "min                                           488.020000    \n",
       "25%                                           513.420000    \n",
       "50%                                           526.275000    \n",
       "75%                                           559.525000    \n",
       "max                                           579.195000    \n",
       "\n",
       "       Cheapest tariff (Six large suppliers)  Cheapest tariff (All suppliers)  \n",
       "count                              80.000000                        80.000000  \n",
       "mean                              454.363375                       420.479125  \n",
       "std                                39.779143                        33.751781  \n",
       "min                               361.615000                       361.615000  \n",
       "25%                               437.936250                       394.080000  \n",
       "50%                               459.522500                       415.280000  \n",
       "75%                               483.270000                       449.151250  \n",
       "max                               516.985000                       487.605000  "
      ]
     },
     "execution_count": 29,
     "metadata": {},
     "output_type": "execute_result"
    }
   ],
   "source": [
    "AverageTariffs.describe()"
   ]
  },
  {
   "cell_type": "code",
   "execution_count": 30,
   "metadata": {},
   "outputs": [],
   "source": [
    "#Average Standard Variable Tariff from Other Suppliers is cheaper, and also the Cheapest Tariff is from All other suppliers"
   ]
  },
  {
   "cell_type": "code",
   "execution_count": 31,
   "metadata": {},
   "outputs": [
    {
     "data": {
      "text/plain": [
       "Index(['Date', 'Average standard variable tariff (Six large suppliers)',\n",
       "       'Average standard variable tariff (Other suppliers)',\n",
       "       'Cheapest tariff (Six large suppliers)',\n",
       "       'Cheapest tariff (All suppliers)'],\n",
       "      dtype='object')"
      ]
     },
     "execution_count": 31,
     "metadata": {},
     "output_type": "execute_result"
    }
   ],
   "source": [
    "AverageTariffs.columns"
   ]
  },
  {
   "cell_type": "code",
   "execution_count": 32,
   "metadata": {},
   "outputs": [
    {
     "data": {
      "text/plain": [
       "Date                                                      0\n",
       "Average standard variable tariff (Six large suppliers)    0\n",
       "Average standard variable tariff (Other suppliers)        0\n",
       "Cheapest tariff (Six large suppliers)                     0\n",
       "Cheapest tariff (All suppliers)                           0\n",
       "dtype: int64"
      ]
     },
     "execution_count": 32,
     "metadata": {},
     "output_type": "execute_result"
    }
   ],
   "source": [
    "AverageTariffs.isnull().sum()"
   ]
  },
  {
   "cell_type": "code",
   "execution_count": 33,
   "metadata": {},
   "outputs": [
    {
     "data": {
      "text/plain": [
       "14.166062500000004"
      ]
     },
     "execution_count": 33,
     "metadata": {},
     "output_type": "execute_result"
    }
   ],
   "source": [
    "#In the period of 2012 to 2018 you would be better off with Other Suppliers as in average you would save £14.16\n",
    "SavedMoney = AverageTariffs['Average standard variable tariff (Six large suppliers)']-AverageTariffs['Average standard variable tariff (Other suppliers)']\n",
    "SavedMoney.mean()"
   ]
  },
  {
   "cell_type": "code",
   "execution_count": 38,
   "metadata": {},
   "outputs": [
    {
     "data": {
      "application/vnd.plotly.v1+json": {
       "config": {
        "plotlyServerURL": "https://plotly.com"
       },
       "data": [
        {
         "hovertemplate": "variable=Average standard variable tariff (Six large suppliers)<br>Date=%{x}<br>value=%{y}<extra></extra>",
         "legendgroup": "Average standard variable tariff (Six large suppliers)",
         "line": {
          "color": "#636efa",
          "dash": "solid"
         },
         "marker": {
          "symbol": "circle"
         },
         "mode": "lines",
         "name": "Average standard variable tariff (Six large suppliers)",
         "orientation": "v",
         "showlegend": true,
         "type": "scatter",
         "x": [
          "2012-01-28T00:00:00",
          "2012-02-28T00:00:00",
          "2012-03-28T00:00:00",
          "2012-04-28T00:00:00",
          "2012-05-28T00:00:00",
          "2012-06-28T00:00:00",
          "2012-07-28T00:00:00",
          "2012-08-28T00:00:00",
          "2012-09-28T00:00:00",
          "2012-10-28T00:00:00",
          "2012-11-28T00:00:00",
          "2012-12-28T00:00:00",
          "2013-01-28T00:00:00",
          "2013-02-28T00:00:00",
          "2013-03-28T00:00:00",
          "2013-04-28T00:00:00",
          "2013-05-28T00:00:00",
          "2013-06-28T00:00:00",
          "2013-07-28T00:00:00",
          "2013-08-28T00:00:00",
          "2013-09-28T00:00:00",
          "2013-10-28T00:00:00",
          "2013-11-28T00:00:00",
          "2013-12-28T00:00:00",
          "2014-01-28T00:00:00",
          "2014-02-28T00:00:00",
          "2014-03-28T00:00:00",
          "2014-04-28T00:00:00",
          "2014-05-28T00:00:00",
          "2014-06-28T00:00:00",
          "2014-07-28T00:00:00",
          "2014-08-28T00:00:00",
          "2014-09-28T00:00:00",
          "2014-10-28T00:00:00",
          "2014-11-28T00:00:00",
          "2014-12-28T00:00:00",
          "2015-01-28T00:00:00",
          "2015-02-28T00:00:00",
          "2015-03-28T00:00:00",
          "2015-04-28T00:00:00",
          "2015-05-28T00:00:00",
          "2015-06-28T00:00:00",
          "2015-07-28T00:00:00",
          "2015-08-28T00:00:00",
          "2015-09-28T00:00:00",
          "2015-10-28T00:00:00",
          "2015-11-28T00:00:00",
          "2015-12-28T00:00:00",
          "2016-01-28T00:00:00",
          "2016-02-28T00:00:00",
          "2016-03-28T00:00:00",
          "2016-04-28T00:00:00",
          "2016-05-28T00:00:00",
          "2016-06-28T00:00:00",
          "2016-07-28T00:00:00",
          "2016-08-28T00:00:00",
          "2016-09-28T00:00:00",
          "2016-10-28T00:00:00",
          "2016-11-28T00:00:00",
          "2016-12-28T00:00:00",
          "2017-01-28T00:00:00",
          "2017-02-28T00:00:00",
          "2017-03-28T00:00:00",
          "2017-04-28T00:00:00",
          "2017-05-28T00:00:00",
          "2017-06-28T00:00:00",
          "2017-07-28T00:00:00",
          "2017-08-28T00:00:00",
          "2017-09-28T00:00:00",
          "2017-10-28T00:00:00",
          "2017-11-28T00:00:00",
          "2017-12-28T00:00:00",
          "2018-01-28T00:00:00",
          "2018-02-28T00:00:00",
          "2018-03-28T00:00:00",
          "2018-04-28T00:00:00",
          "2018-05-28T00:00:00",
          "2018-06-28T00:00:00",
          "2018-07-28T00:00:00",
          "2018-08-28T00:00:00"
         ],
         "xaxis": "x",
         "y": [
          510.08,
          500.38,
          498.625,
          498.625,
          498.625,
          498.625,
          498.625,
          498.625,
          498.625,
          504.5,
          515.39,
          530.9,
          537.21,
          537.21,
          537.21,
          537.21,
          537.215,
          537.215,
          537.225,
          537.225,
          537.225,
          537.225,
          552.97,
          569.475,
          572.92,
          567.045,
          564.05,
          564.05,
          564.05,
          564.05,
          564.05,
          564.05,
          564.05,
          564.05,
          564.05,
          564.05,
          562.165,
          553.325,
          553.325,
          553.325,
          551.14,
          551.14,
          551.14,
          549.015,
          549.015,
          549.015,
          549.015,
          549.015,
          549.015,
          546.345,
          535.72,
          532.985,
          532.985,
          532.985,
          532.985,
          532.985,
          532.985,
          532.985,
          532.985,
          532.985,
          530.53,
          540.635,
          554.74,
          561.14,
          561.14,
          561.14,
          561.14,
          561.14,
          567.475,
          567.475,
          567.475,
          567.475,
          567.475,
          567.475,
          567.475,
          569.14,
          569.14,
          586.1,
          592.395,
          597
         ],
         "yaxis": "y"
        },
        {
         "hovertemplate": "variable=Average standard variable tariff (Other suppliers)<br>Date=%{x}<br>value=%{y}<extra></extra>",
         "legendgroup": "Average standard variable tariff (Other suppliers)",
         "line": {
          "color": "#EF553B",
          "dash": "solid"
         },
         "marker": {
          "symbol": "circle"
         },
         "mode": "lines",
         "name": "Average standard variable tariff (Other suppliers)",
         "orientation": "v",
         "showlegend": true,
         "type": "scatter",
         "x": [
          "2012-01-28T00:00:00",
          "2012-02-28T00:00:00",
          "2012-03-28T00:00:00",
          "2012-04-28T00:00:00",
          "2012-05-28T00:00:00",
          "2012-06-28T00:00:00",
          "2012-07-28T00:00:00",
          "2012-08-28T00:00:00",
          "2012-09-28T00:00:00",
          "2012-10-28T00:00:00",
          "2012-11-28T00:00:00",
          "2012-12-28T00:00:00",
          "2013-01-28T00:00:00",
          "2013-02-28T00:00:00",
          "2013-03-28T00:00:00",
          "2013-04-28T00:00:00",
          "2013-05-28T00:00:00",
          "2013-06-28T00:00:00",
          "2013-07-28T00:00:00",
          "2013-08-28T00:00:00",
          "2013-09-28T00:00:00",
          "2013-10-28T00:00:00",
          "2013-11-28T00:00:00",
          "2013-12-28T00:00:00",
          "2014-01-28T00:00:00",
          "2014-02-28T00:00:00",
          "2014-03-28T00:00:00",
          "2014-04-28T00:00:00",
          "2014-05-28T00:00:00",
          "2014-06-28T00:00:00",
          "2014-07-28T00:00:00",
          "2014-08-28T00:00:00",
          "2014-09-28T00:00:00",
          "2014-10-28T00:00:00",
          "2014-11-28T00:00:00",
          "2014-12-28T00:00:00",
          "2015-01-28T00:00:00",
          "2015-02-28T00:00:00",
          "2015-03-28T00:00:00",
          "2015-04-28T00:00:00",
          "2015-05-28T00:00:00",
          "2015-06-28T00:00:00",
          "2015-07-28T00:00:00",
          "2015-08-28T00:00:00",
          "2015-09-28T00:00:00",
          "2015-10-28T00:00:00",
          "2015-11-28T00:00:00",
          "2015-12-28T00:00:00",
          "2016-01-28T00:00:00",
          "2016-02-28T00:00:00",
          "2016-03-28T00:00:00",
          "2016-04-28T00:00:00",
          "2016-05-28T00:00:00",
          "2016-06-28T00:00:00",
          "2016-07-28T00:00:00",
          "2016-08-28T00:00:00",
          "2016-09-28T00:00:00",
          "2016-10-28T00:00:00",
          "2016-11-28T00:00:00",
          "2016-12-28T00:00:00",
          "2017-01-28T00:00:00",
          "2017-02-28T00:00:00",
          "2017-03-28T00:00:00",
          "2017-04-28T00:00:00",
          "2017-05-28T00:00:00",
          "2017-06-28T00:00:00",
          "2017-07-28T00:00:00",
          "2017-08-28T00:00:00",
          "2017-09-28T00:00:00",
          "2017-10-28T00:00:00",
          "2017-11-28T00:00:00",
          "2017-12-28T00:00:00",
          "2018-01-28T00:00:00",
          "2018-02-28T00:00:00",
          "2018-03-28T00:00:00",
          "2018-04-28T00:00:00",
          "2018-05-28T00:00:00",
          "2018-06-28T00:00:00",
          "2018-07-28T00:00:00",
          "2018-08-28T00:00:00"
         ],
         "xaxis": "x",
         "y": [
          512.165,
          508.705,
          508.705,
          508.675,
          508.675,
          516.08,
          516.08,
          515.01,
          508.92,
          510.255,
          537.56,
          543.825,
          543.825,
          559.525,
          559.525,
          559.525,
          559.525,
          559.525,
          559.525,
          559.525,
          559.525,
          563.51,
          561.875,
          561.875,
          562.57,
          564.38,
          563.305,
          564.81,
          564.81,
          564.81,
          567.095,
          563.895,
          579.195,
          565.9,
          565.9,
          565.255,
          565.255,
          555.42,
          544.155,
          537.66,
          536.63,
          536.63,
          533.385,
          533.385,
          527.49,
          525.06,
          520.35,
          519.515,
          517.74,
          510.03,
          506.5,
          489.275,
          488.02,
          492.01,
          494.35,
          491.93,
          491.945,
          497.465,
          506.42,
          509.86,
          510.05,
          513.53,
          517.735,
          520.78,
          519.61,
          513.49,
          515.315,
          515.38,
          513.21,
          515.705,
          522.42,
          520.43,
          518.07,
          519.925,
          522.145,
          530.905,
          530.28,
          533.195,
          537.675,
          545.51
         ],
         "yaxis": "y"
        }
       ],
       "layout": {
        "legend": {
         "title": {
          "text": "variable"
         },
         "tracegroupgap": 0
        },
        "margin": {
         "t": 60
        },
        "template": {
         "data": {
          "bar": [
           {
            "error_x": {
             "color": "#2a3f5f"
            },
            "error_y": {
             "color": "#2a3f5f"
            },
            "marker": {
             "line": {
              "color": "#E5ECF6",
              "width": 0.5
             },
             "pattern": {
              "fillmode": "overlay",
              "size": 10,
              "solidity": 0.2
             }
            },
            "type": "bar"
           }
          ],
          "barpolar": [
           {
            "marker": {
             "line": {
              "color": "#E5ECF6",
              "width": 0.5
             },
             "pattern": {
              "fillmode": "overlay",
              "size": 10,
              "solidity": 0.2
             }
            },
            "type": "barpolar"
           }
          ],
          "carpet": [
           {
            "aaxis": {
             "endlinecolor": "#2a3f5f",
             "gridcolor": "white",
             "linecolor": "white",
             "minorgridcolor": "white",
             "startlinecolor": "#2a3f5f"
            },
            "baxis": {
             "endlinecolor": "#2a3f5f",
             "gridcolor": "white",
             "linecolor": "white",
             "minorgridcolor": "white",
             "startlinecolor": "#2a3f5f"
            },
            "type": "carpet"
           }
          ],
          "choropleth": [
           {
            "colorbar": {
             "outlinewidth": 0,
             "ticks": ""
            },
            "type": "choropleth"
           }
          ],
          "contour": [
           {
            "colorbar": {
             "outlinewidth": 0,
             "ticks": ""
            },
            "colorscale": [
             [
              0,
              "#0d0887"
             ],
             [
              0.1111111111111111,
              "#46039f"
             ],
             [
              0.2222222222222222,
              "#7201a8"
             ],
             [
              0.3333333333333333,
              "#9c179e"
             ],
             [
              0.4444444444444444,
              "#bd3786"
             ],
             [
              0.5555555555555556,
              "#d8576b"
             ],
             [
              0.6666666666666666,
              "#ed7953"
             ],
             [
              0.7777777777777778,
              "#fb9f3a"
             ],
             [
              0.8888888888888888,
              "#fdca26"
             ],
             [
              1,
              "#f0f921"
             ]
            ],
            "type": "contour"
           }
          ],
          "contourcarpet": [
           {
            "colorbar": {
             "outlinewidth": 0,
             "ticks": ""
            },
            "type": "contourcarpet"
           }
          ],
          "heatmap": [
           {
            "colorbar": {
             "outlinewidth": 0,
             "ticks": ""
            },
            "colorscale": [
             [
              0,
              "#0d0887"
             ],
             [
              0.1111111111111111,
              "#46039f"
             ],
             [
              0.2222222222222222,
              "#7201a8"
             ],
             [
              0.3333333333333333,
              "#9c179e"
             ],
             [
              0.4444444444444444,
              "#bd3786"
             ],
             [
              0.5555555555555556,
              "#d8576b"
             ],
             [
              0.6666666666666666,
              "#ed7953"
             ],
             [
              0.7777777777777778,
              "#fb9f3a"
             ],
             [
              0.8888888888888888,
              "#fdca26"
             ],
             [
              1,
              "#f0f921"
             ]
            ],
            "type": "heatmap"
           }
          ],
          "heatmapgl": [
           {
            "colorbar": {
             "outlinewidth": 0,
             "ticks": ""
            },
            "colorscale": [
             [
              0,
              "#0d0887"
             ],
             [
              0.1111111111111111,
              "#46039f"
             ],
             [
              0.2222222222222222,
              "#7201a8"
             ],
             [
              0.3333333333333333,
              "#9c179e"
             ],
             [
              0.4444444444444444,
              "#bd3786"
             ],
             [
              0.5555555555555556,
              "#d8576b"
             ],
             [
              0.6666666666666666,
              "#ed7953"
             ],
             [
              0.7777777777777778,
              "#fb9f3a"
             ],
             [
              0.8888888888888888,
              "#fdca26"
             ],
             [
              1,
              "#f0f921"
             ]
            ],
            "type": "heatmapgl"
           }
          ],
          "histogram": [
           {
            "marker": {
             "pattern": {
              "fillmode": "overlay",
              "size": 10,
              "solidity": 0.2
             }
            },
            "type": "histogram"
           }
          ],
          "histogram2d": [
           {
            "colorbar": {
             "outlinewidth": 0,
             "ticks": ""
            },
            "colorscale": [
             [
              0,
              "#0d0887"
             ],
             [
              0.1111111111111111,
              "#46039f"
             ],
             [
              0.2222222222222222,
              "#7201a8"
             ],
             [
              0.3333333333333333,
              "#9c179e"
             ],
             [
              0.4444444444444444,
              "#bd3786"
             ],
             [
              0.5555555555555556,
              "#d8576b"
             ],
             [
              0.6666666666666666,
              "#ed7953"
             ],
             [
              0.7777777777777778,
              "#fb9f3a"
             ],
             [
              0.8888888888888888,
              "#fdca26"
             ],
             [
              1,
              "#f0f921"
             ]
            ],
            "type": "histogram2d"
           }
          ],
          "histogram2dcontour": [
           {
            "colorbar": {
             "outlinewidth": 0,
             "ticks": ""
            },
            "colorscale": [
             [
              0,
              "#0d0887"
             ],
             [
              0.1111111111111111,
              "#46039f"
             ],
             [
              0.2222222222222222,
              "#7201a8"
             ],
             [
              0.3333333333333333,
              "#9c179e"
             ],
             [
              0.4444444444444444,
              "#bd3786"
             ],
             [
              0.5555555555555556,
              "#d8576b"
             ],
             [
              0.6666666666666666,
              "#ed7953"
             ],
             [
              0.7777777777777778,
              "#fb9f3a"
             ],
             [
              0.8888888888888888,
              "#fdca26"
             ],
             [
              1,
              "#f0f921"
             ]
            ],
            "type": "histogram2dcontour"
           }
          ],
          "mesh3d": [
           {
            "colorbar": {
             "outlinewidth": 0,
             "ticks": ""
            },
            "type": "mesh3d"
           }
          ],
          "parcoords": [
           {
            "line": {
             "colorbar": {
              "outlinewidth": 0,
              "ticks": ""
             }
            },
            "type": "parcoords"
           }
          ],
          "pie": [
           {
            "automargin": true,
            "type": "pie"
           }
          ],
          "scatter": [
           {
            "marker": {
             "colorbar": {
              "outlinewidth": 0,
              "ticks": ""
             }
            },
            "type": "scatter"
           }
          ],
          "scatter3d": [
           {
            "line": {
             "colorbar": {
              "outlinewidth": 0,
              "ticks": ""
             }
            },
            "marker": {
             "colorbar": {
              "outlinewidth": 0,
              "ticks": ""
             }
            },
            "type": "scatter3d"
           }
          ],
          "scattercarpet": [
           {
            "marker": {
             "colorbar": {
              "outlinewidth": 0,
              "ticks": ""
             }
            },
            "type": "scattercarpet"
           }
          ],
          "scattergeo": [
           {
            "marker": {
             "colorbar": {
              "outlinewidth": 0,
              "ticks": ""
             }
            },
            "type": "scattergeo"
           }
          ],
          "scattergl": [
           {
            "marker": {
             "colorbar": {
              "outlinewidth": 0,
              "ticks": ""
             }
            },
            "type": "scattergl"
           }
          ],
          "scattermapbox": [
           {
            "marker": {
             "colorbar": {
              "outlinewidth": 0,
              "ticks": ""
             }
            },
            "type": "scattermapbox"
           }
          ],
          "scatterpolar": [
           {
            "marker": {
             "colorbar": {
              "outlinewidth": 0,
              "ticks": ""
             }
            },
            "type": "scatterpolar"
           }
          ],
          "scatterpolargl": [
           {
            "marker": {
             "colorbar": {
              "outlinewidth": 0,
              "ticks": ""
             }
            },
            "type": "scatterpolargl"
           }
          ],
          "scatterternary": [
           {
            "marker": {
             "colorbar": {
              "outlinewidth": 0,
              "ticks": ""
             }
            },
            "type": "scatterternary"
           }
          ],
          "surface": [
           {
            "colorbar": {
             "outlinewidth": 0,
             "ticks": ""
            },
            "colorscale": [
             [
              0,
              "#0d0887"
             ],
             [
              0.1111111111111111,
              "#46039f"
             ],
             [
              0.2222222222222222,
              "#7201a8"
             ],
             [
              0.3333333333333333,
              "#9c179e"
             ],
             [
              0.4444444444444444,
              "#bd3786"
             ],
             [
              0.5555555555555556,
              "#d8576b"
             ],
             [
              0.6666666666666666,
              "#ed7953"
             ],
             [
              0.7777777777777778,
              "#fb9f3a"
             ],
             [
              0.8888888888888888,
              "#fdca26"
             ],
             [
              1,
              "#f0f921"
             ]
            ],
            "type": "surface"
           }
          ],
          "table": [
           {
            "cells": {
             "fill": {
              "color": "#EBF0F8"
             },
             "line": {
              "color": "white"
             }
            },
            "header": {
             "fill": {
              "color": "#C8D4E3"
             },
             "line": {
              "color": "white"
             }
            },
            "type": "table"
           }
          ]
         },
         "layout": {
          "annotationdefaults": {
           "arrowcolor": "#2a3f5f",
           "arrowhead": 0,
           "arrowwidth": 1
          },
          "autotypenumbers": "strict",
          "coloraxis": {
           "colorbar": {
            "outlinewidth": 0,
            "ticks": ""
           }
          },
          "colorscale": {
           "diverging": [
            [
             0,
             "#8e0152"
            ],
            [
             0.1,
             "#c51b7d"
            ],
            [
             0.2,
             "#de77ae"
            ],
            [
             0.3,
             "#f1b6da"
            ],
            [
             0.4,
             "#fde0ef"
            ],
            [
             0.5,
             "#f7f7f7"
            ],
            [
             0.6,
             "#e6f5d0"
            ],
            [
             0.7,
             "#b8e186"
            ],
            [
             0.8,
             "#7fbc41"
            ],
            [
             0.9,
             "#4d9221"
            ],
            [
             1,
             "#276419"
            ]
           ],
           "sequential": [
            [
             0,
             "#0d0887"
            ],
            [
             0.1111111111111111,
             "#46039f"
            ],
            [
             0.2222222222222222,
             "#7201a8"
            ],
            [
             0.3333333333333333,
             "#9c179e"
            ],
            [
             0.4444444444444444,
             "#bd3786"
            ],
            [
             0.5555555555555556,
             "#d8576b"
            ],
            [
             0.6666666666666666,
             "#ed7953"
            ],
            [
             0.7777777777777778,
             "#fb9f3a"
            ],
            [
             0.8888888888888888,
             "#fdca26"
            ],
            [
             1,
             "#f0f921"
            ]
           ],
           "sequentialminus": [
            [
             0,
             "#0d0887"
            ],
            [
             0.1111111111111111,
             "#46039f"
            ],
            [
             0.2222222222222222,
             "#7201a8"
            ],
            [
             0.3333333333333333,
             "#9c179e"
            ],
            [
             0.4444444444444444,
             "#bd3786"
            ],
            [
             0.5555555555555556,
             "#d8576b"
            ],
            [
             0.6666666666666666,
             "#ed7953"
            ],
            [
             0.7777777777777778,
             "#fb9f3a"
            ],
            [
             0.8888888888888888,
             "#fdca26"
            ],
            [
             1,
             "#f0f921"
            ]
           ]
          },
          "colorway": [
           "#636efa",
           "#EF553B",
           "#00cc96",
           "#ab63fa",
           "#FFA15A",
           "#19d3f3",
           "#FF6692",
           "#B6E880",
           "#FF97FF",
           "#FECB52"
          ],
          "font": {
           "color": "#2a3f5f"
          },
          "geo": {
           "bgcolor": "white",
           "lakecolor": "white",
           "landcolor": "#E5ECF6",
           "showlakes": true,
           "showland": true,
           "subunitcolor": "white"
          },
          "hoverlabel": {
           "align": "left"
          },
          "hovermode": "closest",
          "mapbox": {
           "style": "light"
          },
          "paper_bgcolor": "white",
          "plot_bgcolor": "#E5ECF6",
          "polar": {
           "angularaxis": {
            "gridcolor": "white",
            "linecolor": "white",
            "ticks": ""
           },
           "bgcolor": "#E5ECF6",
           "radialaxis": {
            "gridcolor": "white",
            "linecolor": "white",
            "ticks": ""
           }
          },
          "scene": {
           "xaxis": {
            "backgroundcolor": "#E5ECF6",
            "gridcolor": "white",
            "gridwidth": 2,
            "linecolor": "white",
            "showbackground": true,
            "ticks": "",
            "zerolinecolor": "white"
           },
           "yaxis": {
            "backgroundcolor": "#E5ECF6",
            "gridcolor": "white",
            "gridwidth": 2,
            "linecolor": "white",
            "showbackground": true,
            "ticks": "",
            "zerolinecolor": "white"
           },
           "zaxis": {
            "backgroundcolor": "#E5ECF6",
            "gridcolor": "white",
            "gridwidth": 2,
            "linecolor": "white",
            "showbackground": true,
            "ticks": "",
            "zerolinecolor": "white"
           }
          },
          "shapedefaults": {
           "line": {
            "color": "#2a3f5f"
           }
          },
          "ternary": {
           "aaxis": {
            "gridcolor": "white",
            "linecolor": "white",
            "ticks": ""
           },
           "baxis": {
            "gridcolor": "white",
            "linecolor": "white",
            "ticks": ""
           },
           "bgcolor": "#E5ECF6",
           "caxis": {
            "gridcolor": "white",
            "linecolor": "white",
            "ticks": ""
           }
          },
          "title": {
           "x": 0.05
          },
          "xaxis": {
           "automargin": true,
           "gridcolor": "white",
           "linecolor": "white",
           "ticks": "",
           "title": {
            "standoff": 15
           },
           "zerolinecolor": "white",
           "zerolinewidth": 2
          },
          "yaxis": {
           "automargin": true,
           "gridcolor": "white",
           "linecolor": "white",
           "ticks": "",
           "title": {
            "standoff": 15
           },
           "zerolinecolor": "white",
           "zerolinewidth": 2
          }
         }
        },
        "xaxis": {
         "anchor": "y",
         "domain": [
          0,
          1
         ],
         "title": {
          "text": "Date"
         }
        },
        "yaxis": {
         "anchor": "x",
         "domain": [
          0,
          1
         ],
         "title": {
          "text": "value"
         }
        }
       }
      },
      "text/html": [
       "<div>                            <div id=\"c7e765ee-8542-4f5b-8599-083130e92733\" class=\"plotly-graph-div\" style=\"height:525px; width:100%;\"></div>            <script type=\"text/javascript\">                require([\"plotly\"], function(Plotly) {                    window.PLOTLYENV=window.PLOTLYENV || {};                                    if (document.getElementById(\"c7e765ee-8542-4f5b-8599-083130e92733\")) {                    Plotly.newPlot(                        \"c7e765ee-8542-4f5b-8599-083130e92733\",                        [{\"hovertemplate\":\"variable=Average standard variable tariff (Six large suppliers)<br>Date=%{x}<br>value=%{y}<extra></extra>\",\"legendgroup\":\"Average standard variable tariff (Six large suppliers)\",\"line\":{\"color\":\"#636efa\",\"dash\":\"solid\"},\"marker\":{\"symbol\":\"circle\"},\"mode\":\"lines\",\"name\":\"Average standard variable tariff (Six large suppliers)\",\"orientation\":\"v\",\"showlegend\":true,\"x\":[\"2012-01-28T00:00:00\",\"2012-02-28T00:00:00\",\"2012-03-28T00:00:00\",\"2012-04-28T00:00:00\",\"2012-05-28T00:00:00\",\"2012-06-28T00:00:00\",\"2012-07-28T00:00:00\",\"2012-08-28T00:00:00\",\"2012-09-28T00:00:00\",\"2012-10-28T00:00:00\",\"2012-11-28T00:00:00\",\"2012-12-28T00:00:00\",\"2013-01-28T00:00:00\",\"2013-02-28T00:00:00\",\"2013-03-28T00:00:00\",\"2013-04-28T00:00:00\",\"2013-05-28T00:00:00\",\"2013-06-28T00:00:00\",\"2013-07-28T00:00:00\",\"2013-08-28T00:00:00\",\"2013-09-28T00:00:00\",\"2013-10-28T00:00:00\",\"2013-11-28T00:00:00\",\"2013-12-28T00:00:00\",\"2014-01-28T00:00:00\",\"2014-02-28T00:00:00\",\"2014-03-28T00:00:00\",\"2014-04-28T00:00:00\",\"2014-05-28T00:00:00\",\"2014-06-28T00:00:00\",\"2014-07-28T00:00:00\",\"2014-08-28T00:00:00\",\"2014-09-28T00:00:00\",\"2014-10-28T00:00:00\",\"2014-11-28T00:00:00\",\"2014-12-28T00:00:00\",\"2015-01-28T00:00:00\",\"2015-02-28T00:00:00\",\"2015-03-28T00:00:00\",\"2015-04-28T00:00:00\",\"2015-05-28T00:00:00\",\"2015-06-28T00:00:00\",\"2015-07-28T00:00:00\",\"2015-08-28T00:00:00\",\"2015-09-28T00:00:00\",\"2015-10-28T00:00:00\",\"2015-11-28T00:00:00\",\"2015-12-28T00:00:00\",\"2016-01-28T00:00:00\",\"2016-02-28T00:00:00\",\"2016-03-28T00:00:00\",\"2016-04-28T00:00:00\",\"2016-05-28T00:00:00\",\"2016-06-28T00:00:00\",\"2016-07-28T00:00:00\",\"2016-08-28T00:00:00\",\"2016-09-28T00:00:00\",\"2016-10-28T00:00:00\",\"2016-11-28T00:00:00\",\"2016-12-28T00:00:00\",\"2017-01-28T00:00:00\",\"2017-02-28T00:00:00\",\"2017-03-28T00:00:00\",\"2017-04-28T00:00:00\",\"2017-05-28T00:00:00\",\"2017-06-28T00:00:00\",\"2017-07-28T00:00:00\",\"2017-08-28T00:00:00\",\"2017-09-28T00:00:00\",\"2017-10-28T00:00:00\",\"2017-11-28T00:00:00\",\"2017-12-28T00:00:00\",\"2018-01-28T00:00:00\",\"2018-02-28T00:00:00\",\"2018-03-28T00:00:00\",\"2018-04-28T00:00:00\",\"2018-05-28T00:00:00\",\"2018-06-28T00:00:00\",\"2018-07-28T00:00:00\",\"2018-08-28T00:00:00\"],\"xaxis\":\"x\",\"y\":[510.08,500.38,498.625,498.625,498.625,498.625,498.625,498.625,498.625,504.5,515.39,530.9,537.21,537.21,537.21,537.21,537.215,537.215,537.225,537.225,537.225,537.225,552.97,569.475,572.92,567.045,564.05,564.05,564.05,564.05,564.05,564.05,564.05,564.05,564.05,564.05,562.165,553.325,553.325,553.325,551.14,551.14,551.14,549.015,549.015,549.015,549.015,549.015,549.015,546.345,535.72,532.985,532.985,532.985,532.985,532.985,532.985,532.985,532.985,532.985,530.53,540.635,554.74,561.14,561.14,561.14,561.14,561.14,567.475,567.475,567.475,567.475,567.475,567.475,567.475,569.14,569.14,586.1,592.395,597.0],\"yaxis\":\"y\",\"type\":\"scatter\"},{\"hovertemplate\":\"variable=Average standard variable tariff (Other suppliers)<br>Date=%{x}<br>value=%{y}<extra></extra>\",\"legendgroup\":\"Average standard variable tariff (Other suppliers)\",\"line\":{\"color\":\"#EF553B\",\"dash\":\"solid\"},\"marker\":{\"symbol\":\"circle\"},\"mode\":\"lines\",\"name\":\"Average standard variable tariff (Other suppliers)\",\"orientation\":\"v\",\"showlegend\":true,\"x\":[\"2012-01-28T00:00:00\",\"2012-02-28T00:00:00\",\"2012-03-28T00:00:00\",\"2012-04-28T00:00:00\",\"2012-05-28T00:00:00\",\"2012-06-28T00:00:00\",\"2012-07-28T00:00:00\",\"2012-08-28T00:00:00\",\"2012-09-28T00:00:00\",\"2012-10-28T00:00:00\",\"2012-11-28T00:00:00\",\"2012-12-28T00:00:00\",\"2013-01-28T00:00:00\",\"2013-02-28T00:00:00\",\"2013-03-28T00:00:00\",\"2013-04-28T00:00:00\",\"2013-05-28T00:00:00\",\"2013-06-28T00:00:00\",\"2013-07-28T00:00:00\",\"2013-08-28T00:00:00\",\"2013-09-28T00:00:00\",\"2013-10-28T00:00:00\",\"2013-11-28T00:00:00\",\"2013-12-28T00:00:00\",\"2014-01-28T00:00:00\",\"2014-02-28T00:00:00\",\"2014-03-28T00:00:00\",\"2014-04-28T00:00:00\",\"2014-05-28T00:00:00\",\"2014-06-28T00:00:00\",\"2014-07-28T00:00:00\",\"2014-08-28T00:00:00\",\"2014-09-28T00:00:00\",\"2014-10-28T00:00:00\",\"2014-11-28T00:00:00\",\"2014-12-28T00:00:00\",\"2015-01-28T00:00:00\",\"2015-02-28T00:00:00\",\"2015-03-28T00:00:00\",\"2015-04-28T00:00:00\",\"2015-05-28T00:00:00\",\"2015-06-28T00:00:00\",\"2015-07-28T00:00:00\",\"2015-08-28T00:00:00\",\"2015-09-28T00:00:00\",\"2015-10-28T00:00:00\",\"2015-11-28T00:00:00\",\"2015-12-28T00:00:00\",\"2016-01-28T00:00:00\",\"2016-02-28T00:00:00\",\"2016-03-28T00:00:00\",\"2016-04-28T00:00:00\",\"2016-05-28T00:00:00\",\"2016-06-28T00:00:00\",\"2016-07-28T00:00:00\",\"2016-08-28T00:00:00\",\"2016-09-28T00:00:00\",\"2016-10-28T00:00:00\",\"2016-11-28T00:00:00\",\"2016-12-28T00:00:00\",\"2017-01-28T00:00:00\",\"2017-02-28T00:00:00\",\"2017-03-28T00:00:00\",\"2017-04-28T00:00:00\",\"2017-05-28T00:00:00\",\"2017-06-28T00:00:00\",\"2017-07-28T00:00:00\",\"2017-08-28T00:00:00\",\"2017-09-28T00:00:00\",\"2017-10-28T00:00:00\",\"2017-11-28T00:00:00\",\"2017-12-28T00:00:00\",\"2018-01-28T00:00:00\",\"2018-02-28T00:00:00\",\"2018-03-28T00:00:00\",\"2018-04-28T00:00:00\",\"2018-05-28T00:00:00\",\"2018-06-28T00:00:00\",\"2018-07-28T00:00:00\",\"2018-08-28T00:00:00\"],\"xaxis\":\"x\",\"y\":[512.165,508.705,508.705,508.675,508.675,516.08,516.08,515.01,508.92,510.255,537.56,543.825,543.825,559.525,559.525,559.525,559.525,559.525,559.525,559.525,559.525,563.51,561.875,561.875,562.57,564.38,563.305,564.81,564.81,564.81,567.095,563.895,579.195,565.9,565.9,565.255,565.255,555.42,544.155,537.66,536.63,536.63,533.385,533.385,527.49,525.06,520.35,519.515,517.74,510.03,506.5,489.275,488.02,492.01,494.35,491.93,491.945,497.465,506.42,509.86,510.05,513.53,517.735,520.78,519.61,513.49,515.315,515.38,513.21,515.705,522.42,520.43,518.07,519.925,522.145,530.905,530.28,533.195,537.675,545.51],\"yaxis\":\"y\",\"type\":\"scatter\"}],                        {\"template\":{\"data\":{\"bar\":[{\"error_x\":{\"color\":\"#2a3f5f\"},\"error_y\":{\"color\":\"#2a3f5f\"},\"marker\":{\"line\":{\"color\":\"#E5ECF6\",\"width\":0.5},\"pattern\":{\"fillmode\":\"overlay\",\"size\":10,\"solidity\":0.2}},\"type\":\"bar\"}],\"barpolar\":[{\"marker\":{\"line\":{\"color\":\"#E5ECF6\",\"width\":0.5},\"pattern\":{\"fillmode\":\"overlay\",\"size\":10,\"solidity\":0.2}},\"type\":\"barpolar\"}],\"carpet\":[{\"aaxis\":{\"endlinecolor\":\"#2a3f5f\",\"gridcolor\":\"white\",\"linecolor\":\"white\",\"minorgridcolor\":\"white\",\"startlinecolor\":\"#2a3f5f\"},\"baxis\":{\"endlinecolor\":\"#2a3f5f\",\"gridcolor\":\"white\",\"linecolor\":\"white\",\"minorgridcolor\":\"white\",\"startlinecolor\":\"#2a3f5f\"},\"type\":\"carpet\"}],\"choropleth\":[{\"colorbar\":{\"outlinewidth\":0,\"ticks\":\"\"},\"type\":\"choropleth\"}],\"contour\":[{\"colorbar\":{\"outlinewidth\":0,\"ticks\":\"\"},\"colorscale\":[[0.0,\"#0d0887\"],[0.1111111111111111,\"#46039f\"],[0.2222222222222222,\"#7201a8\"],[0.3333333333333333,\"#9c179e\"],[0.4444444444444444,\"#bd3786\"],[0.5555555555555556,\"#d8576b\"],[0.6666666666666666,\"#ed7953\"],[0.7777777777777778,\"#fb9f3a\"],[0.8888888888888888,\"#fdca26\"],[1.0,\"#f0f921\"]],\"type\":\"contour\"}],\"contourcarpet\":[{\"colorbar\":{\"outlinewidth\":0,\"ticks\":\"\"},\"type\":\"contourcarpet\"}],\"heatmap\":[{\"colorbar\":{\"outlinewidth\":0,\"ticks\":\"\"},\"colorscale\":[[0.0,\"#0d0887\"],[0.1111111111111111,\"#46039f\"],[0.2222222222222222,\"#7201a8\"],[0.3333333333333333,\"#9c179e\"],[0.4444444444444444,\"#bd3786\"],[0.5555555555555556,\"#d8576b\"],[0.6666666666666666,\"#ed7953\"],[0.7777777777777778,\"#fb9f3a\"],[0.8888888888888888,\"#fdca26\"],[1.0,\"#f0f921\"]],\"type\":\"heatmap\"}],\"heatmapgl\":[{\"colorbar\":{\"outlinewidth\":0,\"ticks\":\"\"},\"colorscale\":[[0.0,\"#0d0887\"],[0.1111111111111111,\"#46039f\"],[0.2222222222222222,\"#7201a8\"],[0.3333333333333333,\"#9c179e\"],[0.4444444444444444,\"#bd3786\"],[0.5555555555555556,\"#d8576b\"],[0.6666666666666666,\"#ed7953\"],[0.7777777777777778,\"#fb9f3a\"],[0.8888888888888888,\"#fdca26\"],[1.0,\"#f0f921\"]],\"type\":\"heatmapgl\"}],\"histogram\":[{\"marker\":{\"pattern\":{\"fillmode\":\"overlay\",\"size\":10,\"solidity\":0.2}},\"type\":\"histogram\"}],\"histogram2d\":[{\"colorbar\":{\"outlinewidth\":0,\"ticks\":\"\"},\"colorscale\":[[0.0,\"#0d0887\"],[0.1111111111111111,\"#46039f\"],[0.2222222222222222,\"#7201a8\"],[0.3333333333333333,\"#9c179e\"],[0.4444444444444444,\"#bd3786\"],[0.5555555555555556,\"#d8576b\"],[0.6666666666666666,\"#ed7953\"],[0.7777777777777778,\"#fb9f3a\"],[0.8888888888888888,\"#fdca26\"],[1.0,\"#f0f921\"]],\"type\":\"histogram2d\"}],\"histogram2dcontour\":[{\"colorbar\":{\"outlinewidth\":0,\"ticks\":\"\"},\"colorscale\":[[0.0,\"#0d0887\"],[0.1111111111111111,\"#46039f\"],[0.2222222222222222,\"#7201a8\"],[0.3333333333333333,\"#9c179e\"],[0.4444444444444444,\"#bd3786\"],[0.5555555555555556,\"#d8576b\"],[0.6666666666666666,\"#ed7953\"],[0.7777777777777778,\"#fb9f3a\"],[0.8888888888888888,\"#fdca26\"],[1.0,\"#f0f921\"]],\"type\":\"histogram2dcontour\"}],\"mesh3d\":[{\"colorbar\":{\"outlinewidth\":0,\"ticks\":\"\"},\"type\":\"mesh3d\"}],\"parcoords\":[{\"line\":{\"colorbar\":{\"outlinewidth\":0,\"ticks\":\"\"}},\"type\":\"parcoords\"}],\"pie\":[{\"automargin\":true,\"type\":\"pie\"}],\"scatter\":[{\"marker\":{\"colorbar\":{\"outlinewidth\":0,\"ticks\":\"\"}},\"type\":\"scatter\"}],\"scatter3d\":[{\"line\":{\"colorbar\":{\"outlinewidth\":0,\"ticks\":\"\"}},\"marker\":{\"colorbar\":{\"outlinewidth\":0,\"ticks\":\"\"}},\"type\":\"scatter3d\"}],\"scattercarpet\":[{\"marker\":{\"colorbar\":{\"outlinewidth\":0,\"ticks\":\"\"}},\"type\":\"scattercarpet\"}],\"scattergeo\":[{\"marker\":{\"colorbar\":{\"outlinewidth\":0,\"ticks\":\"\"}},\"type\":\"scattergeo\"}],\"scattergl\":[{\"marker\":{\"colorbar\":{\"outlinewidth\":0,\"ticks\":\"\"}},\"type\":\"scattergl\"}],\"scattermapbox\":[{\"marker\":{\"colorbar\":{\"outlinewidth\":0,\"ticks\":\"\"}},\"type\":\"scattermapbox\"}],\"scatterpolar\":[{\"marker\":{\"colorbar\":{\"outlinewidth\":0,\"ticks\":\"\"}},\"type\":\"scatterpolar\"}],\"scatterpolargl\":[{\"marker\":{\"colorbar\":{\"outlinewidth\":0,\"ticks\":\"\"}},\"type\":\"scatterpolargl\"}],\"scatterternary\":[{\"marker\":{\"colorbar\":{\"outlinewidth\":0,\"ticks\":\"\"}},\"type\":\"scatterternary\"}],\"surface\":[{\"colorbar\":{\"outlinewidth\":0,\"ticks\":\"\"},\"colorscale\":[[0.0,\"#0d0887\"],[0.1111111111111111,\"#46039f\"],[0.2222222222222222,\"#7201a8\"],[0.3333333333333333,\"#9c179e\"],[0.4444444444444444,\"#bd3786\"],[0.5555555555555556,\"#d8576b\"],[0.6666666666666666,\"#ed7953\"],[0.7777777777777778,\"#fb9f3a\"],[0.8888888888888888,\"#fdca26\"],[1.0,\"#f0f921\"]],\"type\":\"surface\"}],\"table\":[{\"cells\":{\"fill\":{\"color\":\"#EBF0F8\"},\"line\":{\"color\":\"white\"}},\"header\":{\"fill\":{\"color\":\"#C8D4E3\"},\"line\":{\"color\":\"white\"}},\"type\":\"table\"}]},\"layout\":{\"annotationdefaults\":{\"arrowcolor\":\"#2a3f5f\",\"arrowhead\":0,\"arrowwidth\":1},\"autotypenumbers\":\"strict\",\"coloraxis\":{\"colorbar\":{\"outlinewidth\":0,\"ticks\":\"\"}},\"colorscale\":{\"diverging\":[[0,\"#8e0152\"],[0.1,\"#c51b7d\"],[0.2,\"#de77ae\"],[0.3,\"#f1b6da\"],[0.4,\"#fde0ef\"],[0.5,\"#f7f7f7\"],[0.6,\"#e6f5d0\"],[0.7,\"#b8e186\"],[0.8,\"#7fbc41\"],[0.9,\"#4d9221\"],[1,\"#276419\"]],\"sequential\":[[0.0,\"#0d0887\"],[0.1111111111111111,\"#46039f\"],[0.2222222222222222,\"#7201a8\"],[0.3333333333333333,\"#9c179e\"],[0.4444444444444444,\"#bd3786\"],[0.5555555555555556,\"#d8576b\"],[0.6666666666666666,\"#ed7953\"],[0.7777777777777778,\"#fb9f3a\"],[0.8888888888888888,\"#fdca26\"],[1.0,\"#f0f921\"]],\"sequentialminus\":[[0.0,\"#0d0887\"],[0.1111111111111111,\"#46039f\"],[0.2222222222222222,\"#7201a8\"],[0.3333333333333333,\"#9c179e\"],[0.4444444444444444,\"#bd3786\"],[0.5555555555555556,\"#d8576b\"],[0.6666666666666666,\"#ed7953\"],[0.7777777777777778,\"#fb9f3a\"],[0.8888888888888888,\"#fdca26\"],[1.0,\"#f0f921\"]]},\"colorway\":[\"#636efa\",\"#EF553B\",\"#00cc96\",\"#ab63fa\",\"#FFA15A\",\"#19d3f3\",\"#FF6692\",\"#B6E880\",\"#FF97FF\",\"#FECB52\"],\"font\":{\"color\":\"#2a3f5f\"},\"geo\":{\"bgcolor\":\"white\",\"lakecolor\":\"white\",\"landcolor\":\"#E5ECF6\",\"showlakes\":true,\"showland\":true,\"subunitcolor\":\"white\"},\"hoverlabel\":{\"align\":\"left\"},\"hovermode\":\"closest\",\"mapbox\":{\"style\":\"light\"},\"paper_bgcolor\":\"white\",\"plot_bgcolor\":\"#E5ECF6\",\"polar\":{\"angularaxis\":{\"gridcolor\":\"white\",\"linecolor\":\"white\",\"ticks\":\"\"},\"bgcolor\":\"#E5ECF6\",\"radialaxis\":{\"gridcolor\":\"white\",\"linecolor\":\"white\",\"ticks\":\"\"}},\"scene\":{\"xaxis\":{\"backgroundcolor\":\"#E5ECF6\",\"gridcolor\":\"white\",\"gridwidth\":2,\"linecolor\":\"white\",\"showbackground\":true,\"ticks\":\"\",\"zerolinecolor\":\"white\"},\"yaxis\":{\"backgroundcolor\":\"#E5ECF6\",\"gridcolor\":\"white\",\"gridwidth\":2,\"linecolor\":\"white\",\"showbackground\":true,\"ticks\":\"\",\"zerolinecolor\":\"white\"},\"zaxis\":{\"backgroundcolor\":\"#E5ECF6\",\"gridcolor\":\"white\",\"gridwidth\":2,\"linecolor\":\"white\",\"showbackground\":true,\"ticks\":\"\",\"zerolinecolor\":\"white\"}},\"shapedefaults\":{\"line\":{\"color\":\"#2a3f5f\"}},\"ternary\":{\"aaxis\":{\"gridcolor\":\"white\",\"linecolor\":\"white\",\"ticks\":\"\"},\"baxis\":{\"gridcolor\":\"white\",\"linecolor\":\"white\",\"ticks\":\"\"},\"bgcolor\":\"#E5ECF6\",\"caxis\":{\"gridcolor\":\"white\",\"linecolor\":\"white\",\"ticks\":\"\"}},\"title\":{\"x\":0.05},\"xaxis\":{\"automargin\":true,\"gridcolor\":\"white\",\"linecolor\":\"white\",\"ticks\":\"\",\"title\":{\"standoff\":15},\"zerolinecolor\":\"white\",\"zerolinewidth\":2},\"yaxis\":{\"automargin\":true,\"gridcolor\":\"white\",\"linecolor\":\"white\",\"ticks\":\"\",\"title\":{\"standoff\":15},\"zerolinecolor\":\"white\",\"zerolinewidth\":2}}},\"xaxis\":{\"anchor\":\"y\",\"domain\":[0.0,1.0],\"title\":{\"text\":\"Date\"}},\"yaxis\":{\"anchor\":\"x\",\"domain\":[0.0,1.0],\"title\":{\"text\":\"value\"}},\"legend\":{\"title\":{\"text\":\"variable\"},\"tracegroupgap\":0},\"margin\":{\"t\":60}},                        {\"responsive\": true}                    ).then(function(){\n",
       "                            \n",
       "var gd = document.getElementById('c7e765ee-8542-4f5b-8599-083130e92733');\n",
       "var x = new MutationObserver(function (mutations, observer) {{\n",
       "        var display = window.getComputedStyle(gd).display;\n",
       "        if (!display || display === 'none') {{\n",
       "            console.log([gd, 'removed!']);\n",
       "            Plotly.purge(gd);\n",
       "            observer.disconnect();\n",
       "        }}\n",
       "}});\n",
       "\n",
       "// Listen for the removal of the full notebook cells\n",
       "var notebookContainer = gd.closest('#notebook-container');\n",
       "if (notebookContainer) {{\n",
       "    x.observe(notebookContainer, {childList: true});\n",
       "}}\n",
       "\n",
       "// Listen for the clearing of the current output cell\n",
       "var outputEl = gd.closest('.output');\n",
       "if (outputEl) {{\n",
       "    x.observe(outputEl, {childList: true});\n",
       "}}\n",
       "\n",
       "                        })                };                });            </script>        </div>"
      ]
     },
     "metadata": {},
     "output_type": "display_data"
    }
   ],
   "source": [
    "AveragePrice = px.line(AverageTariffs, x='Date', y=['Average standard variable tariff (Six large suppliers)','Average standard variable tariff (Other suppliers)'], labels={'x':'Date', 'y':'Average Tariff'})\n",
    "AveragePrice"
   ]
  },
  {
   "cell_type": "code",
   "execution_count": 39,
   "metadata": {},
   "outputs": [
    {
     "data": {
      "text/plain": [
       "'https://plotly.com/~onik321/7/'"
      ]
     },
     "execution_count": 39,
     "metadata": {},
     "output_type": "execute_result"
    }
   ],
   "source": [
    "py.plot(AveragePrice, filename = 'Average Price', auto_open=True)"
   ]
  },
  {
   "cell_type": "code",
   "execution_count": 37,
   "metadata": {
    "scrolled": false
   },
   "outputs": [
    {
     "data": {
      "application/vnd.plotly.v1+json": {
       "config": {
        "plotlyServerURL": "https://plotly.com"
       },
       "data": [
        {
         "hovertemplate": "variable=Cheapest tariff (Six large suppliers)<br>Date=%{x}<br>value=%{y}<extra></extra>",
         "legendgroup": "Cheapest tariff (Six large suppliers)",
         "line": {
          "color": "#636efa",
          "dash": "solid"
         },
         "marker": {
          "symbol": "circle"
         },
         "mode": "lines",
         "name": "Cheapest tariff (Six large suppliers)",
         "orientation": "v",
         "showlegend": true,
         "type": "scatter",
         "x": [
          "2012-01-28T00:00:00",
          "2012-02-28T00:00:00",
          "2012-03-28T00:00:00",
          "2012-04-28T00:00:00",
          "2012-05-28T00:00:00",
          "2012-06-28T00:00:00",
          "2012-07-28T00:00:00",
          "2012-08-28T00:00:00",
          "2012-09-28T00:00:00",
          "2012-10-28T00:00:00",
          "2012-11-28T00:00:00",
          "2012-12-28T00:00:00",
          "2013-01-28T00:00:00",
          "2013-02-28T00:00:00",
          "2013-03-28T00:00:00",
          "2013-04-28T00:00:00",
          "2013-05-28T00:00:00",
          "2013-06-28T00:00:00",
          "2013-07-28T00:00:00",
          "2013-08-28T00:00:00",
          "2013-09-28T00:00:00",
          "2013-10-28T00:00:00",
          "2013-11-28T00:00:00",
          "2013-12-28T00:00:00",
          "2014-01-28T00:00:00",
          "2014-02-28T00:00:00",
          "2014-03-28T00:00:00",
          "2014-04-28T00:00:00",
          "2014-05-28T00:00:00",
          "2014-06-28T00:00:00",
          "2014-07-28T00:00:00",
          "2014-08-28T00:00:00",
          "2014-09-28T00:00:00",
          "2014-10-28T00:00:00",
          "2014-11-28T00:00:00",
          "2014-12-28T00:00:00",
          "2015-01-28T00:00:00",
          "2015-02-28T00:00:00",
          "2015-03-28T00:00:00",
          "2015-04-28T00:00:00",
          "2015-05-28T00:00:00",
          "2015-06-28T00:00:00",
          "2015-07-28T00:00:00",
          "2015-08-28T00:00:00",
          "2015-09-28T00:00:00",
          "2015-10-28T00:00:00",
          "2015-11-28T00:00:00",
          "2015-12-28T00:00:00",
          "2016-01-28T00:00:00",
          "2016-02-28T00:00:00",
          "2016-03-28T00:00:00",
          "2016-04-28T00:00:00",
          "2016-05-28T00:00:00",
          "2016-06-28T00:00:00",
          "2016-07-28T00:00:00",
          "2016-08-28T00:00:00",
          "2016-09-28T00:00:00",
          "2016-10-28T00:00:00",
          "2016-11-28T00:00:00",
          "2016-12-28T00:00:00",
          "2017-01-28T00:00:00",
          "2017-02-28T00:00:00",
          "2017-03-28T00:00:00",
          "2017-04-28T00:00:00",
          "2017-05-28T00:00:00",
          "2017-06-28T00:00:00",
          "2017-07-28T00:00:00",
          "2017-08-28T00:00:00",
          "2017-09-28T00:00:00",
          "2017-10-28T00:00:00",
          "2017-11-28T00:00:00",
          "2017-12-28T00:00:00",
          "2018-01-28T00:00:00",
          "2018-02-28T00:00:00",
          "2018-03-28T00:00:00",
          "2018-04-28T00:00:00",
          "2018-05-28T00:00:00",
          "2018-06-28T00:00:00",
          "2018-07-28T00:00:00",
          "2018-08-28T00:00:00"
         ],
         "xaxis": "x",
         "y": [
          457.635,
          443.09,
          443.09,
          447.845,
          447.845,
          447.845,
          447.845,
          449.55,
          450.735,
          453.085,
          479.105,
          495.35,
          478.59,
          478.59,
          483.27,
          483.27,
          483.27,
          483.27,
          492.34,
          485.885,
          485.885,
          505.9,
          496.7,
          516.735,
          516.735,
          516.985,
          512.395,
          500.19,
          500.19,
          500.19,
          500.19,
          500.19,
          480.45,
          476.7,
          460.94,
          458.105,
          437.7,
          419.64,
          418.495,
          417.285,
          417.595,
          417.855,
          431.925,
          438.015,
          438.015,
          401.5,
          402.7,
          425.26,
          384.845,
          369.19,
          363.85,
          361.955,
          361.615,
          361.615,
          389.695,
          400.685,
          377.32,
          401.77,
          448.59,
          475.755,
          475.755,
          464.24,
          461.115,
          461.775,
          461.785,
          461.785,
          461.41,
          455.025,
          452.24,
          448.99,
          464.295,
          486.52,
          453.945,
          450.49,
          450.49,
          500.21,
          481.265,
          476.58,
          482.635,
          475.665
         ],
         "yaxis": "y"
        },
        {
         "hovertemplate": "variable=Cheapest tariff (All suppliers)<br>Date=%{x}<br>value=%{y}<extra></extra>",
         "legendgroup": "Cheapest tariff (All suppliers)",
         "line": {
          "color": "#EF553B",
          "dash": "solid"
         },
         "marker": {
          "symbol": "circle"
         },
         "mode": "lines",
         "name": "Cheapest tariff (All suppliers)",
         "orientation": "v",
         "showlegend": true,
         "type": "scatter",
         "x": [
          "2012-01-28T00:00:00",
          "2012-02-28T00:00:00",
          "2012-03-28T00:00:00",
          "2012-04-28T00:00:00",
          "2012-05-28T00:00:00",
          "2012-06-28T00:00:00",
          "2012-07-28T00:00:00",
          "2012-08-28T00:00:00",
          "2012-09-28T00:00:00",
          "2012-10-28T00:00:00",
          "2012-11-28T00:00:00",
          "2012-12-28T00:00:00",
          "2013-01-28T00:00:00",
          "2013-02-28T00:00:00",
          "2013-03-28T00:00:00",
          "2013-04-28T00:00:00",
          "2013-05-28T00:00:00",
          "2013-06-28T00:00:00",
          "2013-07-28T00:00:00",
          "2013-08-28T00:00:00",
          "2013-09-28T00:00:00",
          "2013-10-28T00:00:00",
          "2013-11-28T00:00:00",
          "2013-12-28T00:00:00",
          "2014-01-28T00:00:00",
          "2014-02-28T00:00:00",
          "2014-03-28T00:00:00",
          "2014-04-28T00:00:00",
          "2014-05-28T00:00:00",
          "2014-06-28T00:00:00",
          "2014-07-28T00:00:00",
          "2014-08-28T00:00:00",
          "2014-09-28T00:00:00",
          "2014-10-28T00:00:00",
          "2014-11-28T00:00:00",
          "2014-12-28T00:00:00",
          "2015-01-28T00:00:00",
          "2015-02-28T00:00:00",
          "2015-03-28T00:00:00",
          "2015-04-28T00:00:00",
          "2015-05-28T00:00:00",
          "2015-06-28T00:00:00",
          "2015-07-28T00:00:00",
          "2015-08-28T00:00:00",
          "2015-09-28T00:00:00",
          "2015-10-28T00:00:00",
          "2015-11-28T00:00:00",
          "2015-12-28T00:00:00",
          "2016-01-28T00:00:00",
          "2016-02-28T00:00:00",
          "2016-03-28T00:00:00",
          "2016-04-28T00:00:00",
          "2016-05-28T00:00:00",
          "2016-06-28T00:00:00",
          "2016-07-28T00:00:00",
          "2016-08-28T00:00:00",
          "2016-09-28T00:00:00",
          "2016-10-28T00:00:00",
          "2016-11-28T00:00:00",
          "2016-12-28T00:00:00",
          "2017-01-28T00:00:00",
          "2017-02-28T00:00:00",
          "2017-03-28T00:00:00",
          "2017-04-28T00:00:00",
          "2017-05-28T00:00:00",
          "2017-06-28T00:00:00",
          "2017-07-28T00:00:00",
          "2017-08-28T00:00:00",
          "2017-09-28T00:00:00",
          "2017-10-28T00:00:00",
          "2017-11-28T00:00:00",
          "2017-12-28T00:00:00",
          "2018-01-28T00:00:00",
          "2018-02-28T00:00:00",
          "2018-03-28T00:00:00",
          "2018-04-28T00:00:00",
          "2018-05-28T00:00:00",
          "2018-06-28T00:00:00",
          "2018-07-28T00:00:00",
          "2018-08-28T00:00:00"
         ],
         "xaxis": "x",
         "y": [
          453.28,
          439.05,
          439.05,
          439.05,
          439.05,
          447.845,
          437.965,
          437.965,
          437.965,
          446.925,
          454.795,
          454.795,
          454.795,
          454.795,
          454.795,
          454.795,
          481.215,
          384.975,
          384.975,
          384.975,
          384.975,
          384.975,
          384.975,
          384.975,
          487.605,
          483.17,
          482.155,
          473.21,
          472.275,
          472.275,
          472.475,
          471.715,
          471.135,
          465.51,
          457.255,
          453.07,
          435.63,
          419.64,
          418.495,
          417.285,
          415.28,
          415.28,
          415.28,
          415.28,
          415.28,
          396.965,
          393.525,
          393.525,
          382.5,
          369.19,
          363.85,
          361.955,
          361.615,
          361.615,
          379.155,
          384.825,
          372.15,
          370.96,
          395.01,
          395.01,
          416.855,
          414.55,
          414.55,
          431.655,
          413.26,
          417.88,
          414.955,
          405.055,
          413.365,
          413.365,
          413.365,
          399.36,
          404.66,
          405.03,
          405.055,
          394.08,
          394.08,
          398.495,
          413.365,
          421.245
         ],
         "yaxis": "y"
        }
       ],
       "layout": {
        "legend": {
         "title": {
          "text": "variable"
         },
         "tracegroupgap": 0
        },
        "margin": {
         "t": 60
        },
        "template": {
         "data": {
          "bar": [
           {
            "error_x": {
             "color": "#2a3f5f"
            },
            "error_y": {
             "color": "#2a3f5f"
            },
            "marker": {
             "line": {
              "color": "#E5ECF6",
              "width": 0.5
             },
             "pattern": {
              "fillmode": "overlay",
              "size": 10,
              "solidity": 0.2
             }
            },
            "type": "bar"
           }
          ],
          "barpolar": [
           {
            "marker": {
             "line": {
              "color": "#E5ECF6",
              "width": 0.5
             },
             "pattern": {
              "fillmode": "overlay",
              "size": 10,
              "solidity": 0.2
             }
            },
            "type": "barpolar"
           }
          ],
          "carpet": [
           {
            "aaxis": {
             "endlinecolor": "#2a3f5f",
             "gridcolor": "white",
             "linecolor": "white",
             "minorgridcolor": "white",
             "startlinecolor": "#2a3f5f"
            },
            "baxis": {
             "endlinecolor": "#2a3f5f",
             "gridcolor": "white",
             "linecolor": "white",
             "minorgridcolor": "white",
             "startlinecolor": "#2a3f5f"
            },
            "type": "carpet"
           }
          ],
          "choropleth": [
           {
            "colorbar": {
             "outlinewidth": 0,
             "ticks": ""
            },
            "type": "choropleth"
           }
          ],
          "contour": [
           {
            "colorbar": {
             "outlinewidth": 0,
             "ticks": ""
            },
            "colorscale": [
             [
              0,
              "#0d0887"
             ],
             [
              0.1111111111111111,
              "#46039f"
             ],
             [
              0.2222222222222222,
              "#7201a8"
             ],
             [
              0.3333333333333333,
              "#9c179e"
             ],
             [
              0.4444444444444444,
              "#bd3786"
             ],
             [
              0.5555555555555556,
              "#d8576b"
             ],
             [
              0.6666666666666666,
              "#ed7953"
             ],
             [
              0.7777777777777778,
              "#fb9f3a"
             ],
             [
              0.8888888888888888,
              "#fdca26"
             ],
             [
              1,
              "#f0f921"
             ]
            ],
            "type": "contour"
           }
          ],
          "contourcarpet": [
           {
            "colorbar": {
             "outlinewidth": 0,
             "ticks": ""
            },
            "type": "contourcarpet"
           }
          ],
          "heatmap": [
           {
            "colorbar": {
             "outlinewidth": 0,
             "ticks": ""
            },
            "colorscale": [
             [
              0,
              "#0d0887"
             ],
             [
              0.1111111111111111,
              "#46039f"
             ],
             [
              0.2222222222222222,
              "#7201a8"
             ],
             [
              0.3333333333333333,
              "#9c179e"
             ],
             [
              0.4444444444444444,
              "#bd3786"
             ],
             [
              0.5555555555555556,
              "#d8576b"
             ],
             [
              0.6666666666666666,
              "#ed7953"
             ],
             [
              0.7777777777777778,
              "#fb9f3a"
             ],
             [
              0.8888888888888888,
              "#fdca26"
             ],
             [
              1,
              "#f0f921"
             ]
            ],
            "type": "heatmap"
           }
          ],
          "heatmapgl": [
           {
            "colorbar": {
             "outlinewidth": 0,
             "ticks": ""
            },
            "colorscale": [
             [
              0,
              "#0d0887"
             ],
             [
              0.1111111111111111,
              "#46039f"
             ],
             [
              0.2222222222222222,
              "#7201a8"
             ],
             [
              0.3333333333333333,
              "#9c179e"
             ],
             [
              0.4444444444444444,
              "#bd3786"
             ],
             [
              0.5555555555555556,
              "#d8576b"
             ],
             [
              0.6666666666666666,
              "#ed7953"
             ],
             [
              0.7777777777777778,
              "#fb9f3a"
             ],
             [
              0.8888888888888888,
              "#fdca26"
             ],
             [
              1,
              "#f0f921"
             ]
            ],
            "type": "heatmapgl"
           }
          ],
          "histogram": [
           {
            "marker": {
             "pattern": {
              "fillmode": "overlay",
              "size": 10,
              "solidity": 0.2
             }
            },
            "type": "histogram"
           }
          ],
          "histogram2d": [
           {
            "colorbar": {
             "outlinewidth": 0,
             "ticks": ""
            },
            "colorscale": [
             [
              0,
              "#0d0887"
             ],
             [
              0.1111111111111111,
              "#46039f"
             ],
             [
              0.2222222222222222,
              "#7201a8"
             ],
             [
              0.3333333333333333,
              "#9c179e"
             ],
             [
              0.4444444444444444,
              "#bd3786"
             ],
             [
              0.5555555555555556,
              "#d8576b"
             ],
             [
              0.6666666666666666,
              "#ed7953"
             ],
             [
              0.7777777777777778,
              "#fb9f3a"
             ],
             [
              0.8888888888888888,
              "#fdca26"
             ],
             [
              1,
              "#f0f921"
             ]
            ],
            "type": "histogram2d"
           }
          ],
          "histogram2dcontour": [
           {
            "colorbar": {
             "outlinewidth": 0,
             "ticks": ""
            },
            "colorscale": [
             [
              0,
              "#0d0887"
             ],
             [
              0.1111111111111111,
              "#46039f"
             ],
             [
              0.2222222222222222,
              "#7201a8"
             ],
             [
              0.3333333333333333,
              "#9c179e"
             ],
             [
              0.4444444444444444,
              "#bd3786"
             ],
             [
              0.5555555555555556,
              "#d8576b"
             ],
             [
              0.6666666666666666,
              "#ed7953"
             ],
             [
              0.7777777777777778,
              "#fb9f3a"
             ],
             [
              0.8888888888888888,
              "#fdca26"
             ],
             [
              1,
              "#f0f921"
             ]
            ],
            "type": "histogram2dcontour"
           }
          ],
          "mesh3d": [
           {
            "colorbar": {
             "outlinewidth": 0,
             "ticks": ""
            },
            "type": "mesh3d"
           }
          ],
          "parcoords": [
           {
            "line": {
             "colorbar": {
              "outlinewidth": 0,
              "ticks": ""
             }
            },
            "type": "parcoords"
           }
          ],
          "pie": [
           {
            "automargin": true,
            "type": "pie"
           }
          ],
          "scatter": [
           {
            "marker": {
             "colorbar": {
              "outlinewidth": 0,
              "ticks": ""
             }
            },
            "type": "scatter"
           }
          ],
          "scatter3d": [
           {
            "line": {
             "colorbar": {
              "outlinewidth": 0,
              "ticks": ""
             }
            },
            "marker": {
             "colorbar": {
              "outlinewidth": 0,
              "ticks": ""
             }
            },
            "type": "scatter3d"
           }
          ],
          "scattercarpet": [
           {
            "marker": {
             "colorbar": {
              "outlinewidth": 0,
              "ticks": ""
             }
            },
            "type": "scattercarpet"
           }
          ],
          "scattergeo": [
           {
            "marker": {
             "colorbar": {
              "outlinewidth": 0,
              "ticks": ""
             }
            },
            "type": "scattergeo"
           }
          ],
          "scattergl": [
           {
            "marker": {
             "colorbar": {
              "outlinewidth": 0,
              "ticks": ""
             }
            },
            "type": "scattergl"
           }
          ],
          "scattermapbox": [
           {
            "marker": {
             "colorbar": {
              "outlinewidth": 0,
              "ticks": ""
             }
            },
            "type": "scattermapbox"
           }
          ],
          "scatterpolar": [
           {
            "marker": {
             "colorbar": {
              "outlinewidth": 0,
              "ticks": ""
             }
            },
            "type": "scatterpolar"
           }
          ],
          "scatterpolargl": [
           {
            "marker": {
             "colorbar": {
              "outlinewidth": 0,
              "ticks": ""
             }
            },
            "type": "scatterpolargl"
           }
          ],
          "scatterternary": [
           {
            "marker": {
             "colorbar": {
              "outlinewidth": 0,
              "ticks": ""
             }
            },
            "type": "scatterternary"
           }
          ],
          "surface": [
           {
            "colorbar": {
             "outlinewidth": 0,
             "ticks": ""
            },
            "colorscale": [
             [
              0,
              "#0d0887"
             ],
             [
              0.1111111111111111,
              "#46039f"
             ],
             [
              0.2222222222222222,
              "#7201a8"
             ],
             [
              0.3333333333333333,
              "#9c179e"
             ],
             [
              0.4444444444444444,
              "#bd3786"
             ],
             [
              0.5555555555555556,
              "#d8576b"
             ],
             [
              0.6666666666666666,
              "#ed7953"
             ],
             [
              0.7777777777777778,
              "#fb9f3a"
             ],
             [
              0.8888888888888888,
              "#fdca26"
             ],
             [
              1,
              "#f0f921"
             ]
            ],
            "type": "surface"
           }
          ],
          "table": [
           {
            "cells": {
             "fill": {
              "color": "#EBF0F8"
             },
             "line": {
              "color": "white"
             }
            },
            "header": {
             "fill": {
              "color": "#C8D4E3"
             },
             "line": {
              "color": "white"
             }
            },
            "type": "table"
           }
          ]
         },
         "layout": {
          "annotationdefaults": {
           "arrowcolor": "#2a3f5f",
           "arrowhead": 0,
           "arrowwidth": 1
          },
          "autotypenumbers": "strict",
          "coloraxis": {
           "colorbar": {
            "outlinewidth": 0,
            "ticks": ""
           }
          },
          "colorscale": {
           "diverging": [
            [
             0,
             "#8e0152"
            ],
            [
             0.1,
             "#c51b7d"
            ],
            [
             0.2,
             "#de77ae"
            ],
            [
             0.3,
             "#f1b6da"
            ],
            [
             0.4,
             "#fde0ef"
            ],
            [
             0.5,
             "#f7f7f7"
            ],
            [
             0.6,
             "#e6f5d0"
            ],
            [
             0.7,
             "#b8e186"
            ],
            [
             0.8,
             "#7fbc41"
            ],
            [
             0.9,
             "#4d9221"
            ],
            [
             1,
             "#276419"
            ]
           ],
           "sequential": [
            [
             0,
             "#0d0887"
            ],
            [
             0.1111111111111111,
             "#46039f"
            ],
            [
             0.2222222222222222,
             "#7201a8"
            ],
            [
             0.3333333333333333,
             "#9c179e"
            ],
            [
             0.4444444444444444,
             "#bd3786"
            ],
            [
             0.5555555555555556,
             "#d8576b"
            ],
            [
             0.6666666666666666,
             "#ed7953"
            ],
            [
             0.7777777777777778,
             "#fb9f3a"
            ],
            [
             0.8888888888888888,
             "#fdca26"
            ],
            [
             1,
             "#f0f921"
            ]
           ],
           "sequentialminus": [
            [
             0,
             "#0d0887"
            ],
            [
             0.1111111111111111,
             "#46039f"
            ],
            [
             0.2222222222222222,
             "#7201a8"
            ],
            [
             0.3333333333333333,
             "#9c179e"
            ],
            [
             0.4444444444444444,
             "#bd3786"
            ],
            [
             0.5555555555555556,
             "#d8576b"
            ],
            [
             0.6666666666666666,
             "#ed7953"
            ],
            [
             0.7777777777777778,
             "#fb9f3a"
            ],
            [
             0.8888888888888888,
             "#fdca26"
            ],
            [
             1,
             "#f0f921"
            ]
           ]
          },
          "colorway": [
           "#636efa",
           "#EF553B",
           "#00cc96",
           "#ab63fa",
           "#FFA15A",
           "#19d3f3",
           "#FF6692",
           "#B6E880",
           "#FF97FF",
           "#FECB52"
          ],
          "font": {
           "color": "#2a3f5f"
          },
          "geo": {
           "bgcolor": "white",
           "lakecolor": "white",
           "landcolor": "#E5ECF6",
           "showlakes": true,
           "showland": true,
           "subunitcolor": "white"
          },
          "hoverlabel": {
           "align": "left"
          },
          "hovermode": "closest",
          "mapbox": {
           "style": "light"
          },
          "paper_bgcolor": "white",
          "plot_bgcolor": "#E5ECF6",
          "polar": {
           "angularaxis": {
            "gridcolor": "white",
            "linecolor": "white",
            "ticks": ""
           },
           "bgcolor": "#E5ECF6",
           "radialaxis": {
            "gridcolor": "white",
            "linecolor": "white",
            "ticks": ""
           }
          },
          "scene": {
           "xaxis": {
            "backgroundcolor": "#E5ECF6",
            "gridcolor": "white",
            "gridwidth": 2,
            "linecolor": "white",
            "showbackground": true,
            "ticks": "",
            "zerolinecolor": "white"
           },
           "yaxis": {
            "backgroundcolor": "#E5ECF6",
            "gridcolor": "white",
            "gridwidth": 2,
            "linecolor": "white",
            "showbackground": true,
            "ticks": "",
            "zerolinecolor": "white"
           },
           "zaxis": {
            "backgroundcolor": "#E5ECF6",
            "gridcolor": "white",
            "gridwidth": 2,
            "linecolor": "white",
            "showbackground": true,
            "ticks": "",
            "zerolinecolor": "white"
           }
          },
          "shapedefaults": {
           "line": {
            "color": "#2a3f5f"
           }
          },
          "ternary": {
           "aaxis": {
            "gridcolor": "white",
            "linecolor": "white",
            "ticks": ""
           },
           "baxis": {
            "gridcolor": "white",
            "linecolor": "white",
            "ticks": ""
           },
           "bgcolor": "#E5ECF6",
           "caxis": {
            "gridcolor": "white",
            "linecolor": "white",
            "ticks": ""
           }
          },
          "title": {
           "x": 0.05
          },
          "xaxis": {
           "automargin": true,
           "gridcolor": "white",
           "linecolor": "white",
           "ticks": "",
           "title": {
            "standoff": 15
           },
           "zerolinecolor": "white",
           "zerolinewidth": 2
          },
          "yaxis": {
           "automargin": true,
           "gridcolor": "white",
           "linecolor": "white",
           "ticks": "",
           "title": {
            "standoff": 15
           },
           "zerolinecolor": "white",
           "zerolinewidth": 2
          }
         }
        },
        "xaxis": {
         "anchor": "y",
         "domain": [
          0,
          1
         ],
         "title": {
          "text": "Date"
         }
        },
        "yaxis": {
         "anchor": "x",
         "domain": [
          0,
          1
         ],
         "title": {
          "text": "value"
         }
        }
       }
      },
      "text/html": [
       "<div>                            <div id=\"70d926dd-f578-4bd7-a1d7-91f47768e453\" class=\"plotly-graph-div\" style=\"height:525px; width:100%;\"></div>            <script type=\"text/javascript\">                require([\"plotly\"], function(Plotly) {                    window.PLOTLYENV=window.PLOTLYENV || {};                                    if (document.getElementById(\"70d926dd-f578-4bd7-a1d7-91f47768e453\")) {                    Plotly.newPlot(                        \"70d926dd-f578-4bd7-a1d7-91f47768e453\",                        [{\"hovertemplate\":\"variable=Cheapest tariff (Six large suppliers)<br>Date=%{x}<br>value=%{y}<extra></extra>\",\"legendgroup\":\"Cheapest tariff (Six large suppliers)\",\"line\":{\"color\":\"#636efa\",\"dash\":\"solid\"},\"marker\":{\"symbol\":\"circle\"},\"mode\":\"lines\",\"name\":\"Cheapest tariff (Six large suppliers)\",\"orientation\":\"v\",\"showlegend\":true,\"x\":[\"2012-01-28T00:00:00\",\"2012-02-28T00:00:00\",\"2012-03-28T00:00:00\",\"2012-04-28T00:00:00\",\"2012-05-28T00:00:00\",\"2012-06-28T00:00:00\",\"2012-07-28T00:00:00\",\"2012-08-28T00:00:00\",\"2012-09-28T00:00:00\",\"2012-10-28T00:00:00\",\"2012-11-28T00:00:00\",\"2012-12-28T00:00:00\",\"2013-01-28T00:00:00\",\"2013-02-28T00:00:00\",\"2013-03-28T00:00:00\",\"2013-04-28T00:00:00\",\"2013-05-28T00:00:00\",\"2013-06-28T00:00:00\",\"2013-07-28T00:00:00\",\"2013-08-28T00:00:00\",\"2013-09-28T00:00:00\",\"2013-10-28T00:00:00\",\"2013-11-28T00:00:00\",\"2013-12-28T00:00:00\",\"2014-01-28T00:00:00\",\"2014-02-28T00:00:00\",\"2014-03-28T00:00:00\",\"2014-04-28T00:00:00\",\"2014-05-28T00:00:00\",\"2014-06-28T00:00:00\",\"2014-07-28T00:00:00\",\"2014-08-28T00:00:00\",\"2014-09-28T00:00:00\",\"2014-10-28T00:00:00\",\"2014-11-28T00:00:00\",\"2014-12-28T00:00:00\",\"2015-01-28T00:00:00\",\"2015-02-28T00:00:00\",\"2015-03-28T00:00:00\",\"2015-04-28T00:00:00\",\"2015-05-28T00:00:00\",\"2015-06-28T00:00:00\",\"2015-07-28T00:00:00\",\"2015-08-28T00:00:00\",\"2015-09-28T00:00:00\",\"2015-10-28T00:00:00\",\"2015-11-28T00:00:00\",\"2015-12-28T00:00:00\",\"2016-01-28T00:00:00\",\"2016-02-28T00:00:00\",\"2016-03-28T00:00:00\",\"2016-04-28T00:00:00\",\"2016-05-28T00:00:00\",\"2016-06-28T00:00:00\",\"2016-07-28T00:00:00\",\"2016-08-28T00:00:00\",\"2016-09-28T00:00:00\",\"2016-10-28T00:00:00\",\"2016-11-28T00:00:00\",\"2016-12-28T00:00:00\",\"2017-01-28T00:00:00\",\"2017-02-28T00:00:00\",\"2017-03-28T00:00:00\",\"2017-04-28T00:00:00\",\"2017-05-28T00:00:00\",\"2017-06-28T00:00:00\",\"2017-07-28T00:00:00\",\"2017-08-28T00:00:00\",\"2017-09-28T00:00:00\",\"2017-10-28T00:00:00\",\"2017-11-28T00:00:00\",\"2017-12-28T00:00:00\",\"2018-01-28T00:00:00\",\"2018-02-28T00:00:00\",\"2018-03-28T00:00:00\",\"2018-04-28T00:00:00\",\"2018-05-28T00:00:00\",\"2018-06-28T00:00:00\",\"2018-07-28T00:00:00\",\"2018-08-28T00:00:00\"],\"xaxis\":\"x\",\"y\":[457.635,443.09,443.09,447.845,447.845,447.845,447.845,449.55,450.735,453.085,479.105,495.35,478.59,478.59,483.27,483.27,483.27,483.27,492.34,485.885,485.885,505.9,496.7,516.735,516.735,516.985,512.395,500.19,500.19,500.19,500.19,500.19,480.45,476.7,460.94,458.105,437.7,419.64,418.495,417.285,417.595,417.855,431.925,438.015,438.015,401.5,402.7,425.26,384.845,369.19,363.85,361.955,361.615,361.615,389.695,400.685,377.32,401.77,448.59,475.755,475.755,464.24,461.115,461.775,461.785,461.785,461.41,455.025,452.24,448.99,464.295,486.52,453.945,450.49,450.49,500.21,481.265,476.58,482.635,475.665],\"yaxis\":\"y\",\"type\":\"scatter\"},{\"hovertemplate\":\"variable=Cheapest tariff (All suppliers)<br>Date=%{x}<br>value=%{y}<extra></extra>\",\"legendgroup\":\"Cheapest tariff (All suppliers)\",\"line\":{\"color\":\"#EF553B\",\"dash\":\"solid\"},\"marker\":{\"symbol\":\"circle\"},\"mode\":\"lines\",\"name\":\"Cheapest tariff (All suppliers)\",\"orientation\":\"v\",\"showlegend\":true,\"x\":[\"2012-01-28T00:00:00\",\"2012-02-28T00:00:00\",\"2012-03-28T00:00:00\",\"2012-04-28T00:00:00\",\"2012-05-28T00:00:00\",\"2012-06-28T00:00:00\",\"2012-07-28T00:00:00\",\"2012-08-28T00:00:00\",\"2012-09-28T00:00:00\",\"2012-10-28T00:00:00\",\"2012-11-28T00:00:00\",\"2012-12-28T00:00:00\",\"2013-01-28T00:00:00\",\"2013-02-28T00:00:00\",\"2013-03-28T00:00:00\",\"2013-04-28T00:00:00\",\"2013-05-28T00:00:00\",\"2013-06-28T00:00:00\",\"2013-07-28T00:00:00\",\"2013-08-28T00:00:00\",\"2013-09-28T00:00:00\",\"2013-10-28T00:00:00\",\"2013-11-28T00:00:00\",\"2013-12-28T00:00:00\",\"2014-01-28T00:00:00\",\"2014-02-28T00:00:00\",\"2014-03-28T00:00:00\",\"2014-04-28T00:00:00\",\"2014-05-28T00:00:00\",\"2014-06-28T00:00:00\",\"2014-07-28T00:00:00\",\"2014-08-28T00:00:00\",\"2014-09-28T00:00:00\",\"2014-10-28T00:00:00\",\"2014-11-28T00:00:00\",\"2014-12-28T00:00:00\",\"2015-01-28T00:00:00\",\"2015-02-28T00:00:00\",\"2015-03-28T00:00:00\",\"2015-04-28T00:00:00\",\"2015-05-28T00:00:00\",\"2015-06-28T00:00:00\",\"2015-07-28T00:00:00\",\"2015-08-28T00:00:00\",\"2015-09-28T00:00:00\",\"2015-10-28T00:00:00\",\"2015-11-28T00:00:00\",\"2015-12-28T00:00:00\",\"2016-01-28T00:00:00\",\"2016-02-28T00:00:00\",\"2016-03-28T00:00:00\",\"2016-04-28T00:00:00\",\"2016-05-28T00:00:00\",\"2016-06-28T00:00:00\",\"2016-07-28T00:00:00\",\"2016-08-28T00:00:00\",\"2016-09-28T00:00:00\",\"2016-10-28T00:00:00\",\"2016-11-28T00:00:00\",\"2016-12-28T00:00:00\",\"2017-01-28T00:00:00\",\"2017-02-28T00:00:00\",\"2017-03-28T00:00:00\",\"2017-04-28T00:00:00\",\"2017-05-28T00:00:00\",\"2017-06-28T00:00:00\",\"2017-07-28T00:00:00\",\"2017-08-28T00:00:00\",\"2017-09-28T00:00:00\",\"2017-10-28T00:00:00\",\"2017-11-28T00:00:00\",\"2017-12-28T00:00:00\",\"2018-01-28T00:00:00\",\"2018-02-28T00:00:00\",\"2018-03-28T00:00:00\",\"2018-04-28T00:00:00\",\"2018-05-28T00:00:00\",\"2018-06-28T00:00:00\",\"2018-07-28T00:00:00\",\"2018-08-28T00:00:00\"],\"xaxis\":\"x\",\"y\":[453.28,439.05,439.05,439.05,439.05,447.845,437.965,437.965,437.965,446.925,454.795,454.795,454.795,454.795,454.795,454.795,481.215,384.975,384.975,384.975,384.975,384.975,384.975,384.975,487.605,483.17,482.155,473.21,472.275,472.275,472.475,471.715,471.135,465.51,457.255,453.07,435.63,419.64,418.495,417.285,415.28,415.28,415.28,415.28,415.28,396.965,393.525,393.525,382.5,369.19,363.85,361.955,361.615,361.615,379.155,384.825,372.15,370.96,395.01,395.01,416.855,414.55,414.55,431.655,413.26,417.88,414.955,405.055,413.365,413.365,413.365,399.36,404.66,405.03,405.055,394.08,394.08,398.495,413.365,421.245],\"yaxis\":\"y\",\"type\":\"scatter\"}],                        {\"template\":{\"data\":{\"bar\":[{\"error_x\":{\"color\":\"#2a3f5f\"},\"error_y\":{\"color\":\"#2a3f5f\"},\"marker\":{\"line\":{\"color\":\"#E5ECF6\",\"width\":0.5},\"pattern\":{\"fillmode\":\"overlay\",\"size\":10,\"solidity\":0.2}},\"type\":\"bar\"}],\"barpolar\":[{\"marker\":{\"line\":{\"color\":\"#E5ECF6\",\"width\":0.5},\"pattern\":{\"fillmode\":\"overlay\",\"size\":10,\"solidity\":0.2}},\"type\":\"barpolar\"}],\"carpet\":[{\"aaxis\":{\"endlinecolor\":\"#2a3f5f\",\"gridcolor\":\"white\",\"linecolor\":\"white\",\"minorgridcolor\":\"white\",\"startlinecolor\":\"#2a3f5f\"},\"baxis\":{\"endlinecolor\":\"#2a3f5f\",\"gridcolor\":\"white\",\"linecolor\":\"white\",\"minorgridcolor\":\"white\",\"startlinecolor\":\"#2a3f5f\"},\"type\":\"carpet\"}],\"choropleth\":[{\"colorbar\":{\"outlinewidth\":0,\"ticks\":\"\"},\"type\":\"choropleth\"}],\"contour\":[{\"colorbar\":{\"outlinewidth\":0,\"ticks\":\"\"},\"colorscale\":[[0.0,\"#0d0887\"],[0.1111111111111111,\"#46039f\"],[0.2222222222222222,\"#7201a8\"],[0.3333333333333333,\"#9c179e\"],[0.4444444444444444,\"#bd3786\"],[0.5555555555555556,\"#d8576b\"],[0.6666666666666666,\"#ed7953\"],[0.7777777777777778,\"#fb9f3a\"],[0.8888888888888888,\"#fdca26\"],[1.0,\"#f0f921\"]],\"type\":\"contour\"}],\"contourcarpet\":[{\"colorbar\":{\"outlinewidth\":0,\"ticks\":\"\"},\"type\":\"contourcarpet\"}],\"heatmap\":[{\"colorbar\":{\"outlinewidth\":0,\"ticks\":\"\"},\"colorscale\":[[0.0,\"#0d0887\"],[0.1111111111111111,\"#46039f\"],[0.2222222222222222,\"#7201a8\"],[0.3333333333333333,\"#9c179e\"],[0.4444444444444444,\"#bd3786\"],[0.5555555555555556,\"#d8576b\"],[0.6666666666666666,\"#ed7953\"],[0.7777777777777778,\"#fb9f3a\"],[0.8888888888888888,\"#fdca26\"],[1.0,\"#f0f921\"]],\"type\":\"heatmap\"}],\"heatmapgl\":[{\"colorbar\":{\"outlinewidth\":0,\"ticks\":\"\"},\"colorscale\":[[0.0,\"#0d0887\"],[0.1111111111111111,\"#46039f\"],[0.2222222222222222,\"#7201a8\"],[0.3333333333333333,\"#9c179e\"],[0.4444444444444444,\"#bd3786\"],[0.5555555555555556,\"#d8576b\"],[0.6666666666666666,\"#ed7953\"],[0.7777777777777778,\"#fb9f3a\"],[0.8888888888888888,\"#fdca26\"],[1.0,\"#f0f921\"]],\"type\":\"heatmapgl\"}],\"histogram\":[{\"marker\":{\"pattern\":{\"fillmode\":\"overlay\",\"size\":10,\"solidity\":0.2}},\"type\":\"histogram\"}],\"histogram2d\":[{\"colorbar\":{\"outlinewidth\":0,\"ticks\":\"\"},\"colorscale\":[[0.0,\"#0d0887\"],[0.1111111111111111,\"#46039f\"],[0.2222222222222222,\"#7201a8\"],[0.3333333333333333,\"#9c179e\"],[0.4444444444444444,\"#bd3786\"],[0.5555555555555556,\"#d8576b\"],[0.6666666666666666,\"#ed7953\"],[0.7777777777777778,\"#fb9f3a\"],[0.8888888888888888,\"#fdca26\"],[1.0,\"#f0f921\"]],\"type\":\"histogram2d\"}],\"histogram2dcontour\":[{\"colorbar\":{\"outlinewidth\":0,\"ticks\":\"\"},\"colorscale\":[[0.0,\"#0d0887\"],[0.1111111111111111,\"#46039f\"],[0.2222222222222222,\"#7201a8\"],[0.3333333333333333,\"#9c179e\"],[0.4444444444444444,\"#bd3786\"],[0.5555555555555556,\"#d8576b\"],[0.6666666666666666,\"#ed7953\"],[0.7777777777777778,\"#fb9f3a\"],[0.8888888888888888,\"#fdca26\"],[1.0,\"#f0f921\"]],\"type\":\"histogram2dcontour\"}],\"mesh3d\":[{\"colorbar\":{\"outlinewidth\":0,\"ticks\":\"\"},\"type\":\"mesh3d\"}],\"parcoords\":[{\"line\":{\"colorbar\":{\"outlinewidth\":0,\"ticks\":\"\"}},\"type\":\"parcoords\"}],\"pie\":[{\"automargin\":true,\"type\":\"pie\"}],\"scatter\":[{\"marker\":{\"colorbar\":{\"outlinewidth\":0,\"ticks\":\"\"}},\"type\":\"scatter\"}],\"scatter3d\":[{\"line\":{\"colorbar\":{\"outlinewidth\":0,\"ticks\":\"\"}},\"marker\":{\"colorbar\":{\"outlinewidth\":0,\"ticks\":\"\"}},\"type\":\"scatter3d\"}],\"scattercarpet\":[{\"marker\":{\"colorbar\":{\"outlinewidth\":0,\"ticks\":\"\"}},\"type\":\"scattercarpet\"}],\"scattergeo\":[{\"marker\":{\"colorbar\":{\"outlinewidth\":0,\"ticks\":\"\"}},\"type\":\"scattergeo\"}],\"scattergl\":[{\"marker\":{\"colorbar\":{\"outlinewidth\":0,\"ticks\":\"\"}},\"type\":\"scattergl\"}],\"scattermapbox\":[{\"marker\":{\"colorbar\":{\"outlinewidth\":0,\"ticks\":\"\"}},\"type\":\"scattermapbox\"}],\"scatterpolar\":[{\"marker\":{\"colorbar\":{\"outlinewidth\":0,\"ticks\":\"\"}},\"type\":\"scatterpolar\"}],\"scatterpolargl\":[{\"marker\":{\"colorbar\":{\"outlinewidth\":0,\"ticks\":\"\"}},\"type\":\"scatterpolargl\"}],\"scatterternary\":[{\"marker\":{\"colorbar\":{\"outlinewidth\":0,\"ticks\":\"\"}},\"type\":\"scatterternary\"}],\"surface\":[{\"colorbar\":{\"outlinewidth\":0,\"ticks\":\"\"},\"colorscale\":[[0.0,\"#0d0887\"],[0.1111111111111111,\"#46039f\"],[0.2222222222222222,\"#7201a8\"],[0.3333333333333333,\"#9c179e\"],[0.4444444444444444,\"#bd3786\"],[0.5555555555555556,\"#d8576b\"],[0.6666666666666666,\"#ed7953\"],[0.7777777777777778,\"#fb9f3a\"],[0.8888888888888888,\"#fdca26\"],[1.0,\"#f0f921\"]],\"type\":\"surface\"}],\"table\":[{\"cells\":{\"fill\":{\"color\":\"#EBF0F8\"},\"line\":{\"color\":\"white\"}},\"header\":{\"fill\":{\"color\":\"#C8D4E3\"},\"line\":{\"color\":\"white\"}},\"type\":\"table\"}]},\"layout\":{\"annotationdefaults\":{\"arrowcolor\":\"#2a3f5f\",\"arrowhead\":0,\"arrowwidth\":1},\"autotypenumbers\":\"strict\",\"coloraxis\":{\"colorbar\":{\"outlinewidth\":0,\"ticks\":\"\"}},\"colorscale\":{\"diverging\":[[0,\"#8e0152\"],[0.1,\"#c51b7d\"],[0.2,\"#de77ae\"],[0.3,\"#f1b6da\"],[0.4,\"#fde0ef\"],[0.5,\"#f7f7f7\"],[0.6,\"#e6f5d0\"],[0.7,\"#b8e186\"],[0.8,\"#7fbc41\"],[0.9,\"#4d9221\"],[1,\"#276419\"]],\"sequential\":[[0.0,\"#0d0887\"],[0.1111111111111111,\"#46039f\"],[0.2222222222222222,\"#7201a8\"],[0.3333333333333333,\"#9c179e\"],[0.4444444444444444,\"#bd3786\"],[0.5555555555555556,\"#d8576b\"],[0.6666666666666666,\"#ed7953\"],[0.7777777777777778,\"#fb9f3a\"],[0.8888888888888888,\"#fdca26\"],[1.0,\"#f0f921\"]],\"sequentialminus\":[[0.0,\"#0d0887\"],[0.1111111111111111,\"#46039f\"],[0.2222222222222222,\"#7201a8\"],[0.3333333333333333,\"#9c179e\"],[0.4444444444444444,\"#bd3786\"],[0.5555555555555556,\"#d8576b\"],[0.6666666666666666,\"#ed7953\"],[0.7777777777777778,\"#fb9f3a\"],[0.8888888888888888,\"#fdca26\"],[1.0,\"#f0f921\"]]},\"colorway\":[\"#636efa\",\"#EF553B\",\"#00cc96\",\"#ab63fa\",\"#FFA15A\",\"#19d3f3\",\"#FF6692\",\"#B6E880\",\"#FF97FF\",\"#FECB52\"],\"font\":{\"color\":\"#2a3f5f\"},\"geo\":{\"bgcolor\":\"white\",\"lakecolor\":\"white\",\"landcolor\":\"#E5ECF6\",\"showlakes\":true,\"showland\":true,\"subunitcolor\":\"white\"},\"hoverlabel\":{\"align\":\"left\"},\"hovermode\":\"closest\",\"mapbox\":{\"style\":\"light\"},\"paper_bgcolor\":\"white\",\"plot_bgcolor\":\"#E5ECF6\",\"polar\":{\"angularaxis\":{\"gridcolor\":\"white\",\"linecolor\":\"white\",\"ticks\":\"\"},\"bgcolor\":\"#E5ECF6\",\"radialaxis\":{\"gridcolor\":\"white\",\"linecolor\":\"white\",\"ticks\":\"\"}},\"scene\":{\"xaxis\":{\"backgroundcolor\":\"#E5ECF6\",\"gridcolor\":\"white\",\"gridwidth\":2,\"linecolor\":\"white\",\"showbackground\":true,\"ticks\":\"\",\"zerolinecolor\":\"white\"},\"yaxis\":{\"backgroundcolor\":\"#E5ECF6\",\"gridcolor\":\"white\",\"gridwidth\":2,\"linecolor\":\"white\",\"showbackground\":true,\"ticks\":\"\",\"zerolinecolor\":\"white\"},\"zaxis\":{\"backgroundcolor\":\"#E5ECF6\",\"gridcolor\":\"white\",\"gridwidth\":2,\"linecolor\":\"white\",\"showbackground\":true,\"ticks\":\"\",\"zerolinecolor\":\"white\"}},\"shapedefaults\":{\"line\":{\"color\":\"#2a3f5f\"}},\"ternary\":{\"aaxis\":{\"gridcolor\":\"white\",\"linecolor\":\"white\",\"ticks\":\"\"},\"baxis\":{\"gridcolor\":\"white\",\"linecolor\":\"white\",\"ticks\":\"\"},\"bgcolor\":\"#E5ECF6\",\"caxis\":{\"gridcolor\":\"white\",\"linecolor\":\"white\",\"ticks\":\"\"}},\"title\":{\"x\":0.05},\"xaxis\":{\"automargin\":true,\"gridcolor\":\"white\",\"linecolor\":\"white\",\"ticks\":\"\",\"title\":{\"standoff\":15},\"zerolinecolor\":\"white\",\"zerolinewidth\":2},\"yaxis\":{\"automargin\":true,\"gridcolor\":\"white\",\"linecolor\":\"white\",\"ticks\":\"\",\"title\":{\"standoff\":15},\"zerolinecolor\":\"white\",\"zerolinewidth\":2}}},\"xaxis\":{\"anchor\":\"y\",\"domain\":[0.0,1.0],\"title\":{\"text\":\"Date\"}},\"yaxis\":{\"anchor\":\"x\",\"domain\":[0.0,1.0],\"title\":{\"text\":\"value\"}},\"legend\":{\"title\":{\"text\":\"variable\"},\"tracegroupgap\":0},\"margin\":{\"t\":60}},                        {\"responsive\": true}                    ).then(function(){\n",
       "                            \n",
       "var gd = document.getElementById('70d926dd-f578-4bd7-a1d7-91f47768e453');\n",
       "var x = new MutationObserver(function (mutations, observer) {{\n",
       "        var display = window.getComputedStyle(gd).display;\n",
       "        if (!display || display === 'none') {{\n",
       "            console.log([gd, 'removed!']);\n",
       "            Plotly.purge(gd);\n",
       "            observer.disconnect();\n",
       "        }}\n",
       "}});\n",
       "\n",
       "// Listen for the removal of the full notebook cells\n",
       "var notebookContainer = gd.closest('#notebook-container');\n",
       "if (notebookContainer) {{\n",
       "    x.observe(notebookContainer, {childList: true});\n",
       "}}\n",
       "\n",
       "// Listen for the clearing of the current output cell\n",
       "var outputEl = gd.closest('.output');\n",
       "if (outputEl) {{\n",
       "    x.observe(outputEl, {childList: true});\n",
       "}}\n",
       "\n",
       "                        })                };                });            </script>        </div>"
      ]
     },
     "metadata": {},
     "output_type": "display_data"
    }
   ],
   "source": [
    "Cheap = px.line(AverageTariffs, x='Date', y=['Cheapest tariff (Six large suppliers)','Cheapest tariff (All suppliers)'], labels={'x':'Date', 'y':'Average Tariff'})\n",
    "Cheap"
   ]
  },
  {
   "cell_type": "code",
   "execution_count": 40,
   "metadata": {},
   "outputs": [
    {
     "data": {
      "text/plain": [
       "'https://plotly.com/~onik321/9/'"
      ]
     },
     "execution_count": 40,
     "metadata": {},
     "output_type": "execute_result"
    }
   ],
   "source": [
    "py.plot(Cheap, filename = 'Cheap Price', auto_open=True)"
   ]
  },
  {
   "cell_type": "markdown",
   "metadata": {},
   "source": [
    "   ## Customer Satisfaction"
   ]
  },
  {
   "cell_type": "code",
   "execution_count": 42,
   "metadata": {},
   "outputs": [
    {
     "data": {
      "text/html": [
       "<div>\n",
       "<style scoped>\n",
       "    .dataframe tbody tr th:only-of-type {\n",
       "        vertical-align: middle;\n",
       "    }\n",
       "\n",
       "    .dataframe tbody tr th {\n",
       "        vertical-align: top;\n",
       "    }\n",
       "\n",
       "    .dataframe thead th {\n",
       "        text-align: right;\n",
       "    }\n",
       "</style>\n",
       "<table border=\"1\" class=\"dataframe\">\n",
       "  <thead>\n",
       "    <tr style=\"text-align: right;\">\n",
       "      <th></th>\n",
       "      <th>Quarter Ending</th>\n",
       "      <th>Electricity</th>\n",
       "      <th>Electricity new methodology</th>\n",
       "    </tr>\n",
       "  </thead>\n",
       "  <tbody>\n",
       "    <tr>\n",
       "      <th>0</th>\n",
       "      <td>2012-03-31 00:00:00</td>\n",
       "      <td>0.49</td>\n",
       "      <td>NaN</td>\n",
       "    </tr>\n",
       "    <tr>\n",
       "      <th>1</th>\n",
       "      <td>2012-06-30 00:00:00</td>\n",
       "      <td>0.50</td>\n",
       "      <td>NaN</td>\n",
       "    </tr>\n",
       "    <tr>\n",
       "      <th>2</th>\n",
       "      <td>2012-09-30 00:00:00</td>\n",
       "      <td>0.51</td>\n",
       "      <td>NaN</td>\n",
       "    </tr>\n",
       "    <tr>\n",
       "      <th>3</th>\n",
       "      <td>2012-12-31 00:00:00</td>\n",
       "      <td>0.50</td>\n",
       "      <td>NaN</td>\n",
       "    </tr>\n",
       "    <tr>\n",
       "      <th>4</th>\n",
       "      <td>2013-03-31 00:00:00</td>\n",
       "      <td>0.52</td>\n",
       "      <td>NaN</td>\n",
       "    </tr>\n",
       "    <tr>\n",
       "      <th>5</th>\n",
       "      <td>2013-06-30 00:00:00</td>\n",
       "      <td>0.51</td>\n",
       "      <td>NaN</td>\n",
       "    </tr>\n",
       "    <tr>\n",
       "      <th>6</th>\n",
       "      <td>2013-09-30 00:00:00</td>\n",
       "      <td>0.51</td>\n",
       "      <td>NaN</td>\n",
       "    </tr>\n",
       "    <tr>\n",
       "      <th>7</th>\n",
       "      <td>2013-12-31 00:00:00</td>\n",
       "      <td>0.49</td>\n",
       "      <td>NaN</td>\n",
       "    </tr>\n",
       "    <tr>\n",
       "      <th>8</th>\n",
       "      <td>2014-03-31 00:00:00</td>\n",
       "      <td>0.50</td>\n",
       "      <td>NaN</td>\n",
       "    </tr>\n",
       "    <tr>\n",
       "      <th>9</th>\n",
       "      <td>2014-06-30 00:00:00</td>\n",
       "      <td>0.49</td>\n",
       "      <td>NaN</td>\n",
       "    </tr>\n",
       "    <tr>\n",
       "      <th>10</th>\n",
       "      <td>2014-09-30 00:00:00</td>\n",
       "      <td>0.50</td>\n",
       "      <td>NaN</td>\n",
       "    </tr>\n",
       "    <tr>\n",
       "      <th>11</th>\n",
       "      <td>2014-12-31 00:00:00</td>\n",
       "      <td>0.50</td>\n",
       "      <td>NaN</td>\n",
       "    </tr>\n",
       "    <tr>\n",
       "      <th>12</th>\n",
       "      <td>2015-03-31 00:00:00</td>\n",
       "      <td>0.51</td>\n",
       "      <td>NaN</td>\n",
       "    </tr>\n",
       "    <tr>\n",
       "      <th>13</th>\n",
       "      <td>2015-06-30 00:00:00</td>\n",
       "      <td>0.51</td>\n",
       "      <td>NaN</td>\n",
       "    </tr>\n",
       "    <tr>\n",
       "      <th>14</th>\n",
       "      <td>2015-09-30 00:00:00</td>\n",
       "      <td>0.51</td>\n",
       "      <td>NaN</td>\n",
       "    </tr>\n",
       "    <tr>\n",
       "      <th>15</th>\n",
       "      <td>2015-12-30 00:00:00</td>\n",
       "      <td>0.52</td>\n",
       "      <td>NaN</td>\n",
       "    </tr>\n",
       "    <tr>\n",
       "      <th>16</th>\n",
       "      <td>2016-03-31 00:00:00</td>\n",
       "      <td>0.52</td>\n",
       "      <td>NaN</td>\n",
       "    </tr>\n",
       "    <tr>\n",
       "      <th>17</th>\n",
       "      <td>31/06/2016</td>\n",
       "      <td>0.53</td>\n",
       "      <td>NaN</td>\n",
       "    </tr>\n",
       "    <tr>\n",
       "      <th>18</th>\n",
       "      <td>31/09/2016</td>\n",
       "      <td>0.54</td>\n",
       "      <td>NaN</td>\n",
       "    </tr>\n",
       "    <tr>\n",
       "      <th>19</th>\n",
       "      <td>2016-12-31 00:00:00</td>\n",
       "      <td>0.54</td>\n",
       "      <td>NaN</td>\n",
       "    </tr>\n",
       "    <tr>\n",
       "      <th>20</th>\n",
       "      <td>2017-03-31 00:00:00</td>\n",
       "      <td>NaN</td>\n",
       "      <td>0.69</td>\n",
       "    </tr>\n",
       "    <tr>\n",
       "      <th>21</th>\n",
       "      <td>31/06/2017</td>\n",
       "      <td>NaN</td>\n",
       "      <td>0.73</td>\n",
       "    </tr>\n",
       "    <tr>\n",
       "      <th>22</th>\n",
       "      <td>31/09/2017</td>\n",
       "      <td>NaN</td>\n",
       "      <td>0.72</td>\n",
       "    </tr>\n",
       "    <tr>\n",
       "      <th>23</th>\n",
       "      <td>2017-12-31 00:00:00</td>\n",
       "      <td>NaN</td>\n",
       "      <td>0.72</td>\n",
       "    </tr>\n",
       "  </tbody>\n",
       "</table>\n",
       "</div>"
      ],
      "text/plain": [
       "         Quarter Ending  Electricity  Electricity new methodology\n",
       "0   2012-03-31 00:00:00         0.49                          NaN\n",
       "1   2012-06-30 00:00:00         0.50                          NaN\n",
       "2   2012-09-30 00:00:00         0.51                          NaN\n",
       "3   2012-12-31 00:00:00         0.50                          NaN\n",
       "4   2013-03-31 00:00:00         0.52                          NaN\n",
       "5   2013-06-30 00:00:00         0.51                          NaN\n",
       "6   2013-09-30 00:00:00         0.51                          NaN\n",
       "7   2013-12-31 00:00:00         0.49                          NaN\n",
       "8   2014-03-31 00:00:00         0.50                          NaN\n",
       "9   2014-06-30 00:00:00         0.49                          NaN\n",
       "10  2014-09-30 00:00:00         0.50                          NaN\n",
       "11  2014-12-31 00:00:00         0.50                          NaN\n",
       "12  2015-03-31 00:00:00         0.51                          NaN\n",
       "13  2015-06-30 00:00:00         0.51                          NaN\n",
       "14  2015-09-30 00:00:00         0.51                          NaN\n",
       "15  2015-12-30 00:00:00         0.52                          NaN\n",
       "16  2016-03-31 00:00:00         0.52                          NaN\n",
       "17           31/06/2016         0.53                          NaN\n",
       "18           31/09/2016         0.54                          NaN\n",
       "19  2016-12-31 00:00:00         0.54                          NaN\n",
       "20  2017-03-31 00:00:00          NaN                         0.69\n",
       "21           31/06/2017          NaN                         0.73\n",
       "22           31/09/2017          NaN                         0.72\n",
       "23  2017-12-31 00:00:00          NaN                         0.72"
      ]
     },
     "execution_count": 42,
     "metadata": {},
     "output_type": "execute_result"
    }
   ],
   "source": [
    "CustomerSatisfaction.head(24)"
   ]
  },
  {
   "cell_type": "code",
   "execution_count": 43,
   "metadata": {},
   "outputs": [
    {
     "data": {
      "text/plain": [
       "Index(['Quarter Ending', 'Electricity', 'Electricity new methodology'], dtype='object')"
      ]
     },
     "execution_count": 43,
     "metadata": {},
     "output_type": "execute_result"
    }
   ],
   "source": [
    "CustomerSatisfaction.columns"
   ]
  },
  {
   "cell_type": "code",
   "execution_count": 44,
   "metadata": {},
   "outputs": [
    {
     "data": {
      "text/html": [
       "<div>\n",
       "<style scoped>\n",
       "    .dataframe tbody tr th:only-of-type {\n",
       "        vertical-align: middle;\n",
       "    }\n",
       "\n",
       "    .dataframe tbody tr th {\n",
       "        vertical-align: top;\n",
       "    }\n",
       "\n",
       "    .dataframe thead th {\n",
       "        text-align: right;\n",
       "    }\n",
       "</style>\n",
       "<table border=\"1\" class=\"dataframe\">\n",
       "  <thead>\n",
       "    <tr style=\"text-align: right;\">\n",
       "      <th></th>\n",
       "      <th>Electricity</th>\n",
       "      <th>Electricity new methodology</th>\n",
       "    </tr>\n",
       "  </thead>\n",
       "  <tbody>\n",
       "    <tr>\n",
       "      <th>count</th>\n",
       "      <td>20.000000</td>\n",
       "      <td>4.000000</td>\n",
       "    </tr>\n",
       "    <tr>\n",
       "      <th>mean</th>\n",
       "      <td>0.510000</td>\n",
       "      <td>0.715000</td>\n",
       "    </tr>\n",
       "    <tr>\n",
       "      <th>std</th>\n",
       "      <td>0.014868</td>\n",
       "      <td>0.017321</td>\n",
       "    </tr>\n",
       "    <tr>\n",
       "      <th>min</th>\n",
       "      <td>0.490000</td>\n",
       "      <td>0.690000</td>\n",
       "    </tr>\n",
       "    <tr>\n",
       "      <th>25%</th>\n",
       "      <td>0.500000</td>\n",
       "      <td>0.712500</td>\n",
       "    </tr>\n",
       "    <tr>\n",
       "      <th>50%</th>\n",
       "      <td>0.510000</td>\n",
       "      <td>0.720000</td>\n",
       "    </tr>\n",
       "    <tr>\n",
       "      <th>75%</th>\n",
       "      <td>0.520000</td>\n",
       "      <td>0.722500</td>\n",
       "    </tr>\n",
       "    <tr>\n",
       "      <th>max</th>\n",
       "      <td>0.540000</td>\n",
       "      <td>0.730000</td>\n",
       "    </tr>\n",
       "  </tbody>\n",
       "</table>\n",
       "</div>"
      ],
      "text/plain": [
       "       Electricity  Electricity new methodology\n",
       "count    20.000000                     4.000000\n",
       "mean      0.510000                     0.715000\n",
       "std       0.014868                     0.017321\n",
       "min       0.490000                     0.690000\n",
       "25%       0.500000                     0.712500\n",
       "50%       0.510000                     0.720000\n",
       "75%       0.520000                     0.722500\n",
       "max       0.540000                     0.730000"
      ]
     },
     "execution_count": 44,
     "metadata": {},
     "output_type": "execute_result"
    }
   ],
   "source": [
    "CustomerSatisfaction.describe()"
   ]
  },
  {
   "cell_type": "code",
   "execution_count": 45,
   "metadata": {},
   "outputs": [],
   "source": [
    "### Conversion of Date from Object to Datetime Format"
   ]
  },
  {
   "cell_type": "code",
   "execution_count": 46,
   "metadata": {},
   "outputs": [],
   "source": [
    "from datetime import datetime"
   ]
  },
  {
   "cell_type": "code",
   "execution_count": 47,
   "metadata": {
    "scrolled": false
   },
   "outputs": [],
   "source": [
    "#CustomerSatisfaction['Quarter Ending'] = pd.to_datetime(CustomerSatisfaction['Quarter Ending'],format='%d-%m-%Y',errors='ignore',dayfirst=False)"
   ]
  },
  {
   "cell_type": "code",
   "execution_count": 48,
   "metadata": {},
   "outputs": [],
   "source": [
    "#CustomerSatisfaction['Quarter Ending']"
   ]
  },
  {
   "cell_type": "code",
   "execution_count": 49,
   "metadata": {},
   "outputs": [],
   "source": [
    "d1 = CustomerSatisfaction['Quarter Ending'].iloc[0:17]\n",
    "d2 = CustomerSatisfaction['Quarter Ending'].iloc[19:21]\n",
    "d3 = CustomerSatisfaction['Quarter Ending'].iloc[23]"
   ]
  },
  {
   "cell_type": "code",
   "execution_count": 50,
   "metadata": {},
   "outputs": [
    {
     "name": "stderr",
     "output_type": "stream",
     "text": [
      "C:\\Users\\FiercePC\\anaconda3\\lib\\site-packages\\pandas\\core\\indexing.py:670: SettingWithCopyWarning:\n",
      "\n",
      "\n",
      "A value is trying to be set on a copy of a slice from a DataFrame\n",
      "\n",
      "See the caveats in the documentation: https://pandas.pydata.org/pandas-docs/stable/user_guide/indexing.html#returning-a-view-versus-a-copy\n",
      "\n"
     ]
    }
   ],
   "source": [
    "CustomerSatisfaction['Quarter Ending'].iloc[0:17] = d1.apply(lambda x: x.strftime('%d/%m/%Y'))\n",
    "CustomerSatisfaction['Quarter Ending'].iloc[19:21] = d2.apply(lambda x: x.strftime('%d/%m/%Y'))\n",
    "CustomerSatisfaction['Quarter Ending'].iloc[23] = d3.strftime('%d/%m/%Y')"
   ]
  },
  {
   "cell_type": "code",
   "execution_count": 51,
   "metadata": {},
   "outputs": [
    {
     "data": {
      "text/plain": [
       "0     31/03/2012\n",
       "1     30/06/2012\n",
       "2     30/09/2012\n",
       "3     31/12/2012\n",
       "4     31/03/2013\n",
       "5     30/06/2013\n",
       "6     30/09/2013\n",
       "7     31/12/2013\n",
       "8     31/03/2014\n",
       "9     30/06/2014\n",
       "10    30/09/2014\n",
       "11    31/12/2014\n",
       "12    31/03/2015\n",
       "13    30/06/2015\n",
       "14    30/09/2015\n",
       "15    30/12/2015\n",
       "16    31/03/2016\n",
       "17    31/06/2016\n",
       "18    31/09/2016\n",
       "19    31/12/2016\n",
       "20    31/03/2017\n",
       "21    31/06/2017\n",
       "22    31/09/2017\n",
       "23    31/12/2017\n",
       "Name: Quarter Ending, dtype: object"
      ]
     },
     "execution_count": 51,
     "metadata": {},
     "output_type": "execute_result"
    }
   ],
   "source": [
    "CustomerSatisfaction['Quarter Ending']"
   ]
  },
  {
   "cell_type": "code",
   "execution_count": 54,
   "metadata": {},
   "outputs": [
    {
     "data": {
      "application/vnd.plotly.v1+json": {
       "config": {
        "plotlyServerURL": "https://plotly.com"
       },
       "data": [
        {
         "alignmentgroup": "True",
         "hovertemplate": "variable=Electricity<br>Quarter Ending=%{x}<br>value=%{y}<extra></extra>",
         "legendgroup": "Electricity",
         "marker": {
          "color": "#636efa",
          "pattern": {
           "shape": ""
          }
         },
         "name": "Electricity",
         "offsetgroup": "Electricity",
         "orientation": "v",
         "showlegend": true,
         "textposition": "auto",
         "type": "bar",
         "x": [
          "31/03/2012",
          "30/06/2012",
          "30/09/2012",
          "31/12/2012",
          "31/03/2013",
          "30/06/2013",
          "30/09/2013",
          "31/12/2013",
          "31/03/2014",
          "30/06/2014",
          "30/09/2014",
          "31/12/2014",
          "31/03/2015",
          "30/06/2015",
          "30/09/2015",
          "30/12/2015",
          "31/03/2016",
          "31/06/2016",
          "31/09/2016",
          "31/12/2016",
          "31/03/2017",
          "31/06/2017",
          "31/09/2017",
          "31/12/2017"
         ],
         "xaxis": "x",
         "y": [
          0.49,
          0.5,
          0.51,
          0.5,
          0.52,
          0.51,
          0.51,
          0.49,
          0.5,
          0.49,
          0.5,
          0.5,
          0.51,
          0.51,
          0.51,
          0.52,
          0.52,
          0.53,
          0.54,
          0.54,
          null,
          null,
          null,
          null
         ],
         "yaxis": "y"
        },
        {
         "alignmentgroup": "True",
         "hovertemplate": "variable=Electricity new methodology<br>Quarter Ending=%{x}<br>value=%{y}<extra></extra>",
         "legendgroup": "Electricity new methodology",
         "marker": {
          "color": "#EF553B",
          "pattern": {
           "shape": ""
          }
         },
         "name": "Electricity new methodology",
         "offsetgroup": "Electricity new methodology",
         "orientation": "v",
         "showlegend": true,
         "textposition": "auto",
         "type": "bar",
         "x": [
          "31/03/2012",
          "30/06/2012",
          "30/09/2012",
          "31/12/2012",
          "31/03/2013",
          "30/06/2013",
          "30/09/2013",
          "31/12/2013",
          "31/03/2014",
          "30/06/2014",
          "30/09/2014",
          "31/12/2014",
          "31/03/2015",
          "30/06/2015",
          "30/09/2015",
          "30/12/2015",
          "31/03/2016",
          "31/06/2016",
          "31/09/2016",
          "31/12/2016",
          "31/03/2017",
          "31/06/2017",
          "31/09/2017",
          "31/12/2017"
         ],
         "xaxis": "x",
         "y": [
          null,
          null,
          null,
          null,
          null,
          null,
          null,
          null,
          null,
          null,
          null,
          null,
          null,
          null,
          null,
          null,
          null,
          null,
          null,
          null,
          0.69,
          0.73,
          0.72,
          0.72
         ],
         "yaxis": "y"
        }
       ],
       "layout": {
        "barmode": "relative",
        "legend": {
         "title": {
          "text": "variable"
         },
         "tracegroupgap": 0
        },
        "template": {
         "data": {
          "bar": [
           {
            "error_x": {
             "color": "#2a3f5f"
            },
            "error_y": {
             "color": "#2a3f5f"
            },
            "marker": {
             "line": {
              "color": "#E5ECF6",
              "width": 0.5
             },
             "pattern": {
              "fillmode": "overlay",
              "size": 10,
              "solidity": 0.2
             }
            },
            "type": "bar"
           }
          ],
          "barpolar": [
           {
            "marker": {
             "line": {
              "color": "#E5ECF6",
              "width": 0.5
             },
             "pattern": {
              "fillmode": "overlay",
              "size": 10,
              "solidity": 0.2
             }
            },
            "type": "barpolar"
           }
          ],
          "carpet": [
           {
            "aaxis": {
             "endlinecolor": "#2a3f5f",
             "gridcolor": "white",
             "linecolor": "white",
             "minorgridcolor": "white",
             "startlinecolor": "#2a3f5f"
            },
            "baxis": {
             "endlinecolor": "#2a3f5f",
             "gridcolor": "white",
             "linecolor": "white",
             "minorgridcolor": "white",
             "startlinecolor": "#2a3f5f"
            },
            "type": "carpet"
           }
          ],
          "choropleth": [
           {
            "colorbar": {
             "outlinewidth": 0,
             "ticks": ""
            },
            "type": "choropleth"
           }
          ],
          "contour": [
           {
            "colorbar": {
             "outlinewidth": 0,
             "ticks": ""
            },
            "colorscale": [
             [
              0,
              "#0d0887"
             ],
             [
              0.1111111111111111,
              "#46039f"
             ],
             [
              0.2222222222222222,
              "#7201a8"
             ],
             [
              0.3333333333333333,
              "#9c179e"
             ],
             [
              0.4444444444444444,
              "#bd3786"
             ],
             [
              0.5555555555555556,
              "#d8576b"
             ],
             [
              0.6666666666666666,
              "#ed7953"
             ],
             [
              0.7777777777777778,
              "#fb9f3a"
             ],
             [
              0.8888888888888888,
              "#fdca26"
             ],
             [
              1,
              "#f0f921"
             ]
            ],
            "type": "contour"
           }
          ],
          "contourcarpet": [
           {
            "colorbar": {
             "outlinewidth": 0,
             "ticks": ""
            },
            "type": "contourcarpet"
           }
          ],
          "heatmap": [
           {
            "colorbar": {
             "outlinewidth": 0,
             "ticks": ""
            },
            "colorscale": [
             [
              0,
              "#0d0887"
             ],
             [
              0.1111111111111111,
              "#46039f"
             ],
             [
              0.2222222222222222,
              "#7201a8"
             ],
             [
              0.3333333333333333,
              "#9c179e"
             ],
             [
              0.4444444444444444,
              "#bd3786"
             ],
             [
              0.5555555555555556,
              "#d8576b"
             ],
             [
              0.6666666666666666,
              "#ed7953"
             ],
             [
              0.7777777777777778,
              "#fb9f3a"
             ],
             [
              0.8888888888888888,
              "#fdca26"
             ],
             [
              1,
              "#f0f921"
             ]
            ],
            "type": "heatmap"
           }
          ],
          "heatmapgl": [
           {
            "colorbar": {
             "outlinewidth": 0,
             "ticks": ""
            },
            "colorscale": [
             [
              0,
              "#0d0887"
             ],
             [
              0.1111111111111111,
              "#46039f"
             ],
             [
              0.2222222222222222,
              "#7201a8"
             ],
             [
              0.3333333333333333,
              "#9c179e"
             ],
             [
              0.4444444444444444,
              "#bd3786"
             ],
             [
              0.5555555555555556,
              "#d8576b"
             ],
             [
              0.6666666666666666,
              "#ed7953"
             ],
             [
              0.7777777777777778,
              "#fb9f3a"
             ],
             [
              0.8888888888888888,
              "#fdca26"
             ],
             [
              1,
              "#f0f921"
             ]
            ],
            "type": "heatmapgl"
           }
          ],
          "histogram": [
           {
            "marker": {
             "pattern": {
              "fillmode": "overlay",
              "size": 10,
              "solidity": 0.2
             }
            },
            "type": "histogram"
           }
          ],
          "histogram2d": [
           {
            "colorbar": {
             "outlinewidth": 0,
             "ticks": ""
            },
            "colorscale": [
             [
              0,
              "#0d0887"
             ],
             [
              0.1111111111111111,
              "#46039f"
             ],
             [
              0.2222222222222222,
              "#7201a8"
             ],
             [
              0.3333333333333333,
              "#9c179e"
             ],
             [
              0.4444444444444444,
              "#bd3786"
             ],
             [
              0.5555555555555556,
              "#d8576b"
             ],
             [
              0.6666666666666666,
              "#ed7953"
             ],
             [
              0.7777777777777778,
              "#fb9f3a"
             ],
             [
              0.8888888888888888,
              "#fdca26"
             ],
             [
              1,
              "#f0f921"
             ]
            ],
            "type": "histogram2d"
           }
          ],
          "histogram2dcontour": [
           {
            "colorbar": {
             "outlinewidth": 0,
             "ticks": ""
            },
            "colorscale": [
             [
              0,
              "#0d0887"
             ],
             [
              0.1111111111111111,
              "#46039f"
             ],
             [
              0.2222222222222222,
              "#7201a8"
             ],
             [
              0.3333333333333333,
              "#9c179e"
             ],
             [
              0.4444444444444444,
              "#bd3786"
             ],
             [
              0.5555555555555556,
              "#d8576b"
             ],
             [
              0.6666666666666666,
              "#ed7953"
             ],
             [
              0.7777777777777778,
              "#fb9f3a"
             ],
             [
              0.8888888888888888,
              "#fdca26"
             ],
             [
              1,
              "#f0f921"
             ]
            ],
            "type": "histogram2dcontour"
           }
          ],
          "mesh3d": [
           {
            "colorbar": {
             "outlinewidth": 0,
             "ticks": ""
            },
            "type": "mesh3d"
           }
          ],
          "parcoords": [
           {
            "line": {
             "colorbar": {
              "outlinewidth": 0,
              "ticks": ""
             }
            },
            "type": "parcoords"
           }
          ],
          "pie": [
           {
            "automargin": true,
            "type": "pie"
           }
          ],
          "scatter": [
           {
            "marker": {
             "colorbar": {
              "outlinewidth": 0,
              "ticks": ""
             }
            },
            "type": "scatter"
           }
          ],
          "scatter3d": [
           {
            "line": {
             "colorbar": {
              "outlinewidth": 0,
              "ticks": ""
             }
            },
            "marker": {
             "colorbar": {
              "outlinewidth": 0,
              "ticks": ""
             }
            },
            "type": "scatter3d"
           }
          ],
          "scattercarpet": [
           {
            "marker": {
             "colorbar": {
              "outlinewidth": 0,
              "ticks": ""
             }
            },
            "type": "scattercarpet"
           }
          ],
          "scattergeo": [
           {
            "marker": {
             "colorbar": {
              "outlinewidth": 0,
              "ticks": ""
             }
            },
            "type": "scattergeo"
           }
          ],
          "scattergl": [
           {
            "marker": {
             "colorbar": {
              "outlinewidth": 0,
              "ticks": ""
             }
            },
            "type": "scattergl"
           }
          ],
          "scattermapbox": [
           {
            "marker": {
             "colorbar": {
              "outlinewidth": 0,
              "ticks": ""
             }
            },
            "type": "scattermapbox"
           }
          ],
          "scatterpolar": [
           {
            "marker": {
             "colorbar": {
              "outlinewidth": 0,
              "ticks": ""
             }
            },
            "type": "scatterpolar"
           }
          ],
          "scatterpolargl": [
           {
            "marker": {
             "colorbar": {
              "outlinewidth": 0,
              "ticks": ""
             }
            },
            "type": "scatterpolargl"
           }
          ],
          "scatterternary": [
           {
            "marker": {
             "colorbar": {
              "outlinewidth": 0,
              "ticks": ""
             }
            },
            "type": "scatterternary"
           }
          ],
          "surface": [
           {
            "colorbar": {
             "outlinewidth": 0,
             "ticks": ""
            },
            "colorscale": [
             [
              0,
              "#0d0887"
             ],
             [
              0.1111111111111111,
              "#46039f"
             ],
             [
              0.2222222222222222,
              "#7201a8"
             ],
             [
              0.3333333333333333,
              "#9c179e"
             ],
             [
              0.4444444444444444,
              "#bd3786"
             ],
             [
              0.5555555555555556,
              "#d8576b"
             ],
             [
              0.6666666666666666,
              "#ed7953"
             ],
             [
              0.7777777777777778,
              "#fb9f3a"
             ],
             [
              0.8888888888888888,
              "#fdca26"
             ],
             [
              1,
              "#f0f921"
             ]
            ],
            "type": "surface"
           }
          ],
          "table": [
           {
            "cells": {
             "fill": {
              "color": "#EBF0F8"
             },
             "line": {
              "color": "white"
             }
            },
            "header": {
             "fill": {
              "color": "#C8D4E3"
             },
             "line": {
              "color": "white"
             }
            },
            "type": "table"
           }
          ]
         },
         "layout": {
          "annotationdefaults": {
           "arrowcolor": "#2a3f5f",
           "arrowhead": 0,
           "arrowwidth": 1
          },
          "autotypenumbers": "strict",
          "coloraxis": {
           "colorbar": {
            "outlinewidth": 0,
            "ticks": ""
           }
          },
          "colorscale": {
           "diverging": [
            [
             0,
             "#8e0152"
            ],
            [
             0.1,
             "#c51b7d"
            ],
            [
             0.2,
             "#de77ae"
            ],
            [
             0.3,
             "#f1b6da"
            ],
            [
             0.4,
             "#fde0ef"
            ],
            [
             0.5,
             "#f7f7f7"
            ],
            [
             0.6,
             "#e6f5d0"
            ],
            [
             0.7,
             "#b8e186"
            ],
            [
             0.8,
             "#7fbc41"
            ],
            [
             0.9,
             "#4d9221"
            ],
            [
             1,
             "#276419"
            ]
           ],
           "sequential": [
            [
             0,
             "#0d0887"
            ],
            [
             0.1111111111111111,
             "#46039f"
            ],
            [
             0.2222222222222222,
             "#7201a8"
            ],
            [
             0.3333333333333333,
             "#9c179e"
            ],
            [
             0.4444444444444444,
             "#bd3786"
            ],
            [
             0.5555555555555556,
             "#d8576b"
            ],
            [
             0.6666666666666666,
             "#ed7953"
            ],
            [
             0.7777777777777778,
             "#fb9f3a"
            ],
            [
             0.8888888888888888,
             "#fdca26"
            ],
            [
             1,
             "#f0f921"
            ]
           ],
           "sequentialminus": [
            [
             0,
             "#0d0887"
            ],
            [
             0.1111111111111111,
             "#46039f"
            ],
            [
             0.2222222222222222,
             "#7201a8"
            ],
            [
             0.3333333333333333,
             "#9c179e"
            ],
            [
             0.4444444444444444,
             "#bd3786"
            ],
            [
             0.5555555555555556,
             "#d8576b"
            ],
            [
             0.6666666666666666,
             "#ed7953"
            ],
            [
             0.7777777777777778,
             "#fb9f3a"
            ],
            [
             0.8888888888888888,
             "#fdca26"
            ],
            [
             1,
             "#f0f921"
            ]
           ]
          },
          "colorway": [
           "#636efa",
           "#EF553B",
           "#00cc96",
           "#ab63fa",
           "#FFA15A",
           "#19d3f3",
           "#FF6692",
           "#B6E880",
           "#FF97FF",
           "#FECB52"
          ],
          "font": {
           "color": "#2a3f5f"
          },
          "geo": {
           "bgcolor": "white",
           "lakecolor": "white",
           "landcolor": "#E5ECF6",
           "showlakes": true,
           "showland": true,
           "subunitcolor": "white"
          },
          "hoverlabel": {
           "align": "left"
          },
          "hovermode": "closest",
          "mapbox": {
           "style": "light"
          },
          "paper_bgcolor": "white",
          "plot_bgcolor": "#E5ECF6",
          "polar": {
           "angularaxis": {
            "gridcolor": "white",
            "linecolor": "white",
            "ticks": ""
           },
           "bgcolor": "#E5ECF6",
           "radialaxis": {
            "gridcolor": "white",
            "linecolor": "white",
            "ticks": ""
           }
          },
          "scene": {
           "xaxis": {
            "backgroundcolor": "#E5ECF6",
            "gridcolor": "white",
            "gridwidth": 2,
            "linecolor": "white",
            "showbackground": true,
            "ticks": "",
            "zerolinecolor": "white"
           },
           "yaxis": {
            "backgroundcolor": "#E5ECF6",
            "gridcolor": "white",
            "gridwidth": 2,
            "linecolor": "white",
            "showbackground": true,
            "ticks": "",
            "zerolinecolor": "white"
           },
           "zaxis": {
            "backgroundcolor": "#E5ECF6",
            "gridcolor": "white",
            "gridwidth": 2,
            "linecolor": "white",
            "showbackground": true,
            "ticks": "",
            "zerolinecolor": "white"
           }
          },
          "shapedefaults": {
           "line": {
            "color": "#2a3f5f"
           }
          },
          "ternary": {
           "aaxis": {
            "gridcolor": "white",
            "linecolor": "white",
            "ticks": ""
           },
           "baxis": {
            "gridcolor": "white",
            "linecolor": "white",
            "ticks": ""
           },
           "bgcolor": "#E5ECF6",
           "caxis": {
            "gridcolor": "white",
            "linecolor": "white",
            "ticks": ""
           }
          },
          "title": {
           "x": 0.05
          },
          "xaxis": {
           "automargin": true,
           "gridcolor": "white",
           "linecolor": "white",
           "ticks": "",
           "title": {
            "standoff": 15
           },
           "zerolinecolor": "white",
           "zerolinewidth": 2
          },
          "yaxis": {
           "automargin": true,
           "gridcolor": "white",
           "linecolor": "white",
           "ticks": "",
           "title": {
            "standoff": 15
           },
           "zerolinecolor": "white",
           "zerolinewidth": 2
          }
         }
        },
        "title": {
         "text": "Customer Satisfaction"
        },
        "xaxis": {
         "anchor": "y",
         "domain": [
          0,
          1
         ],
         "title": {
          "text": "Quarter Ending"
         }
        },
        "yaxis": {
         "anchor": "x",
         "domain": [
          0,
          1
         ],
         "title": {
          "text": "value"
         }
        }
       }
      },
      "text/html": [
       "<div>                            <div id=\"f0e558b6-44f5-43c2-9d75-eb717daba4bc\" class=\"plotly-graph-div\" style=\"height:525px; width:100%;\"></div>            <script type=\"text/javascript\">                require([\"plotly\"], function(Plotly) {                    window.PLOTLYENV=window.PLOTLYENV || {};                                    if (document.getElementById(\"f0e558b6-44f5-43c2-9d75-eb717daba4bc\")) {                    Plotly.newPlot(                        \"f0e558b6-44f5-43c2-9d75-eb717daba4bc\",                        [{\"alignmentgroup\":\"True\",\"hovertemplate\":\"variable=Electricity<br>Quarter Ending=%{x}<br>value=%{y}<extra></extra>\",\"legendgroup\":\"Electricity\",\"marker\":{\"color\":\"#636efa\",\"pattern\":{\"shape\":\"\"}},\"name\":\"Electricity\",\"offsetgroup\":\"Electricity\",\"orientation\":\"v\",\"showlegend\":true,\"textposition\":\"auto\",\"x\":[\"31/03/2012\",\"30/06/2012\",\"30/09/2012\",\"31/12/2012\",\"31/03/2013\",\"30/06/2013\",\"30/09/2013\",\"31/12/2013\",\"31/03/2014\",\"30/06/2014\",\"30/09/2014\",\"31/12/2014\",\"31/03/2015\",\"30/06/2015\",\"30/09/2015\",\"30/12/2015\",\"31/03/2016\",\"31/06/2016\",\"31/09/2016\",\"31/12/2016\",\"31/03/2017\",\"31/06/2017\",\"31/09/2017\",\"31/12/2017\"],\"xaxis\":\"x\",\"y\":[0.49,0.5,0.51,0.5,0.52,0.51,0.51,0.49,0.5,0.49,0.5,0.5,0.51,0.51,0.51,0.52,0.52,0.53,0.54,0.54,null,null,null,null],\"yaxis\":\"y\",\"type\":\"bar\"},{\"alignmentgroup\":\"True\",\"hovertemplate\":\"variable=Electricity new methodology<br>Quarter Ending=%{x}<br>value=%{y}<extra></extra>\",\"legendgroup\":\"Electricity new methodology\",\"marker\":{\"color\":\"#EF553B\",\"pattern\":{\"shape\":\"\"}},\"name\":\"Electricity new methodology\",\"offsetgroup\":\"Electricity new methodology\",\"orientation\":\"v\",\"showlegend\":true,\"textposition\":\"auto\",\"x\":[\"31/03/2012\",\"30/06/2012\",\"30/09/2012\",\"31/12/2012\",\"31/03/2013\",\"30/06/2013\",\"30/09/2013\",\"31/12/2013\",\"31/03/2014\",\"30/06/2014\",\"30/09/2014\",\"31/12/2014\",\"31/03/2015\",\"30/06/2015\",\"30/09/2015\",\"30/12/2015\",\"31/03/2016\",\"31/06/2016\",\"31/09/2016\",\"31/12/2016\",\"31/03/2017\",\"31/06/2017\",\"31/09/2017\",\"31/12/2017\"],\"xaxis\":\"x\",\"y\":[null,null,null,null,null,null,null,null,null,null,null,null,null,null,null,null,null,null,null,null,0.69,0.73,0.72,0.72],\"yaxis\":\"y\",\"type\":\"bar\"}],                        {\"template\":{\"data\":{\"bar\":[{\"error_x\":{\"color\":\"#2a3f5f\"},\"error_y\":{\"color\":\"#2a3f5f\"},\"marker\":{\"line\":{\"color\":\"#E5ECF6\",\"width\":0.5},\"pattern\":{\"fillmode\":\"overlay\",\"size\":10,\"solidity\":0.2}},\"type\":\"bar\"}],\"barpolar\":[{\"marker\":{\"line\":{\"color\":\"#E5ECF6\",\"width\":0.5},\"pattern\":{\"fillmode\":\"overlay\",\"size\":10,\"solidity\":0.2}},\"type\":\"barpolar\"}],\"carpet\":[{\"aaxis\":{\"endlinecolor\":\"#2a3f5f\",\"gridcolor\":\"white\",\"linecolor\":\"white\",\"minorgridcolor\":\"white\",\"startlinecolor\":\"#2a3f5f\"},\"baxis\":{\"endlinecolor\":\"#2a3f5f\",\"gridcolor\":\"white\",\"linecolor\":\"white\",\"minorgridcolor\":\"white\",\"startlinecolor\":\"#2a3f5f\"},\"type\":\"carpet\"}],\"choropleth\":[{\"colorbar\":{\"outlinewidth\":0,\"ticks\":\"\"},\"type\":\"choropleth\"}],\"contour\":[{\"colorbar\":{\"outlinewidth\":0,\"ticks\":\"\"},\"colorscale\":[[0.0,\"#0d0887\"],[0.1111111111111111,\"#46039f\"],[0.2222222222222222,\"#7201a8\"],[0.3333333333333333,\"#9c179e\"],[0.4444444444444444,\"#bd3786\"],[0.5555555555555556,\"#d8576b\"],[0.6666666666666666,\"#ed7953\"],[0.7777777777777778,\"#fb9f3a\"],[0.8888888888888888,\"#fdca26\"],[1.0,\"#f0f921\"]],\"type\":\"contour\"}],\"contourcarpet\":[{\"colorbar\":{\"outlinewidth\":0,\"ticks\":\"\"},\"type\":\"contourcarpet\"}],\"heatmap\":[{\"colorbar\":{\"outlinewidth\":0,\"ticks\":\"\"},\"colorscale\":[[0.0,\"#0d0887\"],[0.1111111111111111,\"#46039f\"],[0.2222222222222222,\"#7201a8\"],[0.3333333333333333,\"#9c179e\"],[0.4444444444444444,\"#bd3786\"],[0.5555555555555556,\"#d8576b\"],[0.6666666666666666,\"#ed7953\"],[0.7777777777777778,\"#fb9f3a\"],[0.8888888888888888,\"#fdca26\"],[1.0,\"#f0f921\"]],\"type\":\"heatmap\"}],\"heatmapgl\":[{\"colorbar\":{\"outlinewidth\":0,\"ticks\":\"\"},\"colorscale\":[[0.0,\"#0d0887\"],[0.1111111111111111,\"#46039f\"],[0.2222222222222222,\"#7201a8\"],[0.3333333333333333,\"#9c179e\"],[0.4444444444444444,\"#bd3786\"],[0.5555555555555556,\"#d8576b\"],[0.6666666666666666,\"#ed7953\"],[0.7777777777777778,\"#fb9f3a\"],[0.8888888888888888,\"#fdca26\"],[1.0,\"#f0f921\"]],\"type\":\"heatmapgl\"}],\"histogram\":[{\"marker\":{\"pattern\":{\"fillmode\":\"overlay\",\"size\":10,\"solidity\":0.2}},\"type\":\"histogram\"}],\"histogram2d\":[{\"colorbar\":{\"outlinewidth\":0,\"ticks\":\"\"},\"colorscale\":[[0.0,\"#0d0887\"],[0.1111111111111111,\"#46039f\"],[0.2222222222222222,\"#7201a8\"],[0.3333333333333333,\"#9c179e\"],[0.4444444444444444,\"#bd3786\"],[0.5555555555555556,\"#d8576b\"],[0.6666666666666666,\"#ed7953\"],[0.7777777777777778,\"#fb9f3a\"],[0.8888888888888888,\"#fdca26\"],[1.0,\"#f0f921\"]],\"type\":\"histogram2d\"}],\"histogram2dcontour\":[{\"colorbar\":{\"outlinewidth\":0,\"ticks\":\"\"},\"colorscale\":[[0.0,\"#0d0887\"],[0.1111111111111111,\"#46039f\"],[0.2222222222222222,\"#7201a8\"],[0.3333333333333333,\"#9c179e\"],[0.4444444444444444,\"#bd3786\"],[0.5555555555555556,\"#d8576b\"],[0.6666666666666666,\"#ed7953\"],[0.7777777777777778,\"#fb9f3a\"],[0.8888888888888888,\"#fdca26\"],[1.0,\"#f0f921\"]],\"type\":\"histogram2dcontour\"}],\"mesh3d\":[{\"colorbar\":{\"outlinewidth\":0,\"ticks\":\"\"},\"type\":\"mesh3d\"}],\"parcoords\":[{\"line\":{\"colorbar\":{\"outlinewidth\":0,\"ticks\":\"\"}},\"type\":\"parcoords\"}],\"pie\":[{\"automargin\":true,\"type\":\"pie\"}],\"scatter\":[{\"marker\":{\"colorbar\":{\"outlinewidth\":0,\"ticks\":\"\"}},\"type\":\"scatter\"}],\"scatter3d\":[{\"line\":{\"colorbar\":{\"outlinewidth\":0,\"ticks\":\"\"}},\"marker\":{\"colorbar\":{\"outlinewidth\":0,\"ticks\":\"\"}},\"type\":\"scatter3d\"}],\"scattercarpet\":[{\"marker\":{\"colorbar\":{\"outlinewidth\":0,\"ticks\":\"\"}},\"type\":\"scattercarpet\"}],\"scattergeo\":[{\"marker\":{\"colorbar\":{\"outlinewidth\":0,\"ticks\":\"\"}},\"type\":\"scattergeo\"}],\"scattergl\":[{\"marker\":{\"colorbar\":{\"outlinewidth\":0,\"ticks\":\"\"}},\"type\":\"scattergl\"}],\"scattermapbox\":[{\"marker\":{\"colorbar\":{\"outlinewidth\":0,\"ticks\":\"\"}},\"type\":\"scattermapbox\"}],\"scatterpolar\":[{\"marker\":{\"colorbar\":{\"outlinewidth\":0,\"ticks\":\"\"}},\"type\":\"scatterpolar\"}],\"scatterpolargl\":[{\"marker\":{\"colorbar\":{\"outlinewidth\":0,\"ticks\":\"\"}},\"type\":\"scatterpolargl\"}],\"scatterternary\":[{\"marker\":{\"colorbar\":{\"outlinewidth\":0,\"ticks\":\"\"}},\"type\":\"scatterternary\"}],\"surface\":[{\"colorbar\":{\"outlinewidth\":0,\"ticks\":\"\"},\"colorscale\":[[0.0,\"#0d0887\"],[0.1111111111111111,\"#46039f\"],[0.2222222222222222,\"#7201a8\"],[0.3333333333333333,\"#9c179e\"],[0.4444444444444444,\"#bd3786\"],[0.5555555555555556,\"#d8576b\"],[0.6666666666666666,\"#ed7953\"],[0.7777777777777778,\"#fb9f3a\"],[0.8888888888888888,\"#fdca26\"],[1.0,\"#f0f921\"]],\"type\":\"surface\"}],\"table\":[{\"cells\":{\"fill\":{\"color\":\"#EBF0F8\"},\"line\":{\"color\":\"white\"}},\"header\":{\"fill\":{\"color\":\"#C8D4E3\"},\"line\":{\"color\":\"white\"}},\"type\":\"table\"}]},\"layout\":{\"annotationdefaults\":{\"arrowcolor\":\"#2a3f5f\",\"arrowhead\":0,\"arrowwidth\":1},\"autotypenumbers\":\"strict\",\"coloraxis\":{\"colorbar\":{\"outlinewidth\":0,\"ticks\":\"\"}},\"colorscale\":{\"diverging\":[[0,\"#8e0152\"],[0.1,\"#c51b7d\"],[0.2,\"#de77ae\"],[0.3,\"#f1b6da\"],[0.4,\"#fde0ef\"],[0.5,\"#f7f7f7\"],[0.6,\"#e6f5d0\"],[0.7,\"#b8e186\"],[0.8,\"#7fbc41\"],[0.9,\"#4d9221\"],[1,\"#276419\"]],\"sequential\":[[0.0,\"#0d0887\"],[0.1111111111111111,\"#46039f\"],[0.2222222222222222,\"#7201a8\"],[0.3333333333333333,\"#9c179e\"],[0.4444444444444444,\"#bd3786\"],[0.5555555555555556,\"#d8576b\"],[0.6666666666666666,\"#ed7953\"],[0.7777777777777778,\"#fb9f3a\"],[0.8888888888888888,\"#fdca26\"],[1.0,\"#f0f921\"]],\"sequentialminus\":[[0.0,\"#0d0887\"],[0.1111111111111111,\"#46039f\"],[0.2222222222222222,\"#7201a8\"],[0.3333333333333333,\"#9c179e\"],[0.4444444444444444,\"#bd3786\"],[0.5555555555555556,\"#d8576b\"],[0.6666666666666666,\"#ed7953\"],[0.7777777777777778,\"#fb9f3a\"],[0.8888888888888888,\"#fdca26\"],[1.0,\"#f0f921\"]]},\"colorway\":[\"#636efa\",\"#EF553B\",\"#00cc96\",\"#ab63fa\",\"#FFA15A\",\"#19d3f3\",\"#FF6692\",\"#B6E880\",\"#FF97FF\",\"#FECB52\"],\"font\":{\"color\":\"#2a3f5f\"},\"geo\":{\"bgcolor\":\"white\",\"lakecolor\":\"white\",\"landcolor\":\"#E5ECF6\",\"showlakes\":true,\"showland\":true,\"subunitcolor\":\"white\"},\"hoverlabel\":{\"align\":\"left\"},\"hovermode\":\"closest\",\"mapbox\":{\"style\":\"light\"},\"paper_bgcolor\":\"white\",\"plot_bgcolor\":\"#E5ECF6\",\"polar\":{\"angularaxis\":{\"gridcolor\":\"white\",\"linecolor\":\"white\",\"ticks\":\"\"},\"bgcolor\":\"#E5ECF6\",\"radialaxis\":{\"gridcolor\":\"white\",\"linecolor\":\"white\",\"ticks\":\"\"}},\"scene\":{\"xaxis\":{\"backgroundcolor\":\"#E5ECF6\",\"gridcolor\":\"white\",\"gridwidth\":2,\"linecolor\":\"white\",\"showbackground\":true,\"ticks\":\"\",\"zerolinecolor\":\"white\"},\"yaxis\":{\"backgroundcolor\":\"#E5ECF6\",\"gridcolor\":\"white\",\"gridwidth\":2,\"linecolor\":\"white\",\"showbackground\":true,\"ticks\":\"\",\"zerolinecolor\":\"white\"},\"zaxis\":{\"backgroundcolor\":\"#E5ECF6\",\"gridcolor\":\"white\",\"gridwidth\":2,\"linecolor\":\"white\",\"showbackground\":true,\"ticks\":\"\",\"zerolinecolor\":\"white\"}},\"shapedefaults\":{\"line\":{\"color\":\"#2a3f5f\"}},\"ternary\":{\"aaxis\":{\"gridcolor\":\"white\",\"linecolor\":\"white\",\"ticks\":\"\"},\"baxis\":{\"gridcolor\":\"white\",\"linecolor\":\"white\",\"ticks\":\"\"},\"bgcolor\":\"#E5ECF6\",\"caxis\":{\"gridcolor\":\"white\",\"linecolor\":\"white\",\"ticks\":\"\"}},\"title\":{\"x\":0.05},\"xaxis\":{\"automargin\":true,\"gridcolor\":\"white\",\"linecolor\":\"white\",\"ticks\":\"\",\"title\":{\"standoff\":15},\"zerolinecolor\":\"white\",\"zerolinewidth\":2},\"yaxis\":{\"automargin\":true,\"gridcolor\":\"white\",\"linecolor\":\"white\",\"ticks\":\"\",\"title\":{\"standoff\":15},\"zerolinecolor\":\"white\",\"zerolinewidth\":2}}},\"xaxis\":{\"anchor\":\"y\",\"domain\":[0.0,1.0],\"title\":{\"text\":\"Quarter Ending\"}},\"yaxis\":{\"anchor\":\"x\",\"domain\":[0.0,1.0],\"title\":{\"text\":\"value\"}},\"legend\":{\"title\":{\"text\":\"variable\"},\"tracegroupgap\":0},\"title\":{\"text\":\"Customer Satisfaction\"},\"barmode\":\"relative\"},                        {\"responsive\": true}                    ).then(function(){\n",
       "                            \n",
       "var gd = document.getElementById('f0e558b6-44f5-43c2-9d75-eb717daba4bc');\n",
       "var x = new MutationObserver(function (mutations, observer) {{\n",
       "        var display = window.getComputedStyle(gd).display;\n",
       "        if (!display || display === 'none') {{\n",
       "            console.log([gd, 'removed!']);\n",
       "            Plotly.purge(gd);\n",
       "            observer.disconnect();\n",
       "        }}\n",
       "}});\n",
       "\n",
       "// Listen for the removal of the full notebook cells\n",
       "var notebookContainer = gd.closest('#notebook-container');\n",
       "if (notebookContainer) {{\n",
       "    x.observe(notebookContainer, {childList: true});\n",
       "}}\n",
       "\n",
       "// Listen for the clearing of the current output cell\n",
       "var outputEl = gd.closest('.output');\n",
       "if (outputEl) {{\n",
       "    x.observe(outputEl, {childList: true});\n",
       "}}\n",
       "\n",
       "                        })                };                });            </script>        </div>"
      ]
     },
     "metadata": {},
     "output_type": "display_data"
    }
   ],
   "source": [
    "Customer = px.bar(CustomerSatisfaction, x='Quarter Ending', y=['Electricity', 'Electricity new methodology'], labels={'x':'Quarter Endibg', 'y':'Electric Companies'}, title='Customer Satisfaction')\n",
    "Customer"
   ]
  },
  {
   "cell_type": "code",
   "execution_count": 55,
   "metadata": {},
   "outputs": [
    {
     "data": {
      "text/plain": [
       "'https://plotly.com/~onik321/11/'"
      ]
     },
     "execution_count": 55,
     "metadata": {},
     "output_type": "execute_result"
    }
   ],
   "source": [
    "py.plot(Customer, filename = 'Customer Satisfaction', auto_open=False)"
   ]
  },
  {
   "cell_type": "code",
   "execution_count": 53,
   "metadata": {},
   "outputs": [],
   "source": [
    "#Hardest part was formatting the date. As it had different formatting. CHALLENGE\n",
    "#Blue shows the customer satisfaction over the period of time from March 2012 to December 2016\n",
    "#Red shows the customer satisfaction from March 2017 to December 2017 for Electricity New Methodology\n",
    "#Altough the data for Electricity and Electricity New Methodology do not have the same number of inputs, we can say the Electricity New Methodology has a higher satisfaction levell."
   ]
  },
  {
   "cell_type": "code",
   "execution_count": null,
   "metadata": {},
   "outputs": [],
   "source": []
  }
 ],
 "metadata": {
  "kernelspec": {
   "display_name": "Python 3",
   "language": "python",
   "name": "python3"
  },
  "language_info": {
   "codemirror_mode": {
    "name": "ipython",
    "version": 3
   },
   "file_extension": ".py",
   "mimetype": "text/x-python",
   "name": "python",
   "nbconvert_exporter": "python",
   "pygments_lexer": "ipython3",
   "version": "3.8.5"
  }
 },
 "nbformat": 4,
 "nbformat_minor": 4
}
